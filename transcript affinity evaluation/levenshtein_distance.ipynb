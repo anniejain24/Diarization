{
 "cells": [
  {
   "cell_type": "code",
   "execution_count": 2,
   "metadata": {},
   "outputs": [
    {
     "name": "stdout",
     "output_type": "stream",
     "text": [
      "0.1\n",
      "0.1\n",
      "0.1\n",
      "0.9\n",
      "0.9\n",
      "0.9\n"
     ]
    }
   ],
   "source": [
    "from strsimpy.normalized_levenshtein import NormalizedLevenshtein\n",
    "\n",
    "normalized_levenshtein = NormalizedLevenshtein()\n",
    "print(normalized_levenshtein.distance('My string', 'My $string'))\n",
    "print(normalized_levenshtein.distance('My string', 'My $string'))\n",
    "print(normalized_levenshtein.distance('My string', 'My $string'))\n",
    "\n",
    "print(normalized_levenshtein.similarity('My string', 'My $string'))\n",
    "print(normalized_levenshtein.similarity('My string', 'My $string'))\n",
    "print(normalized_levenshtein.similarity('My string', 'My $string'))"
   ]
  },
  {
   "cell_type": "code",
   "execution_count": 44,
   "metadata": {},
   "outputs": [],
   "source": [
    "# get original transcript\n",
    "\n",
    "transcript_id = '10_0991_331330'\n",
    "import pandas as pd\n",
    "import nltk\n",
    "from nltk.tokenize import word_tokenize\n",
    "from nltk.tokenize import WhitespaceTokenizer\n",
    "\n",
    "def read_transcript_from_id(transcript_id):\n",
    "\n",
    "    path_to_data_folder = '/archive/shared/sim_center/shared/ameer/'\n",
    "    # lookinto this dictionary to find the path\n",
    "    # can also manually create the path and it would be faster but not by much\n",
    "    merged_lookup = pd.read_csv(path_to_data_folder + 'grade_lookupv5.csv')\n",
    "    transcript = ''\n",
    "\n",
    "    path = merged_lookup[merged_lookup.id == transcript_id].path.iloc[0]\n",
    "    with open(path, 'r') as file:\n",
    "        lines = file.readlines()\n",
    "    for line in lines:\n",
    "        if line != '\\n':\n",
    "            tok_line = line.split(' ')\n",
    "            for i in range(len(tok_line)):\n",
    "                transcript += tok_line[i]+ ' '\n",
    "\n",
    "\n",
    "    return transcript\n",
    "    "
   ]
  },
  {
   "cell_type": "code",
   "execution_count": 45,
   "metadata": {},
   "outputs": [],
   "source": [
    "transcript = read_transcript_from_id(transcript_id)"
   ]
  },
  {
   "cell_type": "code",
   "execution_count": 46,
   "metadata": {},
   "outputs": [
    {
     "data": {
      "text/plain": [
       "\" Learners, you may begin your patient station, remove your cover sheet, jot down any... Thank you. Come in. Come on in, man. Hello, Mr. Pimbleton. Hi, my name is Coleman. I'm a medical student at UT Southwestern. I am here to ask you some questions. I just want to know how you are feeling today. I've been feeling sick to my stomach. Now I throw one up, I feel not good. Okay, when did this start? It started getting nauseous. I was feeling nausea. I had a stomachache. I felt nause up. I am not good. Okay, when did this start? I started getting nauseous two days ago. Threw up the first time yesterday after breakfast, about 20 minutes after I ate. Any other episodes of vomiting? Yeah, I threw up three or four times yesterday and then after breakfast today about five minutes after I ate. Okay. And what does your vomit look like? It's just small bits of undigested food, whatever I eat. Any blood in it? No. No? No Bile? No Just the chunks of food? No Okay Now this has been going on for just two days. Has this happened before? No, never. Okay. And does anything make it worse? Uh, eating. Yeah. Yeah, anything makes it better? Not really, other than not eating Okay Is there any associated with the vomiting? Yeah, I got a little mild pain in my abdomen there. Okay, on a scale of 1 to 10, about how bad, how would you describe it? Oh, it's like a 3. Yeah. Just kind of an irritation. Okay. And so if you don't eat, do you get nauseous still? Oh, yeah. So nausea is there all the time. Okay, nauseas. Any fevers? No, no fever. You mean chills? Chills? No. If you don't mind me asking, what are you usually eating at these meals? I don' know, like for breakfast I usually have scrambled eggs and bacon and toast. Okay. No changes in your diet? No change in diet. Okay, okay. Okay No changes in your diet? No change in diet. Okay. Have you taken any medication for this? Over the counter medications? No. Alrighty. Anything else that you have to share that would help us like diagnose what this is any any other changes any others that that's you're having at home no no nothing specific nothing comes to mind i'm sorry another comes up on mine okay and then i imagine loss of appetite I imagine loss of appetite as well. Yeah, it's decreased as you start throwing up. Okay, if I could just ask you a few questions now about your past medical history. Sure. Have you been diagnosed with any chronic illnesses? Oh, let's see. Hypertension. I've got osteoarthritis in both my knees. I've got osteoarthritis in both my knees and then I get my lower back, I have chronic back pain from that. I think that's all. Do you take any medications at home? Yeah, I take verapamil, they prescribe up for hypertension. I take hydrocortone and Tylenol. That helps my back and my knees, actually. Okay. I'll ask you a few questions now about your surgical history. Have you had any prior surgeries? No. And I want to ask you some questions about your family history? Has anyone in your family been diagnosed with a chronic illness or disease? No, my parents both died of old age. My siblings are in good health. Good to hear. That's good to hear, that's phenomenal. And then I'd just like to ask you some questions lastly about social history. Any alcohol use? No. Any tobacco products used? No Any drugs? Drugs never used. Just what I told you. Just these medications? Yeah Do you feel safe at home? I'm sorry? Yeah! Do you get married? Yeah Or wife and I at home. Yeah Good to hear. Good. At this point I would like to perform a brief physical exam. If I could have you sit on the on a Sure. You don't have to lay back just yet. All right. I would like... I'm sorry. I still need these rooms. How's your day been otherwise besides the... Man, if I get rid of this throwing up, it'd be better. Yeah. I can't imagine that's comfortable. No, it's not. What do you do for work? Oh, I'm retired. Yeah, but you don't mind me asking your age. How old are you? What do you do for work? Oh, I'm retired. Oh. Yeah. If you don't mind me asking your age, how old are you? 55. 55... That's nice, that's early. You're retired? What did you before that? I worked for General Motors. Oh yeah, Chimbley Live.? I worked for General Motors. On the assembly line. Oh, I'm a Ford guy. Sorry. That's okay. Just gonna take a look. Deep breath. Okay. No back pain? No. Just lower back from the... Yeah. Okay Okay Okay Okay Okay Okay Okay Okay Okay Okay Okay Okay Okay Okay Okay Okay Okay Okay Okay Okay Okay Okay Okay Okay Yeah. Okay. And then if you don't mind at this point, I'll have you lay back on the table. Alright. We'll do an abdominal exam. Alright First, if don' mind, we're going to lift up your tap. Just look. That's fine. Okay. Alright. Let's take a listen. Do a little palpation, tell me if you feel anything, okay? Alright. Any pain? Nope. Pain? Nope? Any painting? Nope! Pain here? Nope Alright, Mr. Pribbleton, why don't you sit back up. Alright. And if you would like to feel more comfortable you can stay seated there or go back to the chair, whichever one you prefer. Well. You don t have to worry, it might be something serious. Alright well, that s never all the way off the table, but I can certainly say when it's further down on the table. Let's just go over real quickly what I think you might have and what could be causing these symptoms. Okay. The way you describe your vomiting, sounds like it's not getting very far down your digestive tract so that makes me start to think of things that are closer to the stomach in a song place and it is possible some people over time they can get that constriction of their esophagus which makes it less uh dilated I guess for food to pass through and so we can do something it's called a barium swallow study and we would just look at to make sure that your esopagus goes all the way down to your stomach and that there's no problems there another option although it likely you could have an obstruction CT scan of your out just to see if there's anything any masses or changes that could be blocking that from your side and then something else if we still can't figure out what's going on we could also do an endoscopy where GI doctors would put a camera down your throat just see it there any any ulcers or concerning changes but your lack of fevers and other symptoms make me think that this is either something to do with the digestive tract or make quick viral gastric viral bug okay Oh, okay. So I'm not concerned for any serious infections. Do you have any questions about that? No, I guess not. Okay. I just want to get it taken care of so I don't feel better. So most likely it could resolve on its own, but we're going to do those tests to make sure that it's not anything else that could Be alarming good. Does that sound like a plan that you're you bet comfortable with sure Paul through that? Yeah. Oh, yeah Do you have any questions? I? Guess not Okay, get this done today. Thank you. Thank You. It was good to see you! Okay, take care. I'm going to put it in the fridge with a spoon. I'll try it. I can't eat this. I have to do it again. I will try again with my hands. I don't know if I should do this or not. I think I did it right. I ate it all. I was hungry. I want to go to the bathroom. I need to take a shower. I am hungry, too. I feel like I've been eating too much. I eat I'm going to go ahead and do that. so so Thank you. Learners, your time is up. Please exit your patient station. Log into SimIQ using your UT credentials. Okay. Thank you. \""
      ]
     },
     "execution_count": 46,
     "metadata": {},
     "output_type": "execute_result"
    }
   ],
   "source": [
    "transcript"
   ]
  },
  {
   "cell_type": "code",
   "execution_count": 50,
   "metadata": {},
   "outputs": [],
   "source": [
    "diarized_transcript = '/archive/shared/sim_center/shared/annie/GPT4 3-chunk/nausea-3.txt'\n",
    "\n",
    "def reconstruct_transcript(path): \n",
    "    transcript = ''\n",
    "    with open(path, 'r') as file:\n",
    "        lines = file.readlines()\n",
    "    for line in lines[1:]:\n",
    "        if line != '\\n':\n",
    "            tok_line = line.split(' ')\n",
    "            for i in range(1,len(tok_line)):\n",
    "                if tok_line[i] != '\\n': transcript += tok_line[i]+ ' '\n",
    "    return transcript\n",
    "\n",
    "    \n"
   ]
  },
  {
   "cell_type": "code",
   "execution_count": 48,
   "metadata": {},
   "outputs": [],
   "source": [
    "reconstructed = reconstruct_transcript(diarized_transcript)"
   ]
  },
  {
   "cell_type": "code",
   "execution_count": 49,
   "metadata": {},
   "outputs": [
    {
     "data": {
      "text/plain": [
       "\"Learners, you may begin your patient station, remove your cover sheet, jot down any... Thank you. \\n Come in. \\n Come on in, man. Hello, Mr. Pimbleton. Hi, my name is Coleman. I'm a medical student at UT Southwestern. I am here to ask you some questions. I just want to know how you are feeling today. \\n I've been feeling sick to my stomach. Now I throw one up, I feel not good. \\n Okay, when did this start? \\n It started getting nauseous. I was feeling nausea. I had a stomachache. I felt nause up. I am not good. \\n Okay, when did this start? \\n I started getting nauseous two days ago. Threw up the first time yesterday after breakfast, about 20 minutes after I ate. \\n Any other episodes of vomiting? \\n Yeah, I threw up three or four times yesterday and then after breakfast today about five minutes after I ate. \\n Okay. And what does your vomit look like? \\n It's just small bits of undigested food, whatever I eat. \\n Any blood in it? \\n No.\\n No? No Bile? \\n No Just the chunks of food? \\n No\\n Okay Now this has been going on for just two days. Has this happened before? \\n No, never. \\n Okay. And does anything make it worse? \\n Uh, eating. Yeah. \\n Yeah, anything makes it better? \\n Not really, other than not eating. \\n Okay Is there any associated with the vomiting? \\n Yeah, I got a little mild pain in my abdomen there. \\n Okay, on a scale of 1 to 10, about how bad, how would you describe it? \\n Oh, it's like a 3. Just kind of an irritation. \\n Okay. And so if you don't eat, do you get nauseous still? \\n Oh, yeah. So nausea is there all the time. \\n Okay, nauseas. Any fevers? \\n No, no fever. \\n You mean chills? \\n Chills? No. \\n If you don't mind me asking, what are you usually eating at these meals? \\n I don' know, like for breakfast I usually have scrambled eggs and bacon and toast. \\n Okay. No changes in your diet? \\n No change in diet. \\n Okay, okay. \\n Okay No changes in your diet? \\n No change in diet. \\n Okay. Have you taken any medication for this? Over the counter medications? \\n No. \\n Alrighty. Anything else that you have to share that would help us like diagnose what this is any any other changes any others that that's you're having at home \\n no no nothing specific nothing comes to mind i'm sorry another comes up on mine okay \\n and then i imagine loss of appetite \\n I imagine loss of appetite as well. \\n Yeah, it's decreased as you start throwing up. Okay, if I could just ask you a few questions now about your past medical history. \\n Sure. \\n Have you been diagnosed with any chronic illnesses? \\n Oh, let's see. Hypertension. I've got osteoarthritis in both my knees. I've got osteoarthritis in both my knees and then I get my lower back, I have chronic back pain from that. I think that's all.\\n Do you take any medications at home?\\n Yeah, I take verapamil, they prescribe up for hypertension. I take hydrocortone and Tylenol. That helps my back and my knees, actually.\\n Okay. I'll ask you a few questions now about your surgical history. Have you had any prior surgeries?\\n No.\\n And I want to ask you some questions about your family history? Has anyone in your family been diagnosed with a chronic illness or disease?\\n No, my parents both died of old age. My siblings are in good health.\\n Good to hear. That's good to hear, that's phenomenal. And then I'd just like to ask you some questions lastly about social history. Any alcohol use?\\n No.\\n Any tobacco products used?\\n No\\n Any drugs?\\n Drugs never used. Just what I told you.\\n Just these medications?\\n Yeah\\n Do you feel safe at home?\\n I'm sorry?\\n Yeah!\\n Do you get married?\\n Yeah\\n Or wife and I at home.\\n Yeah\\n Good to hear.\\n Good. At this point I would like to perform a brief physical exam. If I could have you sit on the\\n Sure.\\n You don't have to lay back just yet. All right. I would like... I'm sorry. I still need these rooms.\\n How's your day been otherwise besides the...\\n Man, if I get rid of this throwing up, it'd be better.\\n Yeah. \\n I can't imagine that's comfortable.\\n No, it's not. What do you do for work?\\n Oh, I'm retired.\\n Yeah, but you don't mind me asking your age. How old are you?\\n What do you do for work?\\n Oh, I'm retired.\\n Oh. \\n Yeah. If you don't mind me asking your age, how old are you?\\n 55.\\n 55... That's nice, that's early. You're retired? What did you before that?\\n I worked for General Motors.\\n Oh yeah, Chimbley Live.?\\n I worked for General Motors. On the assembly line.\\n Oh, I'm a Ford guy. Sorry.\\n That's okay. \\n Just gonna take a look.\\n Deep breath. Okay. No back pain?\\n No.\\n Just lower back from the...\\n Yeah.\\n Okay\\n Okay\\n Okay\\n Okay\\n Okay\\n Okay\\n Okay\\n Okay\\n Okay\\n Okay\\n Okay\\n Okay Okay Okay Okay Okay Okay Okay Okay Okay Okay Okay Okay Okay Yeah. Okay. And then if you don't mind at this point, I'll have you lay back on the table.\\n Alright.\\n We'll do an abdominal exam. Alright. First, if don't mind, we're going to lift up your tap. Just look. That's fine. Okay.\\n Alright.\\n Let's take a listen. Do a little palpation, tell me if you feel anything, okay?\\n Alright.\\n Any pain?\\n Nope.\\n Pain?\\n Nope?\\n Any painting?\\n Nope!\\n Pain here?\\n Nope.\\n Alright, Mr. Pribbleton, why don't you sit back up. Alright. And if you would like to feel more comfortable you can stay seated there or go back to the chair, whichever one you prefer.\\n Well. You don’t have to worry, it might be something serious.\\n Alright well, that’s never all the way off the table, but I can certainly say when it's further down on the table. Let's just go over real quickly what I think you might have and what could be causing these symptoms. Okay. The way you describe your vomiting, sounds like it's not getting very far down your digestive tract so that makes me start to think of things that are closer to the stomach in a song place and it is possible some people over time they can get that constriction of their esophagus which makes it less uh dilated I guess for food to pass through and so we can do something it's called a barium swallow study and we would just look at to make sure that your esopagus goes all the way down to your stomach and that there's no problems there another option although it likely you could have an obstruction CT scan of your out just to see if there's anything any masses or changes that could be blocking that from your side and then something else if we still can't figure out what's going on we could also do an endoscopy where GI doctors would put a camera down your throat just see it there any any ulcers or concerning changes but your lack of fevers and other symptoms make me think that this is either something to do with the digestive tract or make quick viral gastric viral bug okay\\n Oh, okay.\\n So I'm not concerned for any serious infections. Do you have any questions about that?\\n No, I guess not.\\n Okay. I just want to get it taken care of so I don’t feel better. So most likely it could resolve on its own, but we're going to do those tests to make sure that it's not anything else that could Be alarming good. Does that sound like a plan that you're you bet comfortable with?\\n Sure. Yeah.\\n Oh, yeah. Do you have any questions?\\n I? Guess not.\\n Okay, get this done today. Thank you. Thank You. It was good to see you!\\n Okay, take care.\\n Learners, your time is up. Please exit your patient station. Log into SimIQ using your UT credentials.\\n Okay. Thank you. \""
      ]
     },
     "execution_count": 49,
     "metadata": {},
     "output_type": "execute_result"
    }
   ],
   "source": [
    "reconstructed"
   ]
  }
 ],
 "metadata": {
  "kernelspec": {
   "display_name": "pf",
   "language": "python",
   "name": "python3"
  },
  "language_info": {
   "codemirror_mode": {
    "name": "ipython",
    "version": 3
   },
   "file_extension": ".py",
   "mimetype": "text/x-python",
   "name": "python",
   "nbconvert_exporter": "python",
   "pygments_lexer": "ipython3",
   "version": "3.9.18"
  }
 },
 "nbformat": 4,
 "nbformat_minor": 2
}
