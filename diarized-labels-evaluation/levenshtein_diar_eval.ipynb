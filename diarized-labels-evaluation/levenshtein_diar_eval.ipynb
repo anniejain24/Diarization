{
 "cells": [
  {
   "cell_type": "code",
   "execution_count": 1,
   "metadata": {},
   "outputs": [
    {
     "name": "stdout",
     "output_type": "stream",
     "text": [
      "0.1\n",
      "0.1\n",
      "0.1\n",
      "0.9\n",
      "0.9\n",
      "0.9\n"
     ]
    }
   ],
   "source": [
    "from strsimpy.normalized_levenshtein import NormalizedLevenshtein\n",
    "\n",
    "normalized_levenshtein = NormalizedLevenshtein()\n",
    "print(normalized_levenshtein.distance('My string', 'My $string'))\n",
    "print(normalized_levenshtein.distance('My string', 'My $string'))\n",
    "print(normalized_levenshtein.distance('My string', 'My $string'))\n",
    "\n",
    "print(normalized_levenshtein.similarity('My string', 'My $string'))\n",
    "print(normalized_levenshtein.similarity('My string', 'My $string'))\n",
    "print(normalized_levenshtein.similarity('My string', 'My $string'))\n",
    "# get original transcript"
   ]
  },
  {
   "cell_type": "code",
   "execution_count": 2,
   "metadata": {},
   "outputs": [],
   "source": [
    "transcript_id = '10_0991_331330'\n",
    "import pandas as pd\n",
    "import nltk\n",
    "from nltk.tokenize import word_tokenize\n",
    "from nltk.tokenize import WhitespaceTokenizer\n",
    "\n",
    "def read_transcript_from_id(transcript_id):\n",
    "\n",
    "    path_to_data_folder = '/archive/shared/sim_center/shared/ameer/'\n",
    "    # lookinto this dictionary to find the path\n",
    "    # can also manually create the path and it would be faster but not by much\n",
    "    merged_lookup = pd.read_csv(path_to_data_folder + 'grade_lookupv5.csv')\n",
    "    transcript = ''\n",
    "\n",
    "    path = merged_lookup[merged_lookup.id == transcript_id].path.iloc[0]\n",
    "    with open(path, 'r') as file:\n",
    "        lines = file.readlines()\n",
    "    for line in lines:\n",
    "        if line != '\\n':\n",
    "            tok_line = line.split(' ')\n",
    "            for i in range(len(tok_line)):\n",
    "                transcript += ' ' + tok_line[i]\n",
    "\n",
    "\n",
    "    return transcript"
   ]
  },
  {
   "cell_type": "code",
   "execution_count": 3,
   "metadata": {},
   "outputs": [],
   "source": [
    "diarized_transcript = '/archive/shared/sim_center/shared/annie/GPT4 3-chunk/'\n",
    "id = '01_0542_298135'\n",
    "def reconstruct_transcript(path, id): \n",
    "    path = path + id + '.txt'\n",
    "    with open(path, 'r') as file:\n",
    "        lines = file.readlines()\n",
    " \n",
    "    out = []\n",
    "    \n",
    "    for line in lines:\n",
    "        if line.find(':')==-1: continue\n",
    "        temp = {}\n",
    "        temp['speaker'] = line[:line.find(':')]\n",
    "        temp['text'] = line[line.find(':') + 1: ]\n",
    "        out.append(temp)\n",
    "\n",
    "    return out"
   ]
  },
  {
   "cell_type": "code",
   "execution_count": 4,
   "metadata": {},
   "outputs": [],
   "source": [
    "diar = reconstruct_transcript(diarized_transcript, id)"
   ]
  },
  {
   "cell_type": "code",
   "execution_count": 5,
   "metadata": {},
   "outputs": [],
   "source": [
    "golden_transcript = '/archive/shared/sim_center/shared/annie/gold-standard-diarized/'\n",
    "id = '01_0542_298135'\n",
    "\n",
    "gold = reconstruct_transcript(golden_transcript, id)"
   ]
  },
  {
   "cell_type": "code",
   "execution_count": 6,
   "metadata": {},
   "outputs": [],
   "source": [
    "def consolidate_transcript(transcript):\n",
    "    \n",
    "    new = []\n",
    "    new.append({'speaker': transcript[0]['speaker'], 'text': transcript[0]['text']})\n",
    "    \n",
    "    for i in range(1, len(transcript)):\n",
    "        this = {}\n",
    "        if transcript[i]['speaker'] == transcript[i-1]['speaker']:\n",
    "            new[-1]['text'] += transcript[i]['text']\n",
    "        else:\n",
    "            this['speaker'] = transcript[i]['speaker']\n",
    "            this['text'] = transcript[i]['text']\n",
    "            new.append(this)\n",
    "    \n",
    "    return new"
   ]
  },
  {
   "cell_type": "code",
   "execution_count": 7,
   "metadata": {},
   "outputs": [],
   "source": [
    "diar = consolidate_transcript(diar)"
   ]
  },
  {
   "cell_type": "code",
   "execution_count": 8,
   "metadata": {},
   "outputs": [],
   "source": [
    "gold = consolidate_transcript(gold)"
   ]
  },
  {
   "cell_type": "code",
   "execution_count": 9,
   "metadata": {},
   "outputs": [
    {
     "data": {
      "text/plain": [
       "[{'speaker': 'ID', 'text': ' 01_0542_298135\\n'},\n",
       " {'speaker': 'Instructions',\n",
       "  'text': ' Learners, you may begin your patient station. Please remove your cover sheet, jot down any notes, knock, and then enter. Thank you.\\n'},\n",
       " {'speaker': 'Patient', 'text': \" so so I don't know. Hello?\\n\"},\n",
       " {'speaker': 'Student', 'text': ' Hi, this is Mrs. Miller.\\n'},\n",
       " {'speaker': 'Patient', 'text': ' Yes, yes it is.\\n'},\n",
       " {'speaker': 'Student',\n",
       "  'text': \" Hi Mrs Miller, my name is Jackson Agroz. I'm the medical student working at the clinic today. I am calling to speak about your daughter. \\n\"},\n",
       " {'speaker': 'Patient', 'text': ' What was your name again?\\n'},\n",
       " {'speaker': 'Student', 'text': ' Jackson Agrroz.\\n Okay. Your S-47024. \\n'},\n",
       " {'speaker': 'Patient', 'text': \" That's your OSCE number?\\n\"},\n",
       " {'speaker': 'Student',\n",
       "  'text': ' 427024, yes.\\n Okay, well, OSCENumber21, sorry.\\n'},\n",
       " {'speaker': 'Patient',\n",
       "  'text': \" There we go, thank you.\\n Well, I am glad you called. I was very worried because my daughter has had a cough for a long time, and it just seems it won't go away.\\n\"},\n",
       " {'speaker': 'Student', 'text': ' Okay. How long has it been going on for?\\n'},\n",
       " {'speaker': 'Patient', 'text': ' Five weeks is when it started.\\n'},\n",
       " {'speaker': 'Student',\n",
       "  'text': ' Okay, and can you describe the cough to me?\\n'},\n",
       " {'speaker': 'Patient', 'text': \" It's a dry cough that's almost nonstop.\\n\"},\n",
       " {'speaker': 'Student',\n",
       "  'text': \" Okay? And you said it's been getting worse over these five weeks?\\n\"},\n",
       " {'speaker': 'Patient',\n",
       "  'text': ' Yes. At first it was on and off, but now it is constant.\\n'},\n",
       " {'speaker': 'Student', 'text': ' Okay, has she been vomiting at all?\\n'},\n",
       " {'speaker': 'Patient', 'text': ' No.\\n'},\n",
       " {'speaker': 'Student',\n",
       "  'text': ' Has she has been sick other than the cough? Any fevers, chills, runny nose, anything like that?\\n'},\n",
       " {'speaker': 'Patient',\n",
       "  'text': \" Well, five weeks ago she had had a fever and some nasal congestion and the cough, and it lasted two days. But the coughing is the only thing that didn't go away.\\n\"},\n",
       " {'speaker': 'Student',\n",
       "  'text': ' Okay. So was she seen in clinic at that time, or did she seem like her symptoms got better except for the cough?\\n'},\n",
       " {'speaker': 'Patient',\n",
       "  'text': \" It seemed that her systems got worse. Her symptoms went better. Well, the coughing and the head congestion went away.\\n Do you think she'll need like an antibiotic or something?\\n\"},\n",
       " {'speaker': 'Student',\n",
       "  'text': \" So why don't we, I'll kind of talk you through what I'm thinking of towards the end if you don't mind. I'M just trying to flesh out everything and make sure I don't miss anything. Does that make sense?\\n\"},\n",
       " {'speaker': 'Patient', 'text': ' Yes. \\n'},\n",
       " {'speaker': 'Student',\n",
       "  'text': \" I appreciate your concern, though. I know that it's got to be scary for you.\\n\"},\n",
       " {'speaker': 'Patient', 'text': ' Yes\\n'},\n",
       " {'speaker': 'Student',\n",
       "  'text': ' Has she been doing okay in school with the cough or has she just been staying home?\\n'},\n",
       " {'speaker': 'Patient',\n",
       "  'text': \" She's been going to school. She went to the school at the cough, but the last week she stayed out of gym class.\\n\"},\n",
       " {'speaker': 'Student',\n",
       "  'text': ' Okay. Is the coughing worse with running or activity or anything like that?\\n'},\n",
       " {'speaker': 'Patient',\n",
       "  'text': ' Yes, very, much worse. With the running and the playing with friends.\\n'},\n",
       " {'speaker': 'Student',\n",
       "  'text': ' Okay, has she ever had issues with exercise in the past?\\n'},\n",
       " {'speaker': 'Patient', 'text': \" I don't understand.\\n\"},\n",
       " {'speaker': 'Student',\n",
       "  'text': ' Like, for example, when she runs, does she ever have coughing fits or anything like that?\\n'},\n",
       " {'speaker': 'Patient', 'text': ' Yes.\\n'},\n",
       " {'speaker': 'Student',\n",
       "  'text': ' the last five weeks? Or just these past five weeks.\\n'},\n",
       " {'speaker': 'Patient', 'text': ' These past five weeks\\n'},\n",
       " {'speaker': 'Student',\n",
       "  'text': \" Okay and since the initial start she hasn't had any more fevers or chills or anything like that?\\n\"},\n",
       " {'speaker': 'Patient', 'text': ' No, nothing like that.\\n'},\n",
       " {'speaker': 'Student', 'text': ' Has there been anybody sick around her?\\n'},\n",
       " {'speaker': 'Patient', 'text': ' No one around here has been sick at all.\\n'},\n",
       " {'speaker': 'Student',\n",
       "  'text': ' Before she got sick initially, do you remember if she was, if anybody around had been sick?\\n'},\n",
       " {'speaker': 'Patient', 'text': ' No. Not that I know of.\\n'},\n",
       " {'speaker': 'Student',\n",
       "  'text': \" Okay. Alright. I'm just going to move on to her past medical history. Has Bailey been ill? Has she been in the past? Does she have any medical conditions, I should say?\\n\"},\n",
       " {'speaker': 'Patient',\n",
       "  'text': \" No. No nothing like that. She had like a bout of eczema around two years old. And every once in a while she'll get itchy eyes, nose, throat.\\n\"},\n",
       " {'speaker': 'Student',\n",
       "  'text': ' Okay, does she take anything for allergies?\\n'},\n",
       " {'speaker': 'Patient', 'text': ' No.\\n'},\n",
       " {'speaker': 'Student',\n",
       "  'text': \" Okay, any surgeries that she's had in the past?\\n\"},\n",
       " {'speaker': 'Patient', 'text': ' No, okay.\\n'},\n",
       " {'speaker': 'Student',\n",
       "  'text': ' And as far as family history goes, has there ever been a history of asthma in the family?\\n'},\n",
       " {'speaker': 'Patient',\n",
       "  'text': ' Her dad has a story of as a child, but not now.\\n'},\n",
       " {'speaker': 'Student',\n",
       "  'text': ' Okay? Okay any family histories of high blood pressure?\\n'},\n",
       " {'speaker': 'Patient',\n",
       "  'text': ' Her dad has a history of asthma as a child, but not now.\\n'},\n",
       " {'speaker': 'Student',\n",
       "  'text': ' Okay. Any family history of high blood pressure, diabetes?\\n'},\n",
       " {'speaker': 'Patient', 'text': ' No. \\n'},\n",
       " {'speaker': 'Student',\n",
       "  'text': ' No? Okay, and does she live at home with you and her father?\\n'},\n",
       " {'speaker': 'Patient',\n",
       "  'text': ' She does. My uncle just, I mean her uncle, my brother just moved in with us about a month ago.\\n'},\n",
       " {'speaker': 'Student',\n",
       "  'text': ' Okay does anybody in the us about a month ago. Okay. Does anybody in the house smoke?\\n'},\n",
       " {'speaker': 'Patient', 'text': ' Only outside.\\n'},\n",
       " {'speaker': 'Student', 'text': ' Okay, and who smokes? Your brother or?\\n'},\n",
       " {'speaker': 'Patient', 'text': ' Yeah, me. My brother and her dad.\\n'},\n",
       " {'speaker': 'Student', 'text': ' Okay and does she have any siblings?\\n'},\n",
       " {'speaker': 'Patient', 'text': ' No.\\n'},\n",
       " {'speaker': 'Student', 'text': ' Okay any pets at home?\\n'},\n",
       " {'speaker': 'Patient',\n",
       "  'text': ' We have a dog and two cats, and they go inside and out.\\n'},\n",
       " {'speaker': 'Student',\n",
       "  'text': \" Okay? And Bailey hasn't ever had any issues with the dog or cats before?\\n\"},\n",
       " {'speaker': 'Patient', 'text': ' No, no.\\n'},\n",
       " {'speaker': 'Student',\n",
       "  'text': \" Okay Ms. Miller, so just to kind of, do you mind if I summarize what I've heard of before and just so you can interject if I'm missing anything?\\n\"},\n",
       " {'speaker': 'Patient', 'text': ' Okay.\\n'},\n",
       " {'speaker': 'Student',\n",
       "  'text': \" of fever, runny nose. But ever since then, she has this worsening cough that's kind of progressing and now preventing her from doing everything that she wants to do. No past medical history except for some eczema and maybe some runny nose occasionally. And then her father had asthma. Anything else in particular I'm missing?\\n\"},\n",
       " {'speaker': 'Patient', 'text': ' No, not that I can think of.\\n'},\n",
       " {'speaker': 'Student',\n",
       "  'text': \" So just to walk you through, Ms. Miller, what I'm thinking, I think it's possible that your daughter might have some asthma. She's, especially the fact that there is some smoke exposure. I know that, I mean, I don't know if you've heard of it, but I do know, I feel that you're family members are smoking outside and that can help lessen her exposure, but still considering that she's got a family history of family history asthma and past medical history those tend to kind of run together with asthma it's not definite that that's this is what she has but I would advise coming in to get further pulmonary workup for her to see if she needs an inhaler or something.\\n\"},\n",
       " {'speaker': 'Patient', 'text': ' Okay.\\n'},\n",
       " {'speaker': 'Student',\n",
       "  'text': ' Does that sound agreeable to you? Is that something that you can do to bring her in sometime?\\n'},\n",
       " {'speaker': 'Patient', 'text': ' Yeah. \\n'},\n",
       " {'speaker': 'Student',\n",
       "  'text': \" Okay, perfect. Yeah, absolutely. We can try to make an appointment as soon as possible. It's also possible that she could have just had a viral illness, considering her fever and chills and cough. Those also tend to run together. And cough is something that it usually lasts much longer than the other two and can get really irritating. So it's possible this is just a virus. It could be a real illness. But I would rather be safer than sorry and make sure she gets checked out for asthma as well.\\n\"},\n",
       " {'speaker': 'Patient',\n",
       "  'text': \" Okay. That's great. I'm really worried about this. I'd like to get it cleared up.\\n\"},\n",
       " {'speaker': 'Student',\n",
       "  'text': ' Yeah, absolutely. We can see you as soon as possible.\\n'},\n",
       " {'speaker': 'Patient', 'text': ' Okay, any other questions you have?\\n'},\n",
       " {'speaker': 'Student', 'text': \" No, I think I've got it.\\n\"},\n",
       " {'speaker': 'Patient',\n",
       "  'text': ' All right. Thank you so much. Thank your call. \\n'},\n",
       " {'speaker': 'Student',\n",
       "  'text': \" Thanks. Bye.\\n All right. I'm going to turn it over to you, and I'll see you in a minute.\\n\"},\n",
       " {'speaker': 'Patient', 'text': ' Thank you.\\n'},\n",
       " {'speaker': 'Student', 'text': ' Thank you for your time.\\n'},\n",
       " {'speaker': 'Patient',\n",
       "  'text': ' Thank you for your time, and I hope okay Thank you.\\n'},\n",
       " {'speaker': 'Instructions',\n",
       "  'text': \" Learners, you have five minutes remaining. so I'm going to go ahead and do that. so so so so so so so so okay I'm going to go ahead and do that. so Thank you. so so I'm going to go ahead and do that. so Thank you.\\n Learners, your time is up. Please exit your room and log in to SimIQ using your UT credentials. Thank you.\\n\"}]"
      ]
     },
     "execution_count": 9,
     "metadata": {},
     "output_type": "execute_result"
    }
   ],
   "source": [
    "gold"
   ]
  },
  {
   "cell_type": "code",
   "execution_count": 10,
   "metadata": {},
   "outputs": [],
   "source": [
    "def eval_transcript(ids):\n",
    "    scores = {}\n",
    "    diar_path = '/archive/shared/sim_center/shared/annie/GPT4 3-chunk/' # change as needed\n",
    "    gold_path = '/archive/shared/sim_center/shared/annie/gold-standard-diarized/'\n",
    "    for id in ids:\n",
    "        print(id)\n",
    "        diar = consolidate_transcript(reconstruct_transcript(diar_path, id))\n",
    "        gold = consolidate_transcript(reconstruct_transcript(gold_path, id))\n",
    "        distance = normalized_levenshtein.distance(diar, gold)\n",
    "        similarity = normalized_levenshtein.similarity(diar, gold)\n",
    "        scores[id] = [distance, similarity]\n",
    "    return scores"
   ]
  },
  {
   "cell_type": "code",
   "execution_count": 11,
   "metadata": {},
   "outputs": [],
   "source": [
    "ids = ['01_0542_298135',\n",
    "'01_1080_366142',\n",
    "'02_0036_174595',\n",
    "'02_1056_380177',\n",
    "'03_0028_174553',\n",
    "'04_0043_174686',\n",
    "'05_0033_174804',\n",
    "'06_0079_175106',\n",
    "'07_0068_174641',\n",
    "'08_0029_174576',\n",
    "'09_0029_174582',\n",
    "]"
   ]
  },
  {
   "cell_type": "code",
   "execution_count": 12,
   "metadata": {},
   "outputs": [
    {
     "name": "stdout",
     "output_type": "stream",
     "text": [
      "01_0542_298135\n",
      "01_1080_366142\n",
      "02_0036_174595\n",
      "02_1056_380177\n",
      "03_0028_174553\n",
      "04_0043_174686\n",
      "05_0033_174804\n",
      "06_0079_175106\n",
      "07_0068_174641\n",
      "08_0029_174576\n",
      "09_0029_174582\n"
     ]
    }
   ],
   "source": [
    "results = eval_transcript(ids)"
   ]
  },
  {
   "cell_type": "code",
   "execution_count": 13,
   "metadata": {},
   "outputs": [
    {
     "data": {
      "text/plain": [
       "{'01_0542_298135': [0.18604651162790697, 0.813953488372093],\n",
       " '01_1080_366142': [0.2345679012345679, 0.7654320987654322],\n",
       " '02_0036_174595': [0.5279503105590062, 0.4720496894409938],\n",
       " '02_1056_380177': [0.3867924528301887, 0.6132075471698113],\n",
       " '03_0028_174553': [0.22772277227722773, 0.7722772277227723],\n",
       " '04_0043_174686': [0.2900763358778626, 0.7099236641221374],\n",
       " '05_0033_174804': [0.2782608695652174, 0.7217391304347827],\n",
       " '06_0079_175106': [0.37681159420289856, 0.6231884057971014],\n",
       " '07_0068_174641': [0.41721854304635764, 0.5827814569536424],\n",
       " '08_0029_174576': [0.1038961038961039, 0.8961038961038961],\n",
       " '09_0029_174582': [0.2348993288590604, 0.7651006711409396]}"
      ]
     },
     "execution_count": 13,
     "metadata": {},
     "output_type": "execute_result"
    }
   ],
   "source": [
    "results"
   ]
  },
  {
   "cell_type": "code",
   "execution_count": 14,
   "metadata": {},
   "outputs": [
    {
     "data": {
      "text/plain": [
       "[0.18604651162790697,\n",
       " 0.2345679012345679,\n",
       " 0.5279503105590062,\n",
       " 0.3867924528301887,\n",
       " 0.22772277227722773,\n",
       " 0.2900763358778626,\n",
       " 0.2782608695652174,\n",
       " 0.37681159420289856,\n",
       " 0.41721854304635764,\n",
       " 0.1038961038961039,\n",
       " 0.2348993288590604]"
      ]
     },
     "execution_count": 14,
     "metadata": {},
     "output_type": "execute_result"
    }
   ],
   "source": [
    "[results[token][0] for token in results]"
   ]
  },
  {
   "cell_type": "code",
   "execution_count": 15,
   "metadata": {},
   "outputs": [
    {
     "data": {
      "image/png": "[encoded data removed]",
      "text/plain": [
       "<Figure size 432x288 with 1 Axes>"
      ]
     },
     "metadata": {
      "needs_background": "light"
     },
     "output_type": "display_data"
    }
   ],
   "source": [
    "import matplotlib.pyplot as plt\n",
    "import numpy as np\n",
    "avg_dist = np.mean([results[token][0] for token in results])\n",
    "avg_sim = np.mean([results[token][1] for token in results])\n",
    "measures = ['distance', 'similarity']\n",
    "plt.bar(measures, [avg_dist, avg_sim])\n",
    "plt.ylim(0, 1)\n",
    "plt.title(\"normalized levenshtein distance\")\n",
    "plt.show()"
   ]
  },
  {
   "cell_type": "code",
   "execution_count": 16,
   "metadata": {},
   "outputs": [
    {
     "data": {
      "image/png": "[encoded data removed]",
      "text/plain": [
       "<Figure size 432x288 with 1 Axes>"
      ]
     },
     "metadata": {
      "needs_background": "light"
     },
     "output_type": "display_data"
    }
   ],
   "source": [
    "plt.bar([id[:2] for id in ids], [results[token][1] for token in results])\n",
    "plt.axhline(y = avg_sim, color = 'r', linestyle = '--')\n",
    "plt.show()"
   ]
  },
  {
   "cell_type": "code",
   "execution_count": 17,
   "metadata": {},
   "outputs": [],
   "source": [
    "ids = ['01_0542_298135',\n",
    "#'01_1080_366142',\n",
    "'02_0036_174595',\n",
    "#'02_1056_380177',\n",
    "'03_0028_174553',\n",
    "'04_0043_174686',\n",
    "'05_0033_174804',\n",
    "'06_0079_175106',\n",
    "'07_0068_174641',\n",
    "'08_0029_174576',\n",
    "'09_0029_174582',\n",
    "]"
   ]
  },
  {
   "cell_type": "code",
   "execution_count": 18,
   "metadata": {},
   "outputs": [
    {
     "name": "stdout",
     "output_type": "stream",
     "text": [
      "01_0542_298135\n",
      "02_0036_174595\n",
      "03_0028_174553\n",
      "04_0043_174686\n",
      "05_0033_174804\n",
      "06_0079_175106\n",
      "07_0068_174641\n",
      "08_0029_174576\n",
      "09_0029_174582\n"
     ]
    },
    {
     "data": {
      "image/png": "[encoded data removed]",
      "text/plain": [
       "<Figure size 432x288 with 1 Axes>"
      ]
     },
     "metadata": {
      "needs_background": "light"
     },
     "output_type": "display_data"
    }
   ],
   "source": [
    "def eval_transcript(ids):\n",
    "    scores = {}\n",
    "    diar_path = '/archive/shared/sim_center/shared/annie/GPT3.5 complete/' # change as needed\n",
    "    gold_path = '/archive/shared/sim_center/shared/annie/gold-standard-diarized/'\n",
    "    for id in ids:\n",
    "        print(id)\n",
    "        diar = consolidate_transcript(reconstruct_transcript(diar_path, id))\n",
    "        gold = consolidate_transcript(reconstruct_transcript(gold_path, id))\n",
    "        distance = normalized_levenshtein.distance(diar, gold)\n",
    "        similarity = normalized_levenshtein.similarity(diar, gold)\n",
    "        scores[id] = [distance, similarity]\n",
    "    return scores\n",
    "\n",
    "results35 = eval_transcript(ids)\n",
    "import matplotlib.pyplot as plt\n",
    "import numpy as np\n",
    "avg_dist35 = np.mean([results35[token][0] for token in results35])\n",
    "avg_sim35 = np.mean([results35[token][1] for token in results35])\n",
    "measures = ['distance', 'similarity']\n",
    "plt.bar(measures, [avg_dist35, avg_sim35])\n",
    "plt.ylim(0, 1)\n",
    "plt.title(\"normalized levenshtein distance\")\n",
    "plt.show()"
   ]
  },
  {
   "cell_type": "code",
   "execution_count": 19,
   "metadata": {},
   "outputs": [
    {
     "data": {
      "image/png": "[encoded data removed]",
      "text/plain": [
       "<Figure size 432x288 with 1 Axes>"
      ]
     },
     "metadata": {
      "needs_background": "light"
     },
     "output_type": "display_data"
    }
   ],
   "source": [
    "plt.bar([id[:2] for id in ids], [results35[token][1] for token in results35])\n",
    "plt.axhline(y = avg_sim35, color = 'r', linestyle = '--')\n",
    "plt.ylim(0, 1)\n",
    "plt.show()"
   ]
  },
  {
   "cell_type": "code",
   "execution_count": 20,
   "metadata": {},
   "outputs": [
    {
     "data": {
      "text/plain": [
       "[{'speaker': 'ID', 'text': ' 01_0542_298135\\n'},\n",
       " {'speaker': 'Student',\n",
       "  'text': \" Thank you. I'm sorry. Are you Mr. Daniel? \\n\"},\n",
       " {'speaker': 'Patient', 'text': ' Yes. \\n'},\n",
       " {'speaker': 'Student',\n",
       "  'text': \" Hi, Mr. Daniel. My name's Kelsey. I am a medical student here in the clinic. \\n\"},\n",
       " {'speaker': 'Patient', 'text': ' Kelsey, yes. Kelsey? \\n'},\n",
       " {'speaker': 'Student',\n",
       "  'text': \" Kelsey yes, it's right there. Okay. If it is okay with you, I would like to just ask you a few questions about what brought you in today and then do a physical exam. \\n\"},\n",
       " {'speaker': 'Patient', 'text': ' Sounds good. \\n'},\n",
       " {'speaker': 'Student',\n",
       "  'text': ' Okay, so what brought you to the clinic today? \\n'},\n",
       " {'speaker': 'Patient', 'text': ' I had ECIs and a runny nose. \\n'},\n",
       " {'speaker': 'Student',\n",
       "  'text': ' ECI and runny nose, okay. And when did that start? \\n'},\n",
       " {'speaker': 'Patient', 'text': ' About two months ago. \\n'},\n",
       " {'speaker': 'Student',\n",
       "  'text': ' Two months. Two weeks ago? Was there anything different about, like, the kind of work you were doing? \\n'},\n",
       " {'speaker': 'Patient',\n",
       "  'text': \" No, it usually comes around this time every year. You can see the fall, because I've had it for about five years. So where it comes in the Fall, but it's gotten worse the past two weeks. \\n\"},\n",
       " {'speaker': 'Student',\n",
       "  'text': \" Okay, I don't know. For the past five years, every Fall you get this, these itchy eyes, this runny nose. You know that it is coming and then it has gotten worst in the last two weeks? \\n\"},\n",
       " {'speaker': 'Patient', 'text': ' Correct. \\n'},\n",
       " {'speaker': 'Student',\n",
       "  'text': ' Okay, can you kind of tell me what that means? Pretty much, I used to have it maybe once or twice a week. I have it every day. \\n'},\n",
       " {'speaker': 'Patient', 'text': ' Oh, no. \\n'},\n",
       " {'speaker': 'Student',\n",
       "  'text': \" Okay. And when you say that you have a runy nose every time, you mean that I don't have that every day, like your nose is runty every day? Your eyes Like your nose is runny every day, your eyes are itchy every day. \\n\"},\n",
       " {'speaker': 'Patient', 'text': ' Okay. \\n'},\n",
       " {'speaker': 'Student',\n",
       "  'text': \" All right. Anything else that you've noticed with it? Any cough? Any? \\n\"},\n",
       " {'speaker': 'Patient',\n",
       "  'text': \" Sneezing and my throat is irritated from time to time. It's not consistent. \\n\"},\n",
       " {'speaker': 'Student',\n",
       "  'text': ' Okay, so sneezing is irritating. Right. Throat, yeah. Yeah. Have you noticed any phlegm? Like any? \\n'},\n",
       " {'speaker': 'Patient', 'text': ' No. Nothing like that in your throat? \\n'},\n",
       " {'speaker': 'Student',\n",
       "  'text': ' No Okay. And is it worse in the morning or at night or is just kind of the same? \\n'},\n",
       " {'speaker': 'Patient', 'text': ' Uh, mainly when I go outside. \\n'},\n",
       " {'speaker': 'Student', 'text': \" Okay! Where's the outside? \\n\"},\n",
       " {'speaker': 'Patient',\n",
       "  'text': ' Okay, and did anything change five years ago when this started? \\n'},\n",
       " {'speaker': 'Student',\n",
       "  'text': ' Not that I can recall. Okay alright. this started? Not that I can recall. Okay. All right. And these itchy eyes, is it painful or is just itchy? \\n'},\n",
       " {'speaker': 'Patient', 'text': \" It's just itching. \\n\"},\n",
       " {'speaker': 'Student', 'text': ' And then, does anything make it better? \\n'},\n",
       " {'speaker': 'Patient',\n",
       "  'text': \" Uh, going inside. Okay, or going outside after it rains. It's not so bad. \\n\"},\n",
       " {'speaker': 'Student',\n",
       "  'text': \" Does it change at all whether it's depending on whether its sunny outside or not? Or is it just the rain helps? \\n\"},\n",
       " {'speaker': 'Patient',\n",
       "  'text': \" Uh, the Rain helps. It makes it worse when like there's cats and dogs around or high pollen. \\n\"},\n",
       " {'speaker': 'Student',\n",
       "  'text': ' Okay. So you kind of figured out those are the triggers. Cats and Dogs, Pollen, Fall. Yeah. Okay, have you tried to take any medicines? \\n'},\n",
       " {'speaker': 'Patient',\n",
       "  'text': \" Yeah, actually I've taken Claritin and Benadryl. \\n\"},\n",
       " {'speaker': 'Student', 'text': ' Have those helped at all? \\n'},\n",
       " {'speaker': 'Patient',\n",
       "  'text': ' Claritan was okay. Benadyl was great. It just makes me drowsy. \\n'},\n",
       " {'speaker': 'Student',\n",
       "  'text': \" Right, which is hard to live your life tired of it. Yeah. Yeah I can't understand that. Okay, so Clariten and benadyl, benadyl helped a lot, but it's hard to look that way. Okay. All right. And if you had to kind of rate how bothersome these symptoms are, one to ten, one is like it is nothing. Ten is, like, I can't live my life like this. How would you rate it? \\n\"},\n",
       " {'speaker': 'Patient', 'text': ' Seven. \\n'},\n",
       " {'speaker': 'Student',\n",
       "  'text': ' Seven, okay. Yeah. So it gets, it interferes with this, too. \\n'},\n",
       " {'speaker': 'Patient', 'text': ' Right, exactly. \\n'},\n",
       " {'speaker': 'Student',\n",
       "  'text': \" So it's getting, it's like interfering with us. \\n\"},\n",
       " {'speaker': 'Patient',\n",
       "  'text': ' Right, exactly. Especially with like, you know, just things like me and my wife like to play golf. \\n'},\n",
       " {'speaker': 'Student', 'text': ' Yeah. \\n'},\n",
       " {'speaker': 'Patient',\n",
       "  'text': \" So we just can't even do that because I can't be outside too long. I'm just keeping it with my friends. \\n\"},\n",
       " {'speaker': 'Student',\n",
       "  'text': ' Right. Right okay. I cannot understand how that would be frustrating. Yeah I am glad that you came in because, I think we can find a solution for you. \\n'},\n",
       " {'speaker': 'Patient', 'text': ' Sounds good. \\n'},\n",
       " {'speaker': 'Student',\n",
       "  'text': \" And then hopefully you can get back to playing golf and enjoy time outside. Yeah, living your life. Okay, so I'd like to ask you a few more questions about any other symptoms you might be having and also your past medical issues. \\n\"},\n",
       " {'speaker': 'Patient', 'text': ' Okay. \\n'},\n",
       " {'speaker': 'Student',\n",
       "  'text': \" Okay so, I know that you mentioned you've also been sneezing, you have occasional throat pain. Any headaches? \\n\"},\n",
       " {'speaker': 'Patient', 'text': ' No. \\n'},\n",
       " {'speaker': 'Student', 'text': ' Okay any dizziness? \\n'},\n",
       " {'speaker': 'Patient', 'text': ' No. \\n'},\n",
       " {'speaker': 'Student', 'text': ' Any dizziness? No, feeling lightheaded. \\n'},\n",
       " {'speaker': 'Patient', 'text': ' Any ear pain? \\n'},\n",
       " {'speaker': 'Student', 'text': ' No. \\n'},\n",
       " {'speaker': 'Instructions', 'text': ' End of transcript.\\n'},\n",
       " {'speaker': 'Student', 'text': ' Any shortness of breath? \\n'},\n",
       " {'speaker': 'Patient', 'text': ' No. \\n'},\n",
       " {'speaker': 'Student', 'text': ' Feeling any palpitations in your heart? \\n'},\n",
       " {'speaker': 'Patient', 'text': ' No. \\n'},\n",
       " {'speaker': 'Student', 'text': ' Okay, is it worse at all with activity? \\n'},\n",
       " {'speaker': 'Patient', 'text': ' No, not associated with that activity. \\n'},\n",
       " {'speaker': 'Student',\n",
       "  'text': \" Okay, and any other symptoms that you've noticed? \\n\"},\n",
       " {'speaker': 'Patient',\n",
       "  'text': ' Just a sneeze and, yeah, a scratchy throat. \\n'},\n",
       " {'speaker': 'Student',\n",
       "  'text': ' Okay, when you say irritated, is it like tense pain? Is it scratchy? \\n'},\n",
       " {'speaker': 'Patient', 'text': ' Kind of scratchiness, honestly. \\n'},\n",
       " {'speaker': 'Student',\n",
       "  'text': ' Okay, do you have any chronic medical conditions, chronic mental problems? \\n'},\n",
       " {'speaker': 'Patient', 'text': ' No. \\n'},\n",
       " {'speaker': 'Student',\n",
       "  'text': ' Okay, any medicines that you take every day, regularly? \\n'},\n",
       " {'speaker': 'Patient', 'text': ' Yeah, I take a multivitamin. \\n'},\n",
       " {'speaker': 'Student', 'text': ' Okay, any allergies that you know of? \\n'},\n",
       " {'speaker': 'Patient', 'text': ' No. \\n'},\n",
       " {'speaker': 'Student', 'text': ' Okay, any history of hospitalization? \\n'},\n",
       " {'speaker': 'Patient', 'text': ' No, no. \\n'},\n",
       " {'speaker': 'Student', 'text': ' Okay, any surgeries? \\n'},\n",
       " {'speaker': 'Patient', 'text': ' No. \\n'},\n",
       " {'speaker': 'Student',\n",
       "  'text': ' Okay, any family history of any chronic medical conditions? \\n'},\n",
       " {'speaker': 'Patient',\n",
       "  'text': \" My mom has allergies, she has asthma, like me. My dad didn't really have anything. \\n\"},\n",
       " {'speaker': 'Student', 'text': ' Okay. Any alcohol use? \\n'},\n",
       " {'speaker': 'Patient', 'text': ' Yeah, I actually drink wine. \\n'},\n",
       " {'speaker': 'Student',\n",
       "  'text': ' Okay, one full glass. Any history of smoking? \\n'},\n",
       " {'speaker': 'Patient', 'text': ' Oh no, not really at all. \\n'},\n",
       " {'speaker': 'Student', 'text': ' And any history of any drug use? \\n'},\n",
       " {'speaker': 'Patient', 'text': ' No never. \\n'},\n",
       " {'speaker': 'Student', 'text': ' Okay, are you sexually active? \\n'},\n",
       " {'speaker': 'Patient', 'text': \" Yes, I'm active. \\n\"},\n",
       " {'speaker': 'Student', 'text': ' Okay, and with how many partners? \\n'},\n",
       " {'speaker': 'Patient', 'text': ' Just one, my wife. \\n'},\n",
       " {'speaker': 'Student', 'text': ' Are you sexually active? \\n'},\n",
       " {'speaker': 'Patient', 'text': ' Yes, apparently. \\n'},\n",
       " {'speaker': 'Student', 'text': ' Okay, and with how many partners? \\n'},\n",
       " {'speaker': 'Patient', 'text': ' Just one, my wife. \\n'},\n",
       " {'speaker': 'Student', 'text': ' Any issue of STDs or infections? \\n'},\n",
       " {'speaker': 'Patient', 'text': ' No. \\n'},\n",
       " {'speaker': 'Student',\n",
       "  'text': \" Okay, so I'd like to do a physical exam. If you could move over to the table, that would be great. \\n\"},\n",
       " {'speaker': '(Instructions',\n",
       "  'text': ' the doctor performs a physical exam)\\n'},\n",
       " {'speaker': 'Student',\n",
       "  'text': \" Okay, I appreciate you going through all of that. I know that this has been something that's been bothersome for you. So I'd like to discuss the next steps.\\n\"},\n",
       " {'speaker': 'Instructions',\n",
       "  'text': \" Then if he could open your mouth, say ah. Stick your tongue out. Then ah again. Okay. Good deal. I am also going take a look in your ears. This shouldn't hurt, so let me know if it is uncomfortable or you have any pain. Okay? You're going to feel me pull back. Then take a little. Okay. You're going to feel me pull back. Then take a look. Okay, I'm going around and check on the other side. Okay? Your ears look nice and clear. Okay. You have five minutes remaining.\\n\"},\n",
       " {'speaker': 'Student',\n",
       "  'text': \" All right. So like I said, I'm going to feel on your sinuses. Sometimes when your sinuses are full, you can feel it. So I am just going feel right by your cheekbones here. \\n\"},\n",
       " {'speaker': 'Patient', 'text': ' Okay. \\n'},\n",
       " {'speaker': 'Student',\n",
       "  'text': \" All right. Next I will listen to your lungs. Okay, good. Deep breath in and out. Again. Okay. Next, I'd like to listen to your heart. So if it's okay with you, I would like you to lower your down just right here. \\n\"},\n",
       " {'speaker': 'Patient', 'text': ' Okay. \\n'},\n",
       " {'speaker': 'Student',\n",
       "  'text': \" Okay, and you can breathe normally. Okay? And you can breathe normally for yourself. Alright. You can go ahead and take a seat back here. Don't put on your glasses again. All Right. \\n So I'd just like to discuss with you kind of what I'm thinking right now and kind of what the next steps might be. Okay. So what you've described to me so far is this history, you know, five-year history. But it's gotten worse over the last couple of weeks of runny nose, having sneezing, you have this irritated throat, your have these itchy eyes. And that's really been bothersome for you. Seven hundred percent right now. You told me that you notice that it gets worse when you're on cats, dogs, or pollen, and it's worse on your outside. Right? So kind of what I'm thinking right now, we wouldn't expect a virus, you know to come along the same time every year. You know you told your mom has a history of allergies. Right I am thinking that what might be going on is allergies, and so when that's the case, we can do allergy testing to kind of check and see. Do you have a sense of what it might mean if you were able to identify some triggers? But we also might want to do some testing just to see which specific things are bothering you.\\n\"},\n",
       " {'speaker': 'Patient', 'text': ' Okay. \\n'},\n",
       " {'speaker': 'Student',\n",
       "  'text': \" We also can give you some medication that will help with allergies, and we can try that. And I know you said Benadryl worked for you, but it made you drowsy. There are medicines that are similar to Benadryl, but they don't make you tired. That's probably my question. Yeah, so we want you to be sure that we give your one of those because we don you feeling better but not, you know, zoned out. Gotcha. Something else that it might be, might be something, I know that you had asthma when you were a child. Sometimes asthma can come back when your an adult. Right. So we might want to keep an eye out for that in the future. Okay. Otherwise, since it's gotten worse in the last couple of weeks, we may have a virus that kind of has come along in addition to a more chronic issue. So we might also do some virus testing today. Okay. If you have something bothering you. Okay, but on exam, everything, I didn't notice anything worrisome, nothing that looked abnormal, which is kind of what we see in conditions like allergies or a little virus. \\n\"},\n",
       " {'speaker': 'Patient', 'text': ' Okay. \\n'},\n",
       " {'speaker': 'Student', 'text': ' Any questions? \\n'},\n",
       " {'speaker': 'Patient',\n",
       "  'text': ' Yeah, what can you give me for the itchy eyes? \\n'},\n",
       " {'speaker': 'Student',\n",
       "  'text': \" Yeah. So itchy eyes can be really bothersome. Yeah? Yeah, it can really bother you. So we can give you some eye drops and I'll have a nurse come in and teach you how to use those eye drops. Okay, in addition, the medicine that's like Benadryl, that doesn't make you drowsy, should also ease the itch of your eyes. Okay. What is that? It's called finfoxidine. That has a very specific name. Okay, okay. But the generic name, I'm not sure what it is. Okay? Yeah. Okay Yeah, any other questions? \\n\"},\n",
       " {'speaker': 'Patient', 'text': \" That's name I'm not sure what it is. \\n\"},\n",
       " {'speaker': 'Student', 'text': ' Yeah. Any other questions? \\n'},\n",
       " {'speaker': 'Patient', 'text': ' No. \\n'},\n",
       " {'speaker': 'Student',\n",
       "  'text': \" All right. Well, if you think of anything else, we'll be here. And I'll have the nurse come in and explain next kind of what needs to happen before you head out today. Okay. All right. Thank you so much. It was nice to meet you. \\n\"},\n",
       " {'speaker': 'Patient', 'text': ' Nice to see you too. \\n'},\n",
       " {'speaker': 'Student', 'text': ' Tell me your name again. \\n'},\n",
       " {'speaker': 'Patient', 'text': \" It's Kelsey. \\n\"},\n",
       " {'speaker': 'Student', 'text': ' Kelsey? Yes. Kelsey Thanks. \\n'},\n",
       " {'speaker': 'Instructions',\n",
       "  'text': ' Your time is up. Please go to the test station and begin.'}]"
      ]
     },
     "execution_count": 20,
     "metadata": {},
     "output_type": "execute_result"
    }
   ],
   "source": [
    "consolidate_transcript(reconstruct_transcript('/archive/shared/sim_center/shared/annie/GPT3.5 complete/', ids[0]))"
   ]
  },
  {
   "cell_type": "code",
   "execution_count": 21,
   "metadata": {},
   "outputs": [
    {
     "name": "stdout",
     "output_type": "stream",
     "text": [
      "01_0542_298135\n",
      "02_0036_174595\n",
      "03_0028_174553\n",
      "04_0043_174686\n",
      "05_0033_174804\n",
      "06_0079_175106\n",
      "07_0068_174641\n",
      "08_0029_174576\n",
      "09_0029_174582\n"
     ]
    },
    {
     "data": {
      "image/png": "[encoded data removed]",
      "text/plain": [
       "<Figure size 432x288 with 1 Axes>"
      ]
     },
     "metadata": {
      "needs_background": "light"
     },
     "output_type": "display_data"
    }
   ],
   "source": [
    "def eval_transcript(ids):\n",
    "    scores = {}\n",
    "    diar_path = '/archive/shared/sim_center/shared/annie/mixtral/' # change as needed\n",
    "    gold_path = '/archive/shared/sim_center/shared/annie/gold-standard-diarized/'\n",
    "    for id in ids:\n",
    "        print(id)\n",
    "        diar = consolidate_transcript(reconstruct_transcript(diar_path, id))\n",
    "        gold = consolidate_transcript(reconstruct_transcript(gold_path, id))\n",
    "        distance = normalized_levenshtein.distance(diar, gold)\n",
    "        similarity = normalized_levenshtein.similarity(diar, gold)\n",
    "        scores[id] = [distance, similarity]\n",
    "    return scores\n",
    "\n",
    "resultsm = eval_transcript(ids)\n",
    "import matplotlib.pyplot as plt\n",
    "import numpy as np\n",
    "avg_distm = np.mean([resultsm[token][0] for token in resultsm])\n",
    "avg_simm = np.mean([resultsm[token][1] for token in resultsm])\n",
    "measures = ['distance', 'similarity']\n",
    "plt.bar(measures, [avg_distm, avg_simm])\n",
    "plt.ylim(0, 1)\n",
    "plt.title(\"normalized levenshtein distance\")\n",
    "plt.show()"
   ]
  },
  {
   "cell_type": "code",
   "execution_count": 22,
   "metadata": {},
   "outputs": [
    {
     "data": {
      "image/png": "[encoded data removed]",
      "text/plain": [
       "<Figure size 432x288 with 1 Axes>"
      ]
     },
     "metadata": {
      "needs_background": "light"
     },
     "output_type": "display_data"
    }
   ],
   "source": [
    "plt.bar([id[:2] for id in ids], [resultsm[token][1] for token in resultsm])\n",
    "plt.axhline(y = avg_simm, color = 'r', linestyle = '--')\n",
    "plt.ylim(0, 1)\n",
    "plt.show()"
   ]
  },
  {
   "cell_type": "code",
   "execution_count": 23,
   "metadata": {},
   "outputs": [
    {
     "data": {
      "image/png": "[encoded data removed]",
      "text/plain": [
       "<Figure size 432x288 with 1 Axes>"
      ]
     },
     "metadata": {
      "needs_background": "light"
     },
     "output_type": "display_data"
    }
   ],
   "source": [
    "models = ['gpt4', 'gpt35', 'mixtral']\n",
    "avg_sims = [avg_sim, avg_sim35, avg_simm]\n",
    "plt.bar(models, avg_sims)\n",
    "plt.ylim(0, 1)\n",
    "plt.title(\"normalized levenshtein distance (naive accuracy)\")\n",
    "plt.show()"
   ]
  },
  {
   "cell_type": "code",
   "execution_count": 24,
   "metadata": {},
   "outputs": [],
   "source": [
    "def eval_transcript(ids, diar_path='/archive/shared/sim_center/shared/annie/GPT4 3-chunk/'):\n",
    "    scores = {}\n",
    "    gold_path = '/archive/shared/sim_center/shared/annie/gold-standard-diarized/'\n",
    "    for id in ids:\n",
    "        # debugging statement: \n",
    "        # print(id) \n",
    "        diar = consolidate_transcript(reconstruct_transcript(diar_path, id))\n",
    "        gold = consolidate_transcript(reconstruct_transcript(gold_path, id))\n",
    "        distance = normalized_levenshtein.distance(diar, gold)\n",
    "        similarity = normalized_levenshtein.similarity(diar, gold)\n",
    "        scores[id] = [distance, similarity]\n",
    "    return scores\n"
   ]
  },
  {
   "cell_type": "code",
   "execution_count": 25,
   "metadata": {},
   "outputs": [],
   "source": [
    "ids = ['01_0542_298135',\n",
    "'01_1080_366142',\n",
    "'02_0036_174595',\n",
    "'02_1056_380177',\n",
    "'03_0028_174553',\n",
    "'04_0043_174686',\n",
    "'05_0033_174804',\n",
    "'06_0079_175106',\n",
    "'07_0068_174641',\n",
    "'08_0029_174576',\n",
    "'09_0029_174582',\n",
    "]"
   ]
  },
  {
   "cell_type": "code",
   "execution_count": 26,
   "metadata": {},
   "outputs": [],
   "source": [
    "results_3chunk = eval_transcript(ids)\n",
    "\n",
    "diar_path='/archive/shared/sim_center/shared/annie/GPT4 6-chunk/'\n",
    "results_6chunk = eval_transcript(ids, diar_path)\n",
    "\n",
    "diar_path='/archive/shared/sim_center/shared/annie/GPT4 9-chunk/'\n",
    "results_9chunk = eval_transcript(ids, diar_path)"
   ]
  },
  {
   "cell_type": "code",
   "execution_count": 27,
   "metadata": {},
   "outputs": [
    {
     "data": {
      "image/png": "[encoded data removed]",
      "text/plain": [
       "<Figure size 432x288 with 1 Axes>"
      ]
     },
     "metadata": {
      "needs_background": "light"
     },
     "output_type": "display_data"
    }
   ],
   "source": [
    "avg_dist3 = np.mean([results_3chunk[token][0] for token in results_3chunk])\n",
    "avg_sim3 = np.mean([results_3chunk[token][1] for token in results_3chunk])\n",
    "measures = ['distance', 'similarity']\n",
    "plt.bar([id[:2] for id in ids], [results_3chunk[token][1] for token in results_3chunk])\n",
    "plt.axhline(y = avg_sim3, color = 'r', linestyle = '--')\n",
    "plt.ylim(0, 1)\n",
    "plt.title(\"3 chunk\")\n",
    "plt.show()"
   ]
  },
  {
   "cell_type": "code",
   "execution_count": 28,
   "metadata": {},
   "outputs": [
    {
     "data": {
      "image/png": "[encoded data removed]",
      "text/plain": [
       "<Figure size 432x288 with 1 Axes>"
      ]
     },
     "metadata": {
      "needs_background": "light"
     },
     "output_type": "display_data"
    }
   ],
   "source": [
    "avg_dist6 = np.mean([results_6chunk[token][0] for token in results_6chunk])\n",
    "avg_sim6 = np.mean([results_6chunk[token][1] for token in results_6chunk])\n",
    "measures = ['distance', 'similarity']\n",
    "plt.bar([id[:2] for id in ids], [results_6chunk[token][1] for token in results_6chunk])\n",
    "plt.axhline(y = avg_sim6, color = 'r', linestyle = '--')\n",
    "plt.ylim(0, 1)\n",
    "plt.title(\"6 chunk\")\n",
    "plt.show()"
   ]
  },
  {
   "cell_type": "code",
   "execution_count": 29,
   "metadata": {},
   "outputs": [
    {
     "data": {
      "image/png": "[encoded data removed]",
      "text/plain": [
       "<Figure size 432x288 with 1 Axes>"
      ]
     },
     "metadata": {
      "needs_background": "light"
     },
     "output_type": "display_data"
    }
   ],
   "source": [
    "avg_dist9 = np.mean([results_9chunk[token][0] for token in results_9chunk])\n",
    "avg_sim9 = np.mean([results_9chunk[token][1] for token in results_9chunk])\n",
    "measures = ['distance', 'similarity']\n",
    "plt.bar([id[:2] for id in ids], [results_9chunk[token][1] for token in results_9chunk])\n",
    "plt.axhline(y = avg_sim9, color = 'r', linestyle = '--')\n",
    "plt.ylim(0, 1)\n",
    "plt.title(\"9 chunk\")\n",
    "plt.show()"
   ]
  },
  {
   "cell_type": "code",
   "execution_count": 30,
   "metadata": {},
   "outputs": [
    {
     "data": {
      "image/png": "[encoded data removed]",
      "text/plain": [
       "<Figure size 432x288 with 1 Axes>"
      ]
     },
     "metadata": {
      "needs_background": "light"
     },
     "output_type": "display_data"
    }
   ],
   "source": [
    "sizes = ['3ch', '6ch', '9ch']\n",
    "avg_sims = [avg_sim3, avg_sim6, avg_sim9]\n",
    "plt.bar(sizes, avg_sims)\n",
    "plt.ylim(0, 1)\n",
    "plt.title(\"normalized levenshtein distance (naive accuracy)\")\n",
    "plt.show()"
   ]
  },
  {
   "cell_type": "code",
   "execution_count": 38,
   "metadata": {},
   "outputs": [],
   "source": [
    "this_id = ['10_0991_331330']\n",
    "diar_path = '/archive/shared/sim_center/shared/annie/claude/'\n",
    "claude_score = eval_transcript(this_id, diar_path=diar_path)\n",
    "gpt4_score = eval_transcript(this_id)"
   ]
  },
  {
   "cell_type": "code",
   "execution_count": 39,
   "metadata": {},
   "outputs": [
    {
     "data": {
      "text/plain": [
       "{'10_0991_331330': [0.7669172932330827, 0.23308270676691734]}"
      ]
     },
     "execution_count": 39,
     "metadata": {},
     "output_type": "execute_result"
    }
   ],
   "source": [
    "claude_score"
   ]
  },
  {
   "cell_type": "code",
   "execution_count": 42,
   "metadata": {},
   "outputs": [
    {
     "data": {
      "text/plain": [
       "[{'speaker': 'ID', 'text': ' 10_0991_331330\\n'},\n",
       " {'speaker': 'Student',\n",
       "  'text': \" Hello, Mr. Pimbleton. Hi, my name is Coleman. I'm a medical student at UT Southwestern. I am here to ask you some questions. I just want to know how you are feeling today.\\n\"},\n",
       " {'speaker': 'Patient',\n",
       "  'text': \" I've been feeling sick to my stomach. Now I throw one up, I feel not good.\\n\"},\n",
       " {'speaker': 'Student', 'text': ' Okay, when did this start?\\n'},\n",
       " {'speaker': 'Patient',\n",
       "  'text': ' It started getting nauseous. I was feeling nausea. I had a stomachache. I felt nause up. I am not good.\\n'},\n",
       " {'speaker': 'Student', 'text': ' Okay, when did this start?\\n'},\n",
       " {'speaker': 'Patient',\n",
       "  'text': ' I started getting nauseous two days ago. Threw up the first time yesterday after breakfast, about 20 minutes after I ate.\\n'},\n",
       " {'speaker': 'Student', 'text': ' Any other episodes of vomiting?\\n'},\n",
       " {'speaker': 'Patient',\n",
       "  'text': ' Yeah, I threw up three or four times yesterday and then after breakfast today about five minutes after I ate.\\n'},\n",
       " {'speaker': 'Student',\n",
       "  'text': ' Okay. And what does your vomit look like?\\n'},\n",
       " {'speaker': 'Patient',\n",
       "  'text': \" It's just small bits of undigested food, whatever I eat.\\n\"},\n",
       " {'speaker': 'Student', 'text': ' Any blood in it?\\n'},\n",
       " {'speaker': 'Patient', 'text': ' No.\\n'},\n",
       " {'speaker': 'Student', 'text': ' No? No Bile?\\n'},\n",
       " {'speaker': 'Patient', 'text': ' No\\n'},\n",
       " {'speaker': 'Student', 'text': ' Just the chunks of food?\\n'},\n",
       " {'speaker': 'Patient', 'text': ' No\\n'},\n",
       " {'speaker': 'Student',\n",
       "  'text': ' Okay Now this has been going on for just two days. Has this happened before?\\n'},\n",
       " {'speaker': 'Patient', 'text': ' No, never.\\n'},\n",
       " {'speaker': 'Student', 'text': ' Okay. And does anything make it worse?\\n'},\n",
       " {'speaker': 'Patient', 'text': ' Uh, eating. Yeah.\\n'},\n",
       " {'speaker': 'Student', 'text': ' Yeah, anything makes it better?\\n'},\n",
       " {'speaker': 'Patient', 'text': ' Not really, other than not eating\\n'},\n",
       " {'speaker': 'Student',\n",
       "  'text': ' Okay Is there any associated with the vomiting?\\n'},\n",
       " {'speaker': 'Patient',\n",
       "  'text': ' Yeah, I got a little mild pain in my abdomen there.\\n'},\n",
       " {'speaker': 'Student',\n",
       "  'text': ' Okay, on a scale of 1 to 10, about how bad, how would you describe it?\\n'},\n",
       " {'speaker': 'Patient',\n",
       "  'text': \" Oh, it's like a 3. Yeah. Just kind of an irritation.\\n\"},\n",
       " {'speaker': 'Student',\n",
       "  'text': \" Okay. And so if you don't eat, do you get nauseous still?\\n\"},\n",
       " {'speaker': 'Patient',\n",
       "  'text': ' Oh, yeah. So nausea is there all the time.\\n'},\n",
       " {'speaker': 'Student', 'text': ' Okay, nauseas. Any fevers?\\n'},\n",
       " {'speaker': 'Patient', 'text': ' No, no fever.\\n'},\n",
       " {'speaker': 'Student', 'text': ' You mean chills? Chills?\\n'},\n",
       " {'speaker': 'Patient', 'text': ' No.\\n'},\n",
       " {'speaker': 'Student',\n",
       "  'text': \" If you don't mind me asking, what are you usually eating at these meals?\\n\"},\n",
       " {'speaker': 'Patient',\n",
       "  'text': \" I don' know, like for breakfast I usually have scrambled eggs and bacon and toast.\\n\"},\n",
       " {'speaker': 'Student', 'text': ' Okay. No changes in your diet?\\n'},\n",
       " {'speaker': 'Patient', 'text': ' No change in diet.\\n'},\n",
       " {'speaker': 'Student',\n",
       "  'text': ' Okay, okay. Okay No changes in your diet?\\n'},\n",
       " {'speaker': 'Patient', 'text': ' No change in diet.\\n'},\n",
       " {'speaker': 'Student',\n",
       "  'text': ' Okay. Have you taken any medication for this? Over the counter medications?\\n'},\n",
       " {'speaker': 'Patient', 'text': ' No.\\n'},\n",
       " {'speaker': 'Student',\n",
       "  'text': \" Alrighty. Anything else that you have to share that would help us like diagnose what this is any any other changes any others that that's you're having at home no no nothing specific nothing comes to mind i'm sorry another comes up on mine okay and then i imagine loss of appetite I imagine loss of appetite as well.\\n\"},\n",
       " {'speaker': 'Patient',\n",
       "  'text': \" Yeah, it's decreased as you start throwing up.\\n\"},\n",
       " {'speaker': 'Student',\n",
       "  'text': ' Okay, if I could just ask you a few questions now about your past medical history. \\n'},\n",
       " {'speaker': 'Patient', 'text': ' Sure.\\n'},\n",
       " {'speaker': 'Student',\n",
       "  'text': ' Have you been diagnosed with any chronic illnesses?\\n'},\n",
       " {'speaker': 'Patient',\n",
       "  'text': \" Oh, let's see. Hypertension. I've got osteoarthritis in both my knees. I've got osteoarthritis in both my knees and then I get my lower back, I have chronic back pain from that. I think that's all.\\n\"},\n",
       " {'speaker': 'Student', 'text': ' Do you take any medications at home?\\n'},\n",
       " {'speaker': 'Patient',\n",
       "  'text': ' Yeah, I take verapamil, they prescribe up for hypertension. I take hydrocortone and Tylenol. That helps my back and my knees, actually.\\n'},\n",
       " {'speaker': 'Student',\n",
       "  'text': \" Okay. I'll ask you a few questions now about your surgical history. Have you had any prior surgeries?\\n\"},\n",
       " {'speaker': 'Patient', 'text': ' No.\\n'},\n",
       " {'speaker': 'Student',\n",
       "  'text': ' And I want to ask you some questions about your family history? Has anyone in your family been diagnosed with a chronic illness or disease?\\n'},\n",
       " {'speaker': 'Patient',\n",
       "  'text': ' No, my parents both died of old age. My siblings are in good health.\\n'},\n",
       " {'speaker': 'Student',\n",
       "  'text': \" Good to hear. That's good to hear, that's phenomenal. And then I'd just like to ask you some questions lastly about social history. Any alcohol use?\\n\"},\n",
       " {'speaker': 'Patient', 'text': ' No.\\n'},\n",
       " {'speaker': 'Student', 'text': ' Any tobacco products used?\\n'},\n",
       " {'speaker': 'Patient', 'text': ' No\\n'},\n",
       " {'speaker': 'Student', 'text': ' Any drugs?\\n'},\n",
       " {'speaker': 'Patient',\n",
       "  'text': ' Drugs never used. Just what I told you. Just these medications?\\n'},\n",
       " {'speaker': 'Student', 'text': ' Yeah Do you feel safe at home?\\n'},\n",
       " {'speaker': 'Patient', 'text': \" I'm sorry?\\n\"},\n",
       " {'speaker': 'Student', 'text': ' Yeah! Do you get married?\\n'},\n",
       " {'speaker': 'Patient', 'text': ' Yeah Or wife and I at home.\\n'},\n",
       " {'speaker': 'Student',\n",
       "  'text': ' Yeah Good to hear. Good. At this point I would like to perform a brief physical exam. If I could have you sit on the on a \\n'},\n",
       " {'speaker': 'Patient', 'text': ' Sure.\\n'},\n",
       " {'speaker': 'Student',\n",
       "  'text': \" You don't have to lay back just yet. All right. I would like... I'm sorry. I still need these rooms. How's your day been otherwise besides the...\\n\"},\n",
       " {'speaker': 'Patient',\n",
       "  'text': \" Man, if I get rid of this throwing up, it'd be better.\\n\"},\n",
       " {'speaker': 'Student',\n",
       "  'text': \" Yeah. I can't imagine that's comfortable.\\n\"},\n",
       " {'speaker': 'Patient', 'text': \" No, it's not.\\n\"},\n",
       " {'speaker': 'Student', 'text': ' What do you do for work?\\n'},\n",
       " {'speaker': 'Patient', 'text': \" Oh, I'm retired.\\n\"},\n",
       " {'speaker': 'Student',\n",
       "  'text': \" Yeah, but you don't mind me asking your age. How old are you? What do you do for work?\\n\"},\n",
       " {'speaker': 'Patient',\n",
       "  'text': \" Oh, I'm retired. Oh. Yeah. If you don't mind me asking your age, how old are you? 55.\\n\"},\n",
       " {'speaker': 'Student',\n",
       "  'text': \" 55... That's nice, that's early. You're retired? What did you before that?\\n\"},\n",
       " {'speaker': 'Patient', 'text': ' I worked for General Motors.\\n'},\n",
       " {'speaker': 'Student', 'text': ' Oh yeah, Chimbley Live.?\\n'},\n",
       " {'speaker': 'Patient',\n",
       "  'text': ' I worked for General Motors. On the assembly line.\\n'},\n",
       " {'speaker': 'Student', 'text': \" Oh, I'm a Ford guy. Sorry.\\n\"},\n",
       " {'speaker': 'Patient', 'text': \" That's okay.\\n\"},\n",
       " {'speaker': 'Student', 'text': ' Just gonna take a look. Deep breath.\\n'},\n",
       " {'speaker': 'Patient', 'text': ' Okay.\\n'},\n",
       " {'speaker': 'Student', 'text': ' No back pain?\\n'},\n",
       " {'speaker': 'Patient', 'text': ' No. Just lower back from the...\\n'},\n",
       " {'speaker': 'Student',\n",
       "  'text': \" Yeah. Okay Okay Okay Okay Okay Okay Okay Okay Okay Okay Okay Okay Okay Okay Okay Okay Okay Okay Okay Okay Okay Okay Okay Okay Yeah. Okay. And then if you don't mind at this point, I'll have you lay back on the table.\\n\"},\n",
       " {'speaker': 'Patient', 'text': ' Alright.\\n'},\n",
       " {'speaker': 'Student',\n",
       "  'text': \" We'll do an abdominal exam. Alright First, if don' mind, we're going to lift up your tap. Just look. That's fine. Okay. Alright. Let's take a listen. Do a little palpation, tell me if you feel anything, okay?\\n\"},\n",
       " {'speaker': 'Patient', 'text': ' Alright.\\n'},\n",
       " {'speaker': 'Student', 'text': ' Any pain?\\n'},\n",
       " {'speaker': 'Patient', 'text': ' Nope.\\n'},\n",
       " {'speaker': 'Student', 'text': ' Pain?\\n'},\n",
       " {'speaker': 'Patient', 'text': ' Nope?\\n'},\n",
       " {'speaker': 'Student', 'text': ' Any painting?\\n'},\n",
       " {'speaker': 'Patient', 'text': ' Nope!\\n'},\n",
       " {'speaker': 'Student', 'text': ' Pain here?\\n'},\n",
       " {'speaker': 'Patient', 'text': ' Nope\\n'},\n",
       " {'speaker': 'Student',\n",
       "  'text': \" Alright, Mr. Pribbleton, why don't you sit back up.\\n\"},\n",
       " {'speaker': 'Patient', 'text': ' Alright.\\n'},\n",
       " {'speaker': 'Student',\n",
       "  'text': \" And if you would like to feel more comfortable you can stay seated there or go back to the chair, whichever one you prefer. Well. You don t have to worry, it might be something serious. Alright well, that s never all the way off the table, but I can certainly say when it's further down on the table. Let's just go over real quickly what I think you might have and what could be causing these symptoms.\\n\"},\n",
       " {'speaker': 'Patient', 'text': ' Okay.\\n'},\n",
       " {'speaker': 'Student',\n",
       "  'text': \" The way you describe your vomiting, sounds like it's not getting very far down your digestive tract so that makes me start to think of things that are closer to the stomach in a song place and it is possible some people over time they can get that constriction of their esophagus which makes it less uh dilated I guess for food to pass through and so we can do something it's called a barium swallow study and we would just look at to make sure that your esopagus goes all the way down to your stomach and that there's no problems there another option although it likely you could have an obstruction CT scan of your out just to see if there's anything any masses or changes that could be blocking that from your side and then something else if we still can't figure out what's going on we could also do an endoscopy where GI doctors would put a camera down your throat just see it there any any ulcers or concerning changes but your lack of fevers and other symptoms make me think that this is either something to do with the digestive tract or make quick viral gastric viral bug okay\\n\"},\n",
       " {'speaker': 'Patient',\n",
       "  'text': \" Oh, okay. So I'm not concerned for any serious infections. Do you have any questions about that?\\n\"},\n",
       " {'speaker': 'Student', 'text': ' No, I guess not.\\n'},\n",
       " {'speaker': 'Patient',\n",
       "  'text': \" Okay. I just want to get it taken care of so I don't feel better.\\n\"},\n",
       " {'speaker': 'Student',\n",
       "  'text': \" So most likely it could resolve on its own, but we're going to do those tests to make sure that it's not anything else that could Be alarming good. Does that sound like a plan that you're you bet comfortable with sure Paul through that?\\n\"},\n",
       " {'speaker': 'Patient', 'text': ' Yeah. Oh, yeah\\n'},\n",
       " {'speaker': 'Student', 'text': ' Do you have any questions? I?\\n'},\n",
       " {'speaker': 'Patient', 'text': ' Guess not\\n'},\n",
       " {'speaker': 'Student',\n",
       "  'text': ' Okay, get this done today. Thank You. It was good to see you!\\n'},\n",
       " {'speaker': 'Patient', 'text': ' Okay, take care.\\n'},\n",
       " {'speaker': 'Instructions',\n",
       "  'text': \" I'm going to put it in the fridge with a spoon. I'll try it. I can't eat this. I have to do it again. I will try again with my hands. I don't know if I should do this or not. I think I did it right. I ate it all. I was hungry. I want to go to the bathroom. I need to take a shower. I am hungry, too. I feel like I've been eating too much. I eat I'm going to go ahead and do that. so so\\n Thank you. Learners, your time is up. Please exit your patient station. Log into SimIQ using your UT credentials. Okay. Thank you.\"}]"
      ]
     },
     "execution_count": 42,
     "metadata": {},
     "output_type": "execute_result"
    }
   ],
   "source": [
    "consolidate_transcript(reconstruct_transcript('/archive/shared/sim_center/shared/annie/claude/', this_id[0]))"
   ]
  },
  {
   "cell_type": "code",
   "execution_count": 40,
   "metadata": {},
   "outputs": [
    {
     "data": {
      "text/plain": [
       "{'10_0991_331330': [0.24060150375939848, 0.7593984962406015]}"
      ]
     },
     "execution_count": 40,
     "metadata": {},
     "output_type": "execute_result"
    }
   ],
   "source": [
    "gpt4_score"
   ]
  }
 ],
 "metadata": {
  "kernelspec": {
   "display_name": "pf",
   "language": "python",
   "name": "python3"
  },
  "language_info": {
   "codemirror_mode": {
    "name": "ipython",
    "version": 3
   },
   "file_extension": ".py",
   "mimetype": "text/x-python",
   "name": "python",
   "nbconvert_exporter": "python",
   "pygments_lexer": "ipython3",
   "version": "3.9.18"
  }
 },
 "nbformat": 4,
 "nbformat_minor": 2
}
