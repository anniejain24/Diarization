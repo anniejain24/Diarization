{
 "cells": [
  {
   "cell_type": "code",
   "execution_count": 1,
   "metadata": {},
   "outputs": [],
   "source": [
    "path = '/archive/shared/sim_center/shared/annie/levenshtein-scores/'\n",
    "runs = ['claude_opus',\n",
    "        'claude_sonnet',\n",
    "        'gpt4_1chunk',\n",
    "        'gpt4_3chunk_original',\n",
    "        'gpt4_3chunk',\n",
    "        'gpt4_original_6chunk',\n",
    "        'gpt4_original_9chunk',\n",
    "        'gpt35',\n",
    "        'mixtral',\n",
    "        'gpt4o']\n",
    "nosum_runs = ['gpt4o-nosum',\n",
    "'gpt4-3chunk-nosum']"
   ]
  },
  {
   "cell_type": "code",
   "execution_count": 2,
   "metadata": {},
   "outputs": [],
   "source": [
    "import pandas as pd\n",
    "import numpy as np"
   ]
  },
  {
   "cell_type": "code",
   "execution_count": 3,
   "metadata": {},
   "outputs": [],
   "source": [
    "def extract_scores(path, run):\n",
    "    id = []\n",
    "    dist = []\n",
    "    sim = []\n",
    "    with open(path + run + '.txt', 'r') as file:\n",
    "        lines = file.readlines()\n",
    "    for line in lines:\n",
    "        vals = line.replace('\\n', '').split(',')\n",
    "        id.append(vals[0].replace('ID: ', ''))\n",
    "        dist.append(vals[1].replace('distance: ', ''))\n",
    "        sim.append(vals[2].replace('similarity: ', ''))\n",
    "    df = pd.DataFrame(np.column_stack([id, dist, sim]), \n",
    "                               columns=['ID', 'dist', 'sim'])\n",
    "    return df"
   ]
  },
  {
   "cell_type": "code",
   "execution_count": 5,
   "metadata": {},
   "outputs": [],
   "source": [
    "dfs = []\n",
    "for run in runs + nosum_runs:\n",
    "    df = extract_scores(path, run)\n",
    "    df.insert(0, \"run\", [run]*10, True)\n",
    "    dfs.append(df)\n"
   ]
  },
  {
   "cell_type": "code",
   "execution_count": 6,
   "metadata": {},
   "outputs": [],
   "source": [
    "big_df = pd.DataFrame(pd.concat(dfs[i] for i in range(len(dfs))))\n"
   ]
  },
  {
   "cell_type": "code",
   "execution_count": 7,
   "metadata": {},
   "outputs": [
    {
     "data": {
      "text/html": [
       "<div>\n",
       "<style scoped>\n",
       "    .dataframe tbody tr th:only-of-type {\n",
       "        vertical-align: middle;\n",
       "    }\n",
       "\n",
       "    .dataframe tbody tr th {\n",
       "        vertical-align: top;\n",
       "    }\n",
       "\n",
       "    .dataframe thead th {\n",
       "        text-align: right;\n",
       "    }\n",
       "</style>\n",
       "<table border=\"1\" class=\"dataframe\">\n",
       "  <thead>\n",
       "    <tr style=\"text-align: right;\">\n",
       "      <th></th>\n",
       "      <th>run</th>\n",
       "      <th>ID</th>\n",
       "      <th>dist</th>\n",
       "      <th>sim</th>\n",
       "    </tr>\n",
       "  </thead>\n",
       "  <tbody>\n",
       "    <tr>\n",
       "      <th>0</th>\n",
       "      <td>claude_opus</td>\n",
       "      <td>01_0542_298135</td>\n",
       "      <td>0.0708124652198108</td>\n",
       "      <td>0.9291875347801892</td>\n",
       "    </tr>\n",
       "    <tr>\n",
       "      <th>1</th>\n",
       "      <td>claude_opus</td>\n",
       "      <td>02_0036_174595</td>\n",
       "      <td>0.04935826334970686</td>\n",
       "      <td>0.9506417366502932</td>\n",
       "    </tr>\n",
       "    <tr>\n",
       "      <th>2</th>\n",
       "      <td>claude_opus</td>\n",
       "      <td>03_0028_174553</td>\n",
       "      <td>0.03803506962351728</td>\n",
       "      <td>0.9619649303764827</td>\n",
       "    </tr>\n",
       "    <tr>\n",
       "      <th>3</th>\n",
       "      <td>claude_opus</td>\n",
       "      <td>04_0043_174686</td>\n",
       "      <td>0.050453011192041215</td>\n",
       "      <td>0.9495469888079587</td>\n",
       "    </tr>\n",
       "    <tr>\n",
       "      <th>4</th>\n",
       "      <td>claude_opus</td>\n",
       "      <td>05_0033_174804</td>\n",
       "      <td>0.09898962315674495</td>\n",
       "      <td>0.901010376843255</td>\n",
       "    </tr>\n",
       "    <tr>\n",
       "      <th>...</th>\n",
       "      <td>...</td>\n",
       "      <td>...</td>\n",
       "      <td>...</td>\n",
       "      <td>...</td>\n",
       "    </tr>\n",
       "    <tr>\n",
       "      <th>5</th>\n",
       "      <td>gpt4-3chunk-nosum</td>\n",
       "      <td>06_0079_175106</td>\n",
       "      <td>0.029455709711846318</td>\n",
       "      <td>0.9705442902881537</td>\n",
       "    </tr>\n",
       "    <tr>\n",
       "      <th>6</th>\n",
       "      <td>gpt4-3chunk-nosum</td>\n",
       "      <td>07_0068_174641</td>\n",
       "      <td>0.041323330463657604</td>\n",
       "      <td>0.9586766695363425</td>\n",
       "    </tr>\n",
       "    <tr>\n",
       "      <th>7</th>\n",
       "      <td>gpt4-3chunk-nosum</td>\n",
       "      <td>08_0029_174576</td>\n",
       "      <td>0.2013260025873221</td>\n",
       "      <td>0.7986739974126779</td>\n",
       "    </tr>\n",
       "    <tr>\n",
       "      <th>8</th>\n",
       "      <td>gpt4-3chunk-nosum</td>\n",
       "      <td>09_0029_174582</td>\n",
       "      <td>0.037762501177135324</td>\n",
       "      <td>0.9622374988228647</td>\n",
       "    </tr>\n",
       "    <tr>\n",
       "      <th>9</th>\n",
       "      <td>gpt4-3chunk-nosum</td>\n",
       "      <td>10_0991_331330</td>\n",
       "      <td>0.1043660985290684</td>\n",
       "      <td>0.8956339014709316</td>\n",
       "    </tr>\n",
       "  </tbody>\n",
       "</table>\n",
       "<p>120 rows × 4 columns</p>\n",
       "</div>"
      ],
      "text/plain": [
       "                  run              ID                   dist  \\\n",
       "0         claude_opus  01_0542_298135     0.0708124652198108   \n",
       "1         claude_opus  02_0036_174595    0.04935826334970686   \n",
       "2         claude_opus  03_0028_174553    0.03803506962351728   \n",
       "3         claude_opus  04_0043_174686   0.050453011192041215   \n",
       "4         claude_opus  05_0033_174804    0.09898962315674495   \n",
       "..                ...             ...                    ...   \n",
       "5   gpt4-3chunk-nosum  06_0079_175106   0.029455709711846318   \n",
       "6   gpt4-3chunk-nosum  07_0068_174641   0.041323330463657604   \n",
       "7   gpt4-3chunk-nosum  08_0029_174576     0.2013260025873221   \n",
       "8   gpt4-3chunk-nosum  09_0029_174582   0.037762501177135324   \n",
       "9   gpt4-3chunk-nosum  10_0991_331330     0.1043660985290684   \n",
       "\n",
       "                    sim  \n",
       "0    0.9291875347801892  \n",
       "1    0.9506417366502932  \n",
       "2    0.9619649303764827  \n",
       "3    0.9495469888079587  \n",
       "4     0.901010376843255  \n",
       "..                  ...  \n",
       "5    0.9705442902881537  \n",
       "6    0.9586766695363425  \n",
       "7    0.7986739974126779  \n",
       "8    0.9622374988228647  \n",
       "9    0.8956339014709316  \n",
       "\n",
       "[120 rows x 4 columns]"
      ]
     },
     "execution_count": 7,
     "metadata": {},
     "output_type": "execute_result"
    }
   ],
   "source": [
    "big_df"
   ]
  },
  {
   "cell_type": "code",
   "execution_count": 8,
   "metadata": {},
   "outputs": [],
   "source": [
    "big_df['sim'] = [float(i) for i in big_df['sim']]"
   ]
  },
  {
   "cell_type": "code",
   "execution_count": 9,
   "metadata": {},
   "outputs": [],
   "source": [
    "mean_sim = big_df.groupby('run', as_index=False)['sim'].mean()"
   ]
  },
  {
   "cell_type": "code",
   "execution_count": 19,
   "metadata": {},
   "outputs": [
    {
     "data": {
      "text/html": [
       "<div>\n",
       "<style scoped>\n",
       "    .dataframe tbody tr th:only-of-type {\n",
       "        vertical-align: middle;\n",
       "    }\n",
       "\n",
       "    .dataframe tbody tr th {\n",
       "        vertical-align: top;\n",
       "    }\n",
       "\n",
       "    .dataframe thead th {\n",
       "        text-align: right;\n",
       "    }\n",
       "</style>\n",
       "<table border=\"1\" class=\"dataframe\">\n",
       "  <thead>\n",
       "    <tr style=\"text-align: right;\">\n",
       "      <th></th>\n",
       "      <th>run</th>\n",
       "      <th>sim</th>\n",
       "    </tr>\n",
       "  </thead>\n",
       "  <tbody>\n",
       "    <tr>\n",
       "      <th>0</th>\n",
       "      <td>claude_opus</td>\n",
       "      <td>0.938638</td>\n",
       "    </tr>\n",
       "  </tbody>\n",
       "</table>\n",
       "</div>"
      ],
      "text/plain": [
       "           run       sim\n",
       "0  claude_opus  0.938638"
      ]
     },
     "execution_count": 19,
     "metadata": {},
     "output_type": "execute_result"
    }
   ],
   "source": [
    "mean_sim[mean_sim['run']=='claude_opus']"
   ]
  },
  {
   "cell_type": "code",
   "execution_count": 11,
   "metadata": {},
   "outputs": [],
   "source": [
    "import matplotlib.pyplot as plt"
   ]
  },
  {
   "cell_type": "code",
   "execution_count": 12,
   "metadata": {},
   "outputs": [
    {
     "data": {
      "text/plain": [
       "([0, 1, 2, 3, 4, 5, 6, 7, 8, 9, 10, 11],\n",
       " [Text(0, 0, 'claude_opus'),\n",
       "  Text(1, 0, 'claude_sonnet'),\n",
       "  Text(2, 0, 'gpt35'),\n",
       "  Text(3, 0, 'gpt4-3chunk-nosum'),\n",
       "  Text(4, 0, 'gpt4_1chunk'),\n",
       "  Text(5, 0, 'gpt4_3chunk'),\n",
       "  Text(6, 0, 'gpt4_3chunk_original'),\n",
       "  Text(7, 0, 'gpt4_original_6chunk'),\n",
       "  Text(8, 0, 'gpt4_original_9chunk'),\n",
       "  Text(9, 0, 'gpt4o'),\n",
       "  Text(10, 0, 'gpt4o-nosum'),\n",
       "  Text(11, 0, 'mixtral')])"
      ]
     },
     "execution_count": 12,
     "metadata": {},
     "output_type": "execute_result"
    },
    {
     "data": {
      "image/png": "[encoded data removed]",
      "text/plain": [
       "<Figure size 432x288 with 1 Axes>"
      ]
     },
     "metadata": {
      "needs_background": "light"
     },
     "output_type": "display_data"
    }
   ],
   "source": [
    "plt.bar(mean_sim['run'], mean_sim['sim'])\n",
    "plt.xticks(rotation='vertical')"
   ]
  },
  {
   "cell_type": "code",
   "execution_count": 28,
   "metadata": {},
   "outputs": [
    {
     "data": {
      "text/plain": [
       "([0, 1, 2, 3],\n",
       " [Text(0, 0, 'gpt4-3chunk-nosum'),\n",
       "  Text(1, 0, 'gpt4_3chunk'),\n",
       "  Text(2, 0, 'gpt4o'),\n",
       "  Text(3, 0, 'gpt4o-nosum')])"
      ]
     },
     "execution_count": 28,
     "metadata": {},
     "output_type": "execute_result"
    },
    {
     "data": {
      "image/png": "[encoded data removed]",
      "text/plain": [
       "<Figure size 432x288 with 1 Axes>"
      ]
     },
     "metadata": {
      "needs_background": "light"
     },
     "output_type": "display_data"
    }
   ],
   "source": [
    "x = [mean_sim.iloc[3]['run'], mean_sim.iloc[5]['run'], mean_sim.iloc[9]['run'], mean_sim.iloc[10]['run']] \n",
    "y = [mean_sim.iloc[3]['sim'], mean_sim.iloc[5]['sim'], mean_sim.iloc[9]['sim'], mean_sim.iloc[10]['sim']] \n",
    "plt.bar(x, y)\n",
    "plt.xticks(rotation='vertical')"
   ]
  },
  {
   "cell_type": "code",
   "execution_count": 27,
   "metadata": {},
   "outputs": [
    {
     "data": {
      "text/plain": [
       "'gpt4-3chunk-nosum'"
      ]
     },
     "execution_count": 27,
     "metadata": {},
     "output_type": "execute_result"
    }
   ],
   "source": [
    "mean_sim.iloc[3]['run']"
   ]
  },
  {
   "cell_type": "code",
   "execution_count": 12,
   "metadata": {},
   "outputs": [],
   "source": [
    "def read_transcript_from_id(transcript_id):\n",
    "\n",
    "    path_to_data_folder = '/archive/shared/sim_center/shared/ameer/'\n",
    "    # lookinto this dictionary to find the path\n",
    "    # can also manually create the path and it would be faster but not by much\n",
    "    merged_lookup = pd.read_csv(path_to_data_folder + 'grade_lookupv5.csv')\n",
    "    transcript = ''\n",
    "\n",
    "    path = merged_lookup[merged_lookup.id == transcript_id].path.iloc[0]\n",
    "    with open(path, 'r') as file:\n",
    "        lines = file.readlines()\n",
    "    for line in lines:\n",
    "        if line != '\\n':\n",
    "            tok_line = line.split(' ')\n",
    "            for i in range(len(tok_line)):\n",
    "                transcript += ' ' + tok_line[i]\n",
    "\n",
    "\n",
    "    return transcript"
   ]
  },
  {
   "cell_type": "code",
   "execution_count": 13,
   "metadata": {},
   "outputs": [],
   "source": [
    "def reconstruct_transcript(path, id): \n",
    "    path = path + id + '.txt'\n",
    "    with open(path, 'r') as file:\n",
    "        lines = file.readlines()\n",
    " \n",
    "    out = []\n",
    "    \n",
    "    for line in lines:\n",
    "        if line.find(':')==-1: continue\n",
    "        temp = {}\n",
    "        temp['speaker'] = line[:line.find(':')]\n",
    "        temp['text'] = line[line.find(':') + 1: ]\n",
    "        out.append(temp)\n",
    "\n",
    "    return out"
   ]
  },
  {
   "cell_type": "code",
   "execution_count": 14,
   "metadata": {},
   "outputs": [],
   "source": [
    "def consolidate_transcript(transcript):\n",
    "    \n",
    "    new = []\n",
    "    new.append({'speaker': transcript[0]['speaker'], 'text': transcript[0]['text']})\n",
    "    \n",
    "    for i in range(1, len(transcript)):\n",
    "        this = {}\n",
    "        if transcript[i]['speaker'] == transcript[i-1]['speaker']:\n",
    "            new[-1]['text'] += transcript[i]['text']\n",
    "        else:\n",
    "            this['speaker'] = transcript[i]['speaker']\n",
    "            this['text'] = transcript[i]['text']\n",
    "            new.append(this)\n",
    "    \n",
    "    return new"
   ]
  },
  {
   "cell_type": "code",
   "execution_count": 15,
   "metadata": {},
   "outputs": [],
   "source": [
    "def extract_text(transcript):\n",
    "    out = ''\n",
    "    for line in transcript:\n",
    "        out += line['speaker'] + line['text']\n",
    "    return out"
   ]
  },
  {
   "cell_type": "code",
   "execution_count": 16,
   "metadata": {},
   "outputs": [],
   "source": [
    "from strsimpy.normalized_levenshtein import NormalizedLevenshtein\n",
    "normalized_levenshtein = NormalizedLevenshtein()"
   ]
  },
  {
   "cell_type": "code",
   "execution_count": 17,
   "metadata": {},
   "outputs": [],
   "source": [
    "def eval_transcript(ids, diar_path='/archive/shared/sim_center/shared/annie/GPT4 3-chunk/', \n",
    "                    gold_path = '/archive/shared/sim_center/shared/annie/gpt4-gold-standard-diarized/'):\n",
    "    scores = {}\n",
    "    for id in ids:\n",
    "        # debugging statement: \n",
    "        print(id) \n",
    "        diar = extract_text(consolidate_transcript(reconstruct_transcript(diar_path, id)))\n",
    "        gold = extract_text(consolidate_transcript(reconstruct_transcript(gold_path, id)))\n",
    "        distance = normalized_levenshtein.distance(diar, gold)\n",
    "        similarity = normalized_levenshtein.similarity(diar, gold)\n",
    "        scores[id] = [distance, similarity]\n",
    "    return scores"
   ]
  },
  {
   "cell_type": "code",
   "execution_count": 18,
   "metadata": {},
   "outputs": [],
   "source": [
    "ids = big_df['ID'].unique()"
   ]
  },
  {
   "cell_type": "code",
   "execution_count": 19,
   "metadata": {},
   "outputs": [
    {
     "data": {
      "text/plain": [
       "array(['01_0542_298135', '02_0036_174595', '03_0028_174553',\n",
       "       '04_0043_174686', '05_0033_174804', '06_0079_175106',\n",
       "       '07_0068_174641', '08_0029_174576', '09_0029_174582',\n",
       "       '10_0991_331330'], dtype=object)"
      ]
     },
     "execution_count": 19,
     "metadata": {},
     "output_type": "execute_result"
    }
   ],
   "source": [
    "ids"
   ]
  },
  {
   "cell_type": "code",
   "execution_count": 20,
   "metadata": {},
   "outputs": [],
   "source": [
    "def nolabel_baseline_score(ids, gold_path = '/archive/shared/sim_center/shared/annie/gpt4-gold-standard-diarized/'):\n",
    "    scores = {}\n",
    "    for id in ids:\n",
    "        # debugging statement: \n",
    "        print(id) \n",
    "        transcript = read_transcript_from_id(id)\n",
    "        gold = extract_text(consolidate_transcript(reconstruct_transcript(gold_path, id)))\n",
    "        distance = normalized_levenshtein.distance(transcript, gold)\n",
    "        similarity = normalized_levenshtein.similarity(transcript, gold)\n",
    "        scores[id] = [distance, similarity]\n",
    "    return scores"
   ]
  },
  {
   "cell_type": "code",
   "execution_count": 21,
   "metadata": {},
   "outputs": [],
   "source": [
    "def save_scores(scores, ids, path = '/archive/shared/sim_center/shared/annie/levenshtein-scores/', run_name = 'gpt4'):\n",
    "    with open(path + run_name + \".txt\", \"w\") as outfile:\n",
    "        for id in ids:\n",
    "            outfile.write('ID: ' + id + ', distance: ' + str(scores[id][0]) + ', similarity: ' + str(scores[id][1]) + '\\n')"
   ]
  },
  {
   "cell_type": "code",
   "execution_count": 22,
   "metadata": {},
   "outputs": [],
   "source": [
    "nolabel_baseline = extract_scores(path, 'nolabel_baseline')"
   ]
  },
  {
   "cell_type": "code",
   "execution_count": 23,
   "metadata": {},
   "outputs": [
    {
     "data": {
      "text/html": [
       "<div>\n",
       "<style scoped>\n",
       "    .dataframe tbody tr th:only-of-type {\n",
       "        vertical-align: middle;\n",
       "    }\n",
       "\n",
       "    .dataframe tbody tr th {\n",
       "        vertical-align: top;\n",
       "    }\n",
       "\n",
       "    .dataframe thead th {\n",
       "        text-align: right;\n",
       "    }\n",
       "</style>\n",
       "<table border=\"1\" class=\"dataframe\">\n",
       "  <thead>\n",
       "    <tr style=\"text-align: right;\">\n",
       "      <th></th>\n",
       "      <th>ID</th>\n",
       "      <th>dist</th>\n",
       "      <th>sim</th>\n",
       "    </tr>\n",
       "  </thead>\n",
       "  <tbody>\n",
       "    <tr>\n",
       "      <th>0</th>\n",
       "      <td>01_0542_298135</td>\n",
       "      <td>0.0973305954825462</td>\n",
       "      <td>0.9026694045174538</td>\n",
       "    </tr>\n",
       "    <tr>\n",
       "      <th>1</th>\n",
       "      <td>02_0036_174595</td>\n",
       "      <td>0.11123400221203981</td>\n",
       "      <td>0.8887659977879602</td>\n",
       "    </tr>\n",
       "    <tr>\n",
       "      <th>2</th>\n",
       "      <td>03_0028_174553</td>\n",
       "      <td>0.10042652190771617</td>\n",
       "      <td>0.8995734780922838</td>\n",
       "    </tr>\n",
       "    <tr>\n",
       "      <th>3</th>\n",
       "      <td>04_0043_174686</td>\n",
       "      <td>0.10987742050097708</td>\n",
       "      <td>0.890122579499023</td>\n",
       "    </tr>\n",
       "    <tr>\n",
       "      <th>4</th>\n",
       "      <td>05_0033_174804</td>\n",
       "      <td>0.1151010376843255</td>\n",
       "      <td>0.8848989623156744</td>\n",
       "    </tr>\n",
       "    <tr>\n",
       "      <th>5</th>\n",
       "      <td>06_0079_175106</td>\n",
       "      <td>0.12497331910352188</td>\n",
       "      <td>0.8750266808964782</td>\n",
       "    </tr>\n",
       "    <tr>\n",
       "      <th>6</th>\n",
       "      <td>07_0068_174641</td>\n",
       "      <td>0.1582831140081171</td>\n",
       "      <td>0.8417168859918829</td>\n",
       "    </tr>\n",
       "    <tr>\n",
       "      <th>7</th>\n",
       "      <td>08_0029_174576</td>\n",
       "      <td>0.11222509702457956</td>\n",
       "      <td>0.8877749029754205</td>\n",
       "    </tr>\n",
       "    <tr>\n",
       "      <th>8</th>\n",
       "      <td>09_0029_174582</td>\n",
       "      <td>0.12082116960165741</td>\n",
       "      <td>0.8791788303983425</td>\n",
       "    </tr>\n",
       "    <tr>\n",
       "      <th>9</th>\n",
       "      <td>10_0991_331330</td>\n",
       "      <td>0.13156665888395985</td>\n",
       "      <td>0.8684333411160401</td>\n",
       "    </tr>\n",
       "  </tbody>\n",
       "</table>\n",
       "</div>"
      ],
      "text/plain": [
       "               ID                  dist                  sim\n",
       "0  01_0542_298135    0.0973305954825462   0.9026694045174538\n",
       "1  02_0036_174595   0.11123400221203981   0.8887659977879602\n",
       "2  03_0028_174553   0.10042652190771617   0.8995734780922838\n",
       "3  04_0043_174686   0.10987742050097708    0.890122579499023\n",
       "4  05_0033_174804    0.1151010376843255   0.8848989623156744\n",
       "5  06_0079_175106   0.12497331910352188   0.8750266808964782\n",
       "6  07_0068_174641    0.1582831140081171   0.8417168859918829\n",
       "7  08_0029_174576   0.11222509702457956   0.8877749029754205\n",
       "8  09_0029_174582   0.12082116960165741   0.8791788303983425\n",
       "9  10_0991_331330   0.13156665888395985   0.8684333411160401"
      ]
     },
     "execution_count": 23,
     "metadata": {},
     "output_type": "execute_result"
    }
   ],
   "source": [
    "nolabel_baseline"
   ]
  },
  {
   "cell_type": "code",
   "execution_count": 24,
   "metadata": {},
   "outputs": [
    {
     "data": {
      "text/html": [
       "<div>\n",
       "<style scoped>\n",
       "    .dataframe tbody tr th:only-of-type {\n",
       "        vertical-align: middle;\n",
       "    }\n",
       "\n",
       "    .dataframe tbody tr th {\n",
       "        vertical-align: top;\n",
       "    }\n",
       "\n",
       "    .dataframe thead th {\n",
       "        text-align: right;\n",
       "    }\n",
       "</style>\n",
       "<table border=\"1\" class=\"dataframe\">\n",
       "  <thead>\n",
       "    <tr style=\"text-align: right;\">\n",
       "      <th></th>\n",
       "      <th>run</th>\n",
       "      <th>ID</th>\n",
       "      <th>dist</th>\n",
       "      <th>sim</th>\n",
       "    </tr>\n",
       "  </thead>\n",
       "  <tbody>\n",
       "    <tr>\n",
       "      <th>0</th>\n",
       "      <td>claude_opus</td>\n",
       "      <td>01_0542_298135</td>\n",
       "      <td>0.0708124652198108</td>\n",
       "      <td>0.929188</td>\n",
       "    </tr>\n",
       "    <tr>\n",
       "      <th>1</th>\n",
       "      <td>claude_opus</td>\n",
       "      <td>02_0036_174595</td>\n",
       "      <td>0.04935826334970686</td>\n",
       "      <td>0.950642</td>\n",
       "    </tr>\n",
       "    <tr>\n",
       "      <th>2</th>\n",
       "      <td>claude_opus</td>\n",
       "      <td>03_0028_174553</td>\n",
       "      <td>0.03803506962351728</td>\n",
       "      <td>0.961965</td>\n",
       "    </tr>\n",
       "    <tr>\n",
       "      <th>3</th>\n",
       "      <td>claude_opus</td>\n",
       "      <td>04_0043_174686</td>\n",
       "      <td>0.050453011192041215</td>\n",
       "      <td>0.949547</td>\n",
       "    </tr>\n",
       "    <tr>\n",
       "      <th>4</th>\n",
       "      <td>claude_opus</td>\n",
       "      <td>05_0033_174804</td>\n",
       "      <td>0.09898962315674495</td>\n",
       "      <td>0.901010</td>\n",
       "    </tr>\n",
       "    <tr>\n",
       "      <th>...</th>\n",
       "      <td>...</td>\n",
       "      <td>...</td>\n",
       "      <td>...</td>\n",
       "      <td>...</td>\n",
       "    </tr>\n",
       "    <tr>\n",
       "      <th>5</th>\n",
       "      <td>gpt4o</td>\n",
       "      <td>06_0079_175106</td>\n",
       "      <td>0.07406616862326575</td>\n",
       "      <td>0.925934</td>\n",
       "    </tr>\n",
       "    <tr>\n",
       "      <th>6</th>\n",
       "      <td>gpt4o</td>\n",
       "      <td>07_0068_174641</td>\n",
       "      <td>0.04814189189189189</td>\n",
       "      <td>0.951858</td>\n",
       "    </tr>\n",
       "    <tr>\n",
       "      <th>7</th>\n",
       "      <td>gpt4o</td>\n",
       "      <td>08_0029_174576</td>\n",
       "      <td>0.0842496765847348</td>\n",
       "      <td>0.915750</td>\n",
       "    </tr>\n",
       "    <tr>\n",
       "      <th>8</th>\n",
       "      <td>gpt4o</td>\n",
       "      <td>09_0029_174582</td>\n",
       "      <td>0.05198229588473491</td>\n",
       "      <td>0.948018</td>\n",
       "    </tr>\n",
       "    <tr>\n",
       "      <th>9</th>\n",
       "      <td>gpt4o</td>\n",
       "      <td>10_0991_331330</td>\n",
       "      <td>0.08747855917667238</td>\n",
       "      <td>0.912521</td>\n",
       "    </tr>\n",
       "  </tbody>\n",
       "</table>\n",
       "<p>100 rows × 4 columns</p>\n",
       "</div>"
      ],
      "text/plain": [
       "            run              ID                   dist       sim\n",
       "0   claude_opus  01_0542_298135     0.0708124652198108  0.929188\n",
       "1   claude_opus  02_0036_174595    0.04935826334970686  0.950642\n",
       "2   claude_opus  03_0028_174553    0.03803506962351728  0.961965\n",
       "3   claude_opus  04_0043_174686   0.050453011192041215  0.949547\n",
       "4   claude_opus  05_0033_174804    0.09898962315674495  0.901010\n",
       "..          ...             ...                    ...       ...\n",
       "5         gpt4o  06_0079_175106    0.07406616862326575  0.925934\n",
       "6         gpt4o  07_0068_174641    0.04814189189189189  0.951858\n",
       "7         gpt4o  08_0029_174576     0.0842496765847348  0.915750\n",
       "8         gpt4o  09_0029_174582    0.05198229588473491  0.948018\n",
       "9         gpt4o  10_0991_331330    0.08747855917667238  0.912521\n",
       "\n",
       "[100 rows x 4 columns]"
      ]
     },
     "execution_count": 24,
     "metadata": {},
     "output_type": "execute_result"
    }
   ],
   "source": [
    "big_df"
   ]
  },
  {
   "cell_type": "code",
   "execution_count": 29,
   "metadata": {},
   "outputs": [
    {
     "name": "stderr",
     "output_type": "stream",
     "text": [
      "<ipython-input-29-b9f1b955c644>:4: FutureWarning: Calling float on a single element Series is deprecated and will raise a TypeError in the future. Use float(ser.iloc[0]) instead\n",
      "  baseline.append(float(nolabel_baseline[nolabel_baseline['ID']==id]['sim']))\n"
     ]
    }
   ],
   "source": [
    "#big_df['baseline'] = [0]*len(big_df)\n",
    "baseline = []\n",
    "for id in big_df['ID']:\n",
    "    baseline.append(float(nolabel_baseline[nolabel_baseline['ID']==id]['sim']))\n",
    "big_df['baseline'] = baseline\n"
   ]
  },
  {
   "cell_type": "code",
   "execution_count": 30,
   "metadata": {},
   "outputs": [
    {
     "data": {
      "text/html": [
       "<div>\n",
       "<style scoped>\n",
       "    .dataframe tbody tr th:only-of-type {\n",
       "        vertical-align: middle;\n",
       "    }\n",
       "\n",
       "    .dataframe tbody tr th {\n",
       "        vertical-align: top;\n",
       "    }\n",
       "\n",
       "    .dataframe thead th {\n",
       "        text-align: right;\n",
       "    }\n",
       "</style>\n",
       "<table border=\"1\" class=\"dataframe\">\n",
       "  <thead>\n",
       "    <tr style=\"text-align: right;\">\n",
       "      <th></th>\n",
       "      <th>run</th>\n",
       "      <th>ID</th>\n",
       "      <th>dist</th>\n",
       "      <th>sim</th>\n",
       "      <th>baseline</th>\n",
       "    </tr>\n",
       "  </thead>\n",
       "  <tbody>\n",
       "    <tr>\n",
       "      <th>0</th>\n",
       "      <td>claude_opus</td>\n",
       "      <td>01_0542_298135</td>\n",
       "      <td>0.0708124652198108</td>\n",
       "      <td>0.929188</td>\n",
       "      <td>0.902669</td>\n",
       "    </tr>\n",
       "    <tr>\n",
       "      <th>1</th>\n",
       "      <td>claude_opus</td>\n",
       "      <td>02_0036_174595</td>\n",
       "      <td>0.04935826334970686</td>\n",
       "      <td>0.950642</td>\n",
       "      <td>0.888766</td>\n",
       "    </tr>\n",
       "    <tr>\n",
       "      <th>2</th>\n",
       "      <td>claude_opus</td>\n",
       "      <td>03_0028_174553</td>\n",
       "      <td>0.03803506962351728</td>\n",
       "      <td>0.961965</td>\n",
       "      <td>0.899573</td>\n",
       "    </tr>\n",
       "    <tr>\n",
       "      <th>3</th>\n",
       "      <td>claude_opus</td>\n",
       "      <td>04_0043_174686</td>\n",
       "      <td>0.050453011192041215</td>\n",
       "      <td>0.949547</td>\n",
       "      <td>0.890123</td>\n",
       "    </tr>\n",
       "    <tr>\n",
       "      <th>4</th>\n",
       "      <td>claude_opus</td>\n",
       "      <td>05_0033_174804</td>\n",
       "      <td>0.09898962315674495</td>\n",
       "      <td>0.901010</td>\n",
       "      <td>0.884899</td>\n",
       "    </tr>\n",
       "    <tr>\n",
       "      <th>...</th>\n",
       "      <td>...</td>\n",
       "      <td>...</td>\n",
       "      <td>...</td>\n",
       "      <td>...</td>\n",
       "      <td>...</td>\n",
       "    </tr>\n",
       "    <tr>\n",
       "      <th>5</th>\n",
       "      <td>gpt4o</td>\n",
       "      <td>06_0079_175106</td>\n",
       "      <td>0.07406616862326575</td>\n",
       "      <td>0.925934</td>\n",
       "      <td>0.875027</td>\n",
       "    </tr>\n",
       "    <tr>\n",
       "      <th>6</th>\n",
       "      <td>gpt4o</td>\n",
       "      <td>07_0068_174641</td>\n",
       "      <td>0.04814189189189189</td>\n",
       "      <td>0.951858</td>\n",
       "      <td>0.841717</td>\n",
       "    </tr>\n",
       "    <tr>\n",
       "      <th>7</th>\n",
       "      <td>gpt4o</td>\n",
       "      <td>08_0029_174576</td>\n",
       "      <td>0.0842496765847348</td>\n",
       "      <td>0.915750</td>\n",
       "      <td>0.887775</td>\n",
       "    </tr>\n",
       "    <tr>\n",
       "      <th>8</th>\n",
       "      <td>gpt4o</td>\n",
       "      <td>09_0029_174582</td>\n",
       "      <td>0.05198229588473491</td>\n",
       "      <td>0.948018</td>\n",
       "      <td>0.879179</td>\n",
       "    </tr>\n",
       "    <tr>\n",
       "      <th>9</th>\n",
       "      <td>gpt4o</td>\n",
       "      <td>10_0991_331330</td>\n",
       "      <td>0.08747855917667238</td>\n",
       "      <td>0.912521</td>\n",
       "      <td>0.868433</td>\n",
       "    </tr>\n",
       "  </tbody>\n",
       "</table>\n",
       "<p>100 rows × 5 columns</p>\n",
       "</div>"
      ],
      "text/plain": [
       "            run              ID                   dist       sim  baseline\n",
       "0   claude_opus  01_0542_298135     0.0708124652198108  0.929188  0.902669\n",
       "1   claude_opus  02_0036_174595    0.04935826334970686  0.950642  0.888766\n",
       "2   claude_opus  03_0028_174553    0.03803506962351728  0.961965  0.899573\n",
       "3   claude_opus  04_0043_174686   0.050453011192041215  0.949547  0.890123\n",
       "4   claude_opus  05_0033_174804    0.09898962315674495  0.901010  0.884899\n",
       "..          ...             ...                    ...       ...       ...\n",
       "5         gpt4o  06_0079_175106    0.07406616862326575  0.925934  0.875027\n",
       "6         gpt4o  07_0068_174641    0.04814189189189189  0.951858  0.841717\n",
       "7         gpt4o  08_0029_174576     0.0842496765847348  0.915750  0.887775\n",
       "8         gpt4o  09_0029_174582    0.05198229588473491  0.948018  0.879179\n",
       "9         gpt4o  10_0991_331330    0.08747855917667238  0.912521  0.868433\n",
       "\n",
       "[100 rows x 5 columns]"
      ]
     },
     "execution_count": 30,
     "metadata": {},
     "output_type": "execute_result"
    }
   ],
   "source": [
    "big_df"
   ]
  },
  {
   "cell_type": "code",
   "execution_count": 31,
   "metadata": {},
   "outputs": [],
   "source": [
    "# calculate the rough normalized score\n",
    "big_df['baseline_norm_sim'] = (big_df['sim']-big_df['baseline'])/(1-big_df['baseline'])"
   ]
  },
  {
   "cell_type": "code",
   "execution_count": 32,
   "metadata": {},
   "outputs": [
    {
     "data": {
      "text/html": [
       "<div>\n",
       "<style scoped>\n",
       "    .dataframe tbody tr th:only-of-type {\n",
       "        vertical-align: middle;\n",
       "    }\n",
       "\n",
       "    .dataframe tbody tr th {\n",
       "        vertical-align: top;\n",
       "    }\n",
       "\n",
       "    .dataframe thead th {\n",
       "        text-align: right;\n",
       "    }\n",
       "</style>\n",
       "<table border=\"1\" class=\"dataframe\">\n",
       "  <thead>\n",
       "    <tr style=\"text-align: right;\">\n",
       "      <th></th>\n",
       "      <th>run</th>\n",
       "      <th>ID</th>\n",
       "      <th>dist</th>\n",
       "      <th>sim</th>\n",
       "      <th>baseline</th>\n",
       "      <th>baseline_norm_sim</th>\n",
       "    </tr>\n",
       "  </thead>\n",
       "  <tbody>\n",
       "    <tr>\n",
       "      <th>0</th>\n",
       "      <td>claude_opus</td>\n",
       "      <td>01_0542_298135</td>\n",
       "      <td>0.0708124652198108</td>\n",
       "      <td>0.929188</td>\n",
       "      <td>0.902669</td>\n",
       "      <td>0.272454</td>\n",
       "    </tr>\n",
       "    <tr>\n",
       "      <th>1</th>\n",
       "      <td>claude_opus</td>\n",
       "      <td>02_0036_174595</td>\n",
       "      <td>0.04935826334970686</td>\n",
       "      <td>0.950642</td>\n",
       "      <td>0.888766</td>\n",
       "      <td>0.556266</td>\n",
       "    </tr>\n",
       "    <tr>\n",
       "      <th>2</th>\n",
       "      <td>claude_opus</td>\n",
       "      <td>03_0028_174553</td>\n",
       "      <td>0.03803506962351728</td>\n",
       "      <td>0.961965</td>\n",
       "      <td>0.899573</td>\n",
       "      <td>0.621265</td>\n",
       "    </tr>\n",
       "    <tr>\n",
       "      <th>3</th>\n",
       "      <td>claude_opus</td>\n",
       "      <td>04_0043_174686</td>\n",
       "      <td>0.050453011192041215</td>\n",
       "      <td>0.949547</td>\n",
       "      <td>0.890123</td>\n",
       "      <td>0.540825</td>\n",
       "    </tr>\n",
       "    <tr>\n",
       "      <th>4</th>\n",
       "      <td>claude_opus</td>\n",
       "      <td>05_0033_174804</td>\n",
       "      <td>0.09898962315674495</td>\n",
       "      <td>0.901010</td>\n",
       "      <td>0.884899</td>\n",
       "      <td>0.139976</td>\n",
       "    </tr>\n",
       "    <tr>\n",
       "      <th>...</th>\n",
       "      <td>...</td>\n",
       "      <td>...</td>\n",
       "      <td>...</td>\n",
       "      <td>...</td>\n",
       "      <td>...</td>\n",
       "      <td>...</td>\n",
       "    </tr>\n",
       "    <tr>\n",
       "      <th>5</th>\n",
       "      <td>gpt4o</td>\n",
       "      <td>06_0079_175106</td>\n",
       "      <td>0.07406616862326575</td>\n",
       "      <td>0.925934</td>\n",
       "      <td>0.875027</td>\n",
       "      <td>0.407344</td>\n",
       "    </tr>\n",
       "    <tr>\n",
       "      <th>6</th>\n",
       "      <td>gpt4o</td>\n",
       "      <td>07_0068_174641</td>\n",
       "      <td>0.04814189189189189</td>\n",
       "      <td>0.951858</td>\n",
       "      <td>0.841717</td>\n",
       "      <td>0.695849</td>\n",
       "    </tr>\n",
       "    <tr>\n",
       "      <th>7</th>\n",
       "      <td>gpt4o</td>\n",
       "      <td>08_0029_174576</td>\n",
       "      <td>0.0842496765847348</td>\n",
       "      <td>0.915750</td>\n",
       "      <td>0.887775</td>\n",
       "      <td>0.249280</td>\n",
       "    </tr>\n",
       "    <tr>\n",
       "      <th>8</th>\n",
       "      <td>gpt4o</td>\n",
       "      <td>09_0029_174582</td>\n",
       "      <td>0.05198229588473491</td>\n",
       "      <td>0.948018</td>\n",
       "      <td>0.879179</td>\n",
       "      <td>0.569758</td>\n",
       "    </tr>\n",
       "    <tr>\n",
       "      <th>9</th>\n",
       "      <td>gpt4o</td>\n",
       "      <td>10_0991_331330</td>\n",
       "      <td>0.08747855917667238</td>\n",
       "      <td>0.912521</td>\n",
       "      <td>0.868433</td>\n",
       "      <td>0.335101</td>\n",
       "    </tr>\n",
       "  </tbody>\n",
       "</table>\n",
       "<p>100 rows × 6 columns</p>\n",
       "</div>"
      ],
      "text/plain": [
       "            run              ID                   dist       sim  baseline  \\\n",
       "0   claude_opus  01_0542_298135     0.0708124652198108  0.929188  0.902669   \n",
       "1   claude_opus  02_0036_174595    0.04935826334970686  0.950642  0.888766   \n",
       "2   claude_opus  03_0028_174553    0.03803506962351728  0.961965  0.899573   \n",
       "3   claude_opus  04_0043_174686   0.050453011192041215  0.949547  0.890123   \n",
       "4   claude_opus  05_0033_174804    0.09898962315674495  0.901010  0.884899   \n",
       "..          ...             ...                    ...       ...       ...   \n",
       "5         gpt4o  06_0079_175106    0.07406616862326575  0.925934  0.875027   \n",
       "6         gpt4o  07_0068_174641    0.04814189189189189  0.951858  0.841717   \n",
       "7         gpt4o  08_0029_174576     0.0842496765847348  0.915750  0.887775   \n",
       "8         gpt4o  09_0029_174582    0.05198229588473491  0.948018  0.879179   \n",
       "9         gpt4o  10_0991_331330    0.08747855917667238  0.912521  0.868433   \n",
       "\n",
       "    baseline_norm_sim  \n",
       "0            0.272454  \n",
       "1            0.556266  \n",
       "2            0.621265  \n",
       "3            0.540825  \n",
       "4            0.139976  \n",
       "..                ...  \n",
       "5            0.407344  \n",
       "6            0.695849  \n",
       "7            0.249280  \n",
       "8            0.569758  \n",
       "9            0.335101  \n",
       "\n",
       "[100 rows x 6 columns]"
      ]
     },
     "execution_count": 32,
     "metadata": {},
     "output_type": "execute_result"
    }
   ],
   "source": [
    "big_df"
   ]
  },
  {
   "cell_type": "code",
   "execution_count": 33,
   "metadata": {},
   "outputs": [],
   "source": [
    "mean_norm_sim = big_df.groupby(['run'], as_index=False)['baseline_norm_sim'].mean()"
   ]
  },
  {
   "cell_type": "code",
   "execution_count": 34,
   "metadata": {},
   "outputs": [
    {
     "data": {
      "text/plain": [
       "([0, 1, 2, 3, 4, 5, 6, 7, 8, 9],\n",
       " [Text(0, 0, 'claude_opus'),\n",
       "  Text(1, 0, 'claude_sonnet'),\n",
       "  Text(2, 0, 'gpt35'),\n",
       "  Text(3, 0, 'gpt4_1chunk'),\n",
       "  Text(4, 0, 'gpt4_3chunk'),\n",
       "  Text(5, 0, 'gpt4_3chunk_original'),\n",
       "  Text(6, 0, 'gpt4_original_6chunk'),\n",
       "  Text(7, 0, 'gpt4_original_9chunk'),\n",
       "  Text(8, 0, 'gpt4o'),\n",
       "  Text(9, 0, 'mixtral')])"
      ]
     },
     "execution_count": 34,
     "metadata": {},
     "output_type": "execute_result"
    },
    {
     "data": {
      "image/png": "[encoded data removed]",
      "text/plain": [
       "<Figure size 432x288 with 1 Axes>"
      ]
     },
     "metadata": {
      "needs_background": "light"
     },
     "output_type": "display_data"
    }
   ],
   "source": [
    "plt.bar(mean_norm_sim['run'], mean_norm_sim['baseline_norm_sim'])\n",
    "plt.xticks(rotation='vertical')"
   ]
  },
  {
   "cell_type": "code",
   "execution_count": 35,
   "metadata": {},
   "outputs": [],
   "source": [
    "def opposite_transcript(transcript):\n",
    "\n",
    "    def opposite(speaker):\n",
    "        if speaker=='Student': return 'Patient'\n",
    "        elif speaker=='Patient': return 'Student'\n",
    "        return 'Student'\n",
    "    \n",
    "    new = []\n",
    "    new.append({'speaker': opposite(transcript[0]['speaker']), 'text': transcript[0]['text']})\n",
    "    \n",
    "    for i in range(1, len(transcript)):\n",
    "        this = {}\n",
    "        if transcript[i]['speaker'] == transcript[i-1]['speaker']:\n",
    "            new[-1]['text'] += transcript[i]['text']\n",
    "        else:\n",
    "            this['speaker'] = opposite(transcript[i]['speaker'])\n",
    "            this['text'] = transcript[i]['text']\n",
    "            new.append(this)\n",
    "    \n",
    "    return new"
   ]
  },
  {
   "cell_type": "code",
   "execution_count": 39,
   "metadata": {},
   "outputs": [],
   "source": [
    "def opposite_baseline_score(ids, gold_path = '/archive/shared/sim_center/shared/annie/gpt4-gold-standard-diarized/'):\n",
    "    scores = {}\n",
    "    for id in ids:\n",
    "        # debugging statement: \n",
    "        print(id) \n",
    "        transcript = extract_text(opposite_transcript(reconstruct_transcript(gold_path, id)))\n",
    "        gold = extract_text(consolidate_transcript(reconstruct_transcript(gold_path, id)))\n",
    "        distance = normalized_levenshtein.distance(transcript, gold)\n",
    "        similarity = normalized_levenshtein.similarity(transcript, gold)\n",
    "        scores[id] = [distance, similarity]\n",
    "    return scores\n"
   ]
  },
  {
   "cell_type": "code",
   "execution_count": 40,
   "metadata": {},
   "outputs": [
    {
     "name": "stdout",
     "output_type": "stream",
     "text": [
      "01_0542_298135\n",
      "02_0036_174595\n",
      "03_0028_174553\n",
      "04_0043_174686\n",
      "05_0033_174804\n",
      "06_0079_175106\n",
      "07_0068_174641\n",
      "08_0029_174576\n",
      "09_0029_174582\n",
      "10_0991_331330\n"
     ]
    },
    {
     "ename": "TypeError",
     "evalue": "save_scores() missing 1 required positional argument: 'ids'",
     "output_type": "error",
     "traceback": [
      "\u001b[0;31m---------------------------------------------------------------------------\u001b[0m",
      "\u001b[0;31mTypeError\u001b[0m                                 Traceback (most recent call last)",
      "Cell \u001b[0;32mIn[40], line 2\u001b[0m\n\u001b[1;32m      1\u001b[0m opposite \u001b[38;5;241m=\u001b[39m opposite_baseline_score(ids)\n\u001b[0;32m----> 2\u001b[0m \u001b[43msave_scores\u001b[49m\u001b[43m(\u001b[49m\u001b[43mopposite\u001b[49m\u001b[43m,\u001b[49m\u001b[43m \u001b[49m\u001b[43mrun_name\u001b[49m\u001b[38;5;241;43m=\u001b[39;49m\u001b[38;5;124;43m'\u001b[39;49m\u001b[38;5;124;43mopposite_baseline\u001b[39;49m\u001b[38;5;124;43m'\u001b[39;49m\u001b[43m)\u001b[49m\n",
      "\u001b[0;31mTypeError\u001b[0m: save_scores() missing 1 required positional argument: 'ids'"
     ]
    }
   ],
   "source": [
    "opposite = opposite_baseline_score(ids)"
   ]
  },
  {
   "cell_type": "code",
   "execution_count": 41,
   "metadata": {},
   "outputs": [],
   "source": [
    "save_scores(opposite, ids, run_name='opposite_baseline')"
   ]
  },
  {
   "cell_type": "code",
   "execution_count": 46,
   "metadata": {},
   "outputs": [],
   "source": [
    "opposite_baseline = extract_scores(path, 'opposite_baseline')"
   ]
  },
  {
   "cell_type": "code",
   "execution_count": 47,
   "metadata": {},
   "outputs": [
    {
     "name": "stderr",
     "output_type": "stream",
     "text": [
      "<ipython-input-47-79645b6aad11>:4: FutureWarning: Calling float on a single element Series is deprecated and will raise a TypeError in the future. Use float(ser.iloc[0]) instead\n",
      "  opp.append(float(opposite_baseline[opposite_baseline['ID']==id]['sim']))\n"
     ]
    }
   ],
   "source": [
    "#big_df['baseline'] = [0]*len(big_df)\n",
    "opp = []\n",
    "for id in big_df['ID']:\n",
    "    opp.append(float(opposite_baseline[opposite_baseline['ID']==id]['sim']))\n",
    "big_df['opposite_baseline'] = opp"
   ]
  },
  {
   "cell_type": "code",
   "execution_count": 49,
   "metadata": {},
   "outputs": [],
   "source": [
    "big_df['opposite_norm_sim'] = (big_df['sim']-big_df['opposite_baseline'])/(1-big_df['opposite_baseline'])"
   ]
  },
  {
   "cell_type": "code",
   "execution_count": 50,
   "metadata": {},
   "outputs": [],
   "source": [
    "mean_opp_sim = big_df.groupby(['run'], as_index=False)['opposite_norm_sim'].mean()"
   ]
  },
  {
   "cell_type": "code",
   "execution_count": 52,
   "metadata": {},
   "outputs": [
    {
     "data": {
      "text/plain": [
       "([0, 1, 2, 3, 4, 5, 6, 7, 8, 9],\n",
       " [Text(0, 0, 'claude_opus'),\n",
       "  Text(1, 0, 'claude_sonnet'),\n",
       "  Text(2, 0, 'gpt35'),\n",
       "  Text(3, 0, 'gpt4_1chunk'),\n",
       "  Text(4, 0, 'gpt4_3chunk'),\n",
       "  Text(5, 0, 'gpt4_3chunk_original'),\n",
       "  Text(6, 0, 'gpt4_original_6chunk'),\n",
       "  Text(7, 0, 'gpt4_original_9chunk'),\n",
       "  Text(8, 0, 'gpt4o'),\n",
       "  Text(9, 0, 'mixtral')])"
      ]
     },
     "execution_count": 52,
     "metadata": {},
     "output_type": "execute_result"
    },
    {
     "data": {
      "image/png": "[encoded data removed]",
      "text/plain": [
       "<Figure size 432x288 with 1 Axes>"
      ]
     },
     "metadata": {
      "needs_background": "light"
     },
     "output_type": "display_data"
    }
   ],
   "source": [
    "plt.bar(mean_opp_sim['run'], mean_opp_sim['opposite_norm_sim'])\n",
    "plt.xticks(rotation='vertical')"
   ]
  },
  {
   "cell_type": "code",
   "execution_count": 54,
   "metadata": {},
   "outputs": [],
   "source": [
    "big_df.to_csv('/archive/shared/sim_center/shared/annie/levenshtein-scores/big_df.csv')"
   ]
  }
 ],
 "metadata": {
  "kernelspec": {
   "display_name": "pf",
   "language": "python",
   "name": "python3"
  },
  "language_info": {
   "codemirror_mode": {
    "name": "ipython",
    "version": 3
   },
   "file_extension": ".py",
   "mimetype": "text/x-python",
   "name": "python",
   "nbconvert_exporter": "python",
   "pygments_lexer": "ipython3",
   "version": "3.9.18"
  }
 },
 "nbformat": 4,
 "nbformat_minor": 2
}
