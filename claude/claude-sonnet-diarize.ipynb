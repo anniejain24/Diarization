{
 "cells": [
  {
   "cell_type": "code",
   "execution_count": 2,
   "metadata": {},
   "outputs": [
    {
     "name": "stdout",
     "output_type": "stream",
     "text": [
      "[TextBlock(text=\"Ahoy matey! 'Tis a fine day to be sailin' the high seas o' conversation, isn't it? What winds be blowin' ye way on this voyage?\", type='text')]\n"
     ]
    }
   ],
   "source": [
    "import anthropic\n",
    "import os\n",
    "\n",
    "path = '/work/bioinformatics/s229618/api_keys/claude_key.txt'\n",
    "\n",
    "with open(path, 'r') as file:\n",
    "    key = file.read()\n",
    "\n",
    "client = anthropic.Anthropic(\n",
    "    api_key=key,\n",
    ")\n",
    "message = client.messages.create(\n",
    "    model=\"claude-3-sonnet-20240229\",\n",
    "    max_tokens=1000,\n",
    "    temperature=0,\n",
    "    system=\"Respond only in pirate speak.\",\n",
    "    messages=[\n",
    "        {\"role\": \"user\", \"content\": \"Hi Claude.\"}\n",
    "    ]\n",
    ")\n",
    "print(message.content)"
   ]
  },
  {
   "cell_type": "code",
   "execution_count": 3,
   "metadata": {},
   "outputs": [],
   "source": [
    "transcript_id = '10_0991_331330'\n",
    "import pandas as pd\n",
    "import nltk\n",
    "from nltk.tokenize import word_tokenize\n",
    "from nltk.tokenize import WhitespaceTokenizer\n",
    "\n",
    "def read_transcript_from_id(transcript_id):\n",
    "\n",
    "    path_to_data_folder = '/archive/shared/sim_center/shared/ameer/'\n",
    "    # lookinto this dictionary to find the path\n",
    "    # can also manually create the path and it would be faster but not by much\n",
    "    merged_lookup = pd.read_csv(path_to_data_folder + 'grade_lookupv5.csv')\n",
    "    transcript = ''\n",
    "\n",
    "    path = merged_lookup[merged_lookup.id == transcript_id].path.iloc[0]\n",
    "    with open(path, 'r') as file:\n",
    "        lines = file.readlines()\n",
    "    for line in lines:\n",
    "        if line != '\\n':\n",
    "            tok_line = line.split(' ')\n",
    "            for i in range(len(tok_line)):\n",
    "                transcript += ' ' + tok_line[i]\n",
    "\n",
    "\n",
    "    return transcript"
   ]
  },
  {
   "cell_type": "code",
   "execution_count": 4,
   "metadata": {},
   "outputs": [],
   "source": [
    "transcript = read_transcript_from_id(transcript_id)"
   ]
  },
  {
   "cell_type": "code",
   "execution_count": 5,
   "metadata": {},
   "outputs": [],
   "source": [
    "def summarize(transcript):\n",
    "    summary = client.messages.create(\n",
    "        model=\"claude-3-sonnet-20240229\",\n",
    "        max_tokens=4096,\n",
    "        temperature=0,\n",
    "        system=\"Please summarize the following text in one paragraph. 100 words. Do not add any information that is not in the text.\",\n",
    "        messages=[\n",
    "            {\"role\": \"user\", \"content\": transcript}\n",
    "        ]\n",
    "    )\n",
    "\n",
    "    return summary\n",
    "#print(message.content)"
   ]
  },
  {
   "cell_type": "code",
   "execution_count": 8,
   "metadata": {},
   "outputs": [],
   "source": [
    "#summary.content[0].text"
   ]
  },
  {
   "cell_type": "code",
   "execution_count": 6,
   "metadata": {},
   "outputs": [],
   "source": [
    "def diarize(summary, transcript):\n",
    "    diarization = client.messages.create(\n",
    "        model=\"claude-3-sonnet-20240229\",\n",
    "        max_tokens=4096,\n",
    "        temperature=0,\n",
    "        system='''The following text represents an audio transcript between a medical student and a patient, with the summary included below.\n",
    "                The student is the one who will be playing the role of doctor, asking questions about the patient's condition and symptoms.\n",
    "                Please diarize the following transcript in order to indicate who speaks when, using the format in the following example, with the label \"Student\" for the medical student and \"Patient\" for the patient (not their names):\n",
    "\n",
    "                Student: Hello, how are you today?\n",
    "\n",
    "                Patient: I am feeling sick. \n",
    "\n",
    "                Student: Oh no, how long have you felt sick? \n",
    "\n",
    "                Patient: About two days. \n",
    "\n",
    "                Separate speaker turns by an extra new line, as above ('\\n\\n'). The lines do not always have to be alternating labels. There may be consecutive lines from one speaker. Do not use any speaker labels for the two participants other than \"Student\" and \"Patient.\"\n",
    "\n",
    "                The transcript may contain some instructions for the student, coming from a third-party speaker. Please label this segment \"Instructions: \". \n",
    "                If there are no instructions in the transcript, disregard this label. \n",
    "\n",
    "                IMPORTANT: Do not remove or add any words to the transcript other than the speaker labels. Also, do not add or remove any punctuation or change any spellings.''',\n",
    "        messages=[\n",
    "            {\"role\": \"user\", \"content\": 'summary: ' + summary.content[0].text + '\\n\\ntranscript: ' + transcript}\n",
    "        ]\n",
    "    )\n",
    "\n",
    "    return diarization\n",
    "#print(diarization.content)"
   ]
  },
  {
   "cell_type": "code",
   "execution_count": 10,
   "metadata": {},
   "outputs": [],
   "source": [
    "#print(diarization.content[0].text)"
   ]
  },
  {
   "cell_type": "code",
   "execution_count": 7,
   "metadata": {},
   "outputs": [],
   "source": [
    "def save_file(diarization, transcript_id):\n",
    "    path = '/archive/shared/sim_center/shared/annie/claude/'\n",
    "    with open(path + transcript_id + \".txt\", \"w\") as outfile:\n",
    "        outfile.write('ID: ' + transcript_id + '\\n\\n' + diarization.content[0].text)"
   ]
  },
  {
   "cell_type": "code",
   "execution_count": 8,
   "metadata": {},
   "outputs": [],
   "source": [
    "def claude_diarize(transcript_id):\n",
    "    print(transcript_id)\n",
    "    transcript = read_transcript_from_id(transcript_id)\n",
    "    summary = summarize(transcript)\n",
    "    diarization = diarize(summary, transcript)\n",
    "    save_file(diarization, transcript_id)"
   ]
  },
  {
   "cell_type": "code",
   "execution_count": 9,
   "metadata": {},
   "outputs": [],
   "source": [
    "id_set1 = ['01_0542_298135',\n",
    "'02_0036_174595',\n",
    "'03_0028_174553',\n",
    "'04_0043_174686',\n",
    "'05_0033_174804',\n",
    "'06_0079_175106',\n",
    "'07_0068_174641',\n",
    "'08_0029_174576',\n",
    "'09_0029_174582',\n",
    "'10_0991_331330']\n",
    "\n",
    "id_set2 = ['01_1080_366142',\n",
    "           '02_1056_380177',\n",
    "           '03_1500_380168',\n",
    "           '04_1512_380182',\n",
    "           '05_1066_380195',\n",
    "           '06_1048_365209',\n",
    "           '07_1111_380134',\n",
    "           '08_1044_380133',\n",
    "           '09_1039_380193',\n",
    "           '10_1005_331402'\n",
    "]"
   ]
  },
  {
   "cell_type": "code",
   "execution_count": 14,
   "metadata": {},
   "outputs": [],
   "source": [
    "for id in id_set1:\n",
    "    claude_diarize(id)"
   ]
  },
  {
   "cell_type": "code",
   "execution_count": 10,
   "metadata": {},
   "outputs": [
    {
     "name": "stdout",
     "output_type": "stream",
     "text": [
      "01_1080_366142\n"
     ]
    },
    {
     "name": "stdout",
     "output_type": "stream",
     "text": [
      "02_1056_380177\n",
      "03_1500_380168\n",
      "04_1512_380182\n",
      "05_1066_380195\n",
      "06_1048_365209\n",
      "07_1111_380134\n",
      "08_1044_380133\n",
      "09_1039_380193\n",
      "10_1005_331402\n"
     ]
    }
   ],
   "source": [
    "for id in id_set2:\n",
    "    claude_diarize(id)"
   ]
  }
 ],
 "metadata": {
  "kernelspec": {
   "display_name": "pf",
   "language": "python",
   "name": "python3"
  },
  "language_info": {
   "codemirror_mode": {
    "name": "ipython",
    "version": 3
   },
   "file_extension": ".py",
   "mimetype": "text/x-python",
   "name": "python",
   "nbconvert_exporter": "python",
   "pygments_lexer": "ipython3",
   "version": "3.9.18"
  }
 },
 "nbformat": 4,
 "nbformat_minor": 2
}
