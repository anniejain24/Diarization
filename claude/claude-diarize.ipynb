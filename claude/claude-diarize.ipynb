{
 "cells": [
  {
   "cell_type": "code",
   "execution_count": 1,
   "metadata": {},
   "outputs": [
    {
     "name": "stdout",
     "output_type": "stream",
     "text": [
      "[TextBlock(text='Ahoy there, me hearty! What brings ye to these waters on this fine day?', type='text')]\n"
     ]
    }
   ],
   "source": [
    "import anthropic\n",
    "import os\n",
    "\n",
    "path = '/work/bioinformatics/s229618/api_keys/claude_key.txt'\n",
    "\n",
    "with open(path, 'r') as file:\n",
    "    key = file.read()\n",
    "\n",
    "client = anthropic.Anthropic(\n",
    "    api_key=key,\n",
    ")\n",
    "message = client.messages.create(\n",
    "    model=\"claude-3-opus-20240229\", #replace this\n",
    "    max_tokens=1000,\n",
    "    temperature=0,\n",
    "    system=\"Respond only in pirate speak.\",\n",
    "    messages=[\n",
    "        {\"role\": \"user\", \"content\": \"Hi Claude.\"}\n",
    "    ]\n",
    ")\n",
    "print(message.content)"
   ]
  },
  {
   "cell_type": "code",
   "execution_count": 2,
   "metadata": {},
   "outputs": [],
   "source": [
    "transcript_id = '10_0991_331330'\n",
    "import pandas as pd\n",
    "import nltk\n",
    "import json\n",
    "from nltk.tokenize import word_tokenize\n",
    "from nltk.tokenize import WhitespaceTokenizer\n",
    "\n",
    "def read_transcript_from_id(transcript_id, chunk_num=1):\n",
    "\n",
    "    path_to_data_folder = '/archive/shared/sim_center/shared/ameer/'\n",
    "    # path_to_data_folder = '/archive/shared/sim_center/shared/annie/GPT4 3-chunk/'\n",
    "    # lookinto this dictionary to find the path\n",
    "    # can also manually create the path and it would be faster but not by much\n",
    "\n",
    "\n",
    "    merged_lookup = pd.read_csv(path_to_data_folder + 'grade_lookupv5.csv')\n",
    "\n",
    "    path = merged_lookup[merged_lookup.id == transcript_id].path.iloc[0]\n",
    "\n",
    "    path = path[:-4] + '.json'\n",
    "\n",
    "    # Opening JSON file\n",
    "    f = open(path)\n",
    "\n",
    "    # returns JSON object as \n",
    "    # a dictionary\n",
    "    json_transcript = json.load(f)\n",
    "\n",
    "    transcript = ' '\n",
    "\n",
    "    lines = json_transcript\n",
    "    \n",
    "    if chunk_num == 1: \n",
    "        for line in lines:\n",
    "            if line['text'] != '\\n':\n",
    "                tok_line = line['text'].split(' ')\n",
    "                for i in range(len(tok_line)):\n",
    "                    transcript += ' ' + tok_line[i]\n",
    "    \n",
    "    else:\n",
    "        transcript_chunks = []\n",
    "        # for each chunk\n",
    "        for n in range(chunk_num):\n",
    "            transcript = ''\n",
    "            # get the relevant lines\n",
    "            start = n*int(len(lines)/chunk_num)\n",
    "            end = (n+1)*int(len(lines)/chunk_num)\n",
    "            if n == chunk_num-1: end = len(lines)\n",
    "\n",
    "            for line in lines[start: end]:\n",
    "                if line['text'] != '\\n':\n",
    "                    tok_line = line['text'].split(' ')\n",
    "                    for i in range(len(tok_line)):\n",
    "                        transcript += ' ' + tok_line[i]\n",
    "            #append to transcript\n",
    "            transcript_chunks.append(transcript)\n",
    "        \n",
    "        transcript = transcript_chunks\n",
    "\n",
    "\n",
    "    return transcript"
   ]
  },
  {
   "cell_type": "code",
   "execution_count": 3,
   "metadata": {},
   "outputs": [
    {
     "data": {
      "text/plain": [
       "[\"  Learners, you may begin your patient station, remove your cover sheet, jot down any... Thank you. Come in.  Come on in, man.  Hello, Mr. Pimbleton. Hi, my name is Coleman. I'm a medical student at UT Southwestern. I am here to ask you some questions. I just want to know how you are feeling today.  I've been feeling sick to my stomach.  Now I throw one up, I feel not good.  Okay, when did this start?  It started getting nauseous.  I was feeling nausea.  I had a stomachache.  I felt nause up. I am not good.  Okay, when did this start? I started getting nauseous two days ago. Threw up the first  time yesterday after breakfast, about 20 minutes after I ate. Any other episodes of vomiting?  Yeah, I threw up three or four times yesterday and then after breakfast today about five  minutes after I ate.  Okay.  And what does your vomit look like? It's just small bits of undigested food, whatever I eat.  Any blood in it?  No.  No?  No  Bile?  No  Just the chunks of food?  No  Okay  Now this has been going on for just two days.  Has this happened before?  No, never.  Okay.  And does anything make it worse?  Uh, eating.  Yeah.  Yeah, anything makes it better?  Not really, other than not eating  Okay Is there any associated with the vomiting?  Yeah, I got a little mild pain in my abdomen there.  Okay, on a scale of 1 to 10, about how bad, how would you describe it?  Oh, it's like a 3.  Yeah. Just kind of an irritation.  Okay.  And so if you don't eat, do you get nauseous still?  Oh, yeah.  So nausea is there all the time.  Okay, nauseas.  Any fevers?  No, no fever.  You mean chills? Chills?  No.  If you don't mind me asking, what are you usually eating at these meals?  I don' know, like for breakfast I usually have scrambled eggs and bacon and toast.  Okay.  No changes in your diet?  No change in diet.  Okay, okay.  Okay No changes in your diet? No change in diet. Okay.  Have you taken any medication for this? Over the counter medications?  No.  Alrighty.  Anything else  that you have to share that would help us like diagnose what this is any  any other changes any others that that's you're having at home no no nothing specific nothing  comes to mind i'm sorry another comes up on mine okay and then i imagine loss of appetite  I imagine loss of appetite as well. Yeah, it's decreased as you start throwing up.  Okay, if I could just ask you a few questions now about your past medical history.  Sure.  Have you been diagnosed with any chronic illnesses?  Oh, let's see.  Hypertension.  I've got osteoarthritis in both my knees.  I've got osteoarthritis in both my knees and then I get my lower back, I have chronic back pain from that. I think that's all.  Do you take any medications at home?  Yeah,  I take verapamil, they prescribe up for hypertension. I take hydrocortone and Tylenol.  That helps my back and my knees, actually.  Okay.  I'll ask you a few questions now  about your surgical history.  Have you had any prior surgeries?  No.  And I want to ask you some questions about  your family history? Has anyone in your  family been diagnosed with a chronic illness or disease?  No, my parents both died of old age.  My siblings are in good health.  Good to hear. That's good to  hear, that's phenomenal. And then I'd just like to ask you some questions lastly about social history.  Any alcohol use? No.  Any tobacco products used?  No  Any drugs?  Drugs never used.  Just what I told you.  Just these medications?  Yeah  Do you feel safe at home? I'm sorry? Yeah!  Do you get married?  Yeah  Or wife and I at  home.  Yeah  Good to hear. Good. At this point I would like to perform a brief physical exam.  If I could have you sit on the on a Sure. You don't have to lay back just yet.  All right.  I would like...  I'm sorry.\",\n",
       " \"  I still need these rooms.  How's your day been otherwise besides the... Man, if I get rid of this throwing up,  it'd be better.  Yeah.  I can't imagine that's comfortable.  No, it's not.  What do you do for work?  Oh, I'm retired.  Yeah, but you don't mind me asking your age. How old are you? What do you do for work? Oh, I'm retired. Oh.  Yeah.  If you don't mind me asking your age, how old are you?  55.  55...  That's nice, that's early.  You're retired?  What did you before that?  I worked for General Motors.  Oh yeah, Chimbley Live.? I worked for General Motors.  On the assembly line.  Oh, I'm a Ford guy.  Sorry.  That's okay.  Just gonna take a look.  Deep breath. Okay. No back pain? No. Just lower back from the... Yeah.  Okay  Okay  Okay  Okay  Okay  Okay  Okay  Okay  Okay  Okay  Okay  Okay  Okay  Okay  Okay  Okay  Okay  Okay  Okay  Okay Okay Okay Okay Okay Yeah. Okay. And then if you don't mind at this point, I'll have you lay back on the table.  Alright.  We'll do an abdominal exam.  Alright  First, if don' mind, we're going to lift up your tap. Just look.  That's fine.  Okay.  Alright.  Let's take a listen. Do a little palpation, tell me if you feel anything, okay?  Alright.  Any pain?  Nope.  Pain?  Nope?  Any painting?  Nope!  Pain here?  Nope  Alright, Mr. Pribbleton, why don't you sit back up.  Alright.  And if you would like to feel more comfortable you can stay seated there or go back to the  chair, whichever one you prefer.  Well.  You don t have to worry, it might be something serious.  Alright well, that s never all the way off the table, but I can certainly say when it's further down on the  table. Let's just go over real quickly what I think you might have and what could be causing  these symptoms. Okay. The way you describe your vomiting, sounds like it's not getting very far down your digestive tract  so that makes me start to think of things that are closer to the stomach in a song place  and it is possible some people over time they can get that constriction of their esophagus  which makes it less uh dilated I guess for food to pass through  and so we can do something it's called a barium swallow study and we would just  look at to make sure that your esopagus goes all the way down to your stomach  and that there's no problems there another option although it  likely you could have an obstruction CT scan of your out just to see if there's  anything any masses or changes that could be blocking that from your side  and then something else if we still can't figure out what's going on we  could also do an endoscopy where GI doctors would put a camera down your  throat just see it there any any ulcers or concerning changes  but your lack of fevers and other symptoms make me think that this is either something to do  with the digestive tract or make quick viral gastric viral bug okay Oh, okay. So I'm not concerned for any serious infections.  Do you have any questions about that?  No, I guess not.  Okay.  I just want to get it taken care of so I don't feel better.  So most likely it could resolve on its own,  but we're going to do those tests to make sure that it's not anything else that could  Be alarming good. Does that sound like a plan that you're you bet comfortable with sure Paul through that? Yeah. Oh, yeah  Do you have any questions? I?  Guess not  Okay, get this done today. Thank you. Thank You. It was good to see you!  Okay, take care. I'm going to put it in the fridge with a spoon. I'll try it. I can't eat this.  I have to do it again.  I will try again with my hands.  I don't know if I should do this or not.  I think I did it right.  I ate it all.  I was hungry.  I want to go to the bathroom.  I need to take a shower.  I am hungry, too.  I feel like I've been eating too much. I eat I'm going to go ahead and do that. so so Thank you. Learners, your time is up.  Please exit your patient station.  Log into SimIQ using your UT credentials. Okay. Thank you.\"]"
      ]
     },
     "execution_count": 3,
     "metadata": {},
     "output_type": "execute_result"
    }
   ],
   "source": [
    "read_transcript_from_id(transcript_id, chunk_num=2)"
   ]
  },
  {
   "cell_type": "code",
   "execution_count": 4,
   "metadata": {},
   "outputs": [],
   "source": [
    "def summarize(transcript):\n",
    "    summary = client.messages.create(\n",
    "        model=\"claude-3-opus-20240229\",\n",
    "        max_tokens=4096,\n",
    "        temperature=0,\n",
    "        system=\"Please summarize the following text in one paragraph. 100 words. Do not add any information that is not in the text.\",\n",
    "        messages=[\n",
    "            {\"role\": \"user\", \"content\": transcript}\n",
    "        ]\n",
    "    )\n",
    "\n",
    "    return summary\n",
    "#print(message.content)"
   ]
  },
  {
   "cell_type": "code",
   "execution_count": 8,
   "metadata": {},
   "outputs": [],
   "source": [
    "#summary.content[0].text"
   ]
  },
  {
   "cell_type": "code",
   "execution_count": 5,
   "metadata": {},
   "outputs": [],
   "source": [
    "def diarize(summary, transcript):\n",
    "    diarization = client.messages.create(\n",
    "        model=\"claude-3-opus-20240229\",\n",
    "        max_tokens=4096,\n",
    "        temperature=0,\n",
    "        system='''The following text represents an audio transcript between a medical student and a patient, with the summary included below.\n",
    "                The student is the one who will be playing the role of doctor, asking questions about the patient's condition and symptoms.\n",
    "                Please diarize the following transcript in order to indicate who speaks when, using the format in the following example, with the label \"Student\" for the medical student and \"Patient\" for the patient (not their names):\n",
    "\n",
    "                Student: Hello, how are you today?\n",
    "\n",
    "                Patient: I am feeling sick. \n",
    "\n",
    "                Student: Oh no, how long have you felt sick? \n",
    "\n",
    "                Patient: About two days. \n",
    "\n",
    "                Separate speaker turns by an extra new line, as above ('\\n\\n'). The lines do not always have to be alternating labels. There may be consecutive lines from one speaker. Do not use any speaker labels for the two participants other than \"Student\" and \"Patient.\"\n",
    "\n",
    "                The transcript may contain some instructions for the student, coming from a third-party speaker. Please label this segment \"Instructions: \". \n",
    "                If there are no instructions in the transcript, disregard this label. \n",
    "\n",
    "                IMPORTANT: Do not remove or add any words to the transcript other than the speaker labels. Also, do not add or remove any punctuation or change any spellings.''',\n",
    "        messages=[\n",
    "            {\"role\": \"user\", \"content\": 'summary: ' + summary.content[0].text + '\\n\\ntranscript: ' + transcript}\n",
    "        ]\n",
    "    )\n",
    "\n",
    "    return diarization\n",
    "#print(diarization.content)"
   ]
  },
  {
   "cell_type": "code",
   "execution_count": 10,
   "metadata": {},
   "outputs": [],
   "source": [
    "#print(diarization.content[0].text)"
   ]
  },
  {
   "cell_type": "code",
   "execution_count": 6,
   "metadata": {},
   "outputs": [],
   "source": [
    "def save_file(diarization, transcript_id, path = '/archive/shared/sim_center/shared/annie/claude-opus/'):\n",
    "    #path = '/archive/shared/sim_center/shared/annie/claude-opus/'\n",
    "    with open(path + transcript_id + \".txt\", \"w\") as outfile:\n",
    "        outfile.write('ID: ' + transcript_id + '\\n\\n' + diarization)"
   ]
  },
  {
   "cell_type": "code",
   "execution_count": 7,
   "metadata": {},
   "outputs": [],
   "source": [
    "def claude_diarize(transcript_id):\n",
    "    print(transcript_id)\n",
    "    transcript = read_transcript_from_id(transcript_id)\n",
    "    summary = summarize(transcript)\n",
    "    diarization = diarize(summary, transcript).content[0].text\n",
    "    save_file(diarization, transcript_id)"
   ]
  },
  {
   "cell_type": "code",
   "execution_count": 8,
   "metadata": {},
   "outputs": [],
   "source": [
    "def claude_diarize_twochunk(transcript_id):\n",
    "\n",
    "    print(transcript_id)\n",
    "    transcript = read_transcript_from_id(transcript_id, chunk_num=2)\n",
    "\n",
    "    # first chunk\n",
    "    summary0 = summarize(transcript[0])\n",
    "    diarization0 = diarize(summary0, transcript[0]).content[0].text\n",
    "\n",
    "    # second chunk\n",
    "    summary1 = summarize(transcript[1])\n",
    "    diarization1 = diarize(summary1, transcript[1]).content[0].text\n",
    "\n",
    "    diarization = diarization0 + '\\n\\n' + diarization1\n",
    "\n",
    "    save_file(diarization, transcript_id)"
   ]
  },
  {
   "cell_type": "code",
   "execution_count": 9,
   "metadata": {},
   "outputs": [
    {
     "data": {
      "text/plain": [
       "[\"  Thank you. I'm sorry. Are you Mr. Daniel? Yes. Hi, Mr Daniel. My name's Kelsey. I am a medical student here in the clinic. Kelsey, yes.  Kelsey? Kelsey yes, it's right there. Okay. If it is okay with you, I would like to just ask you a few questions about what brought you in today and then do a physical exam. Sounds good. Okay, so what brought you to the clinic today? I had ECIs and a runny nose.  ECI and run a running nose, okay.  Okay.  And when did that start?  About two months ago.  Two months.  Two weeks ago?  Was there anything different about, like, the kind of work you were doing?  No, it usually comes around this time every year. You can see the fall,  because I've had it for about five years. So where it comes in the Fall, but it's gotten worse the  past two weeks. Okay, I don't know. For the past five  years, every Fall you get this, these itchy eyes, this runny nose.  You know that it is coming and then it has gotten worst in  the last two weeks?  Correct.  Okay, can you kind of tell me what that means?  Pretty much, I used to have it maybe once or twice a week.  I have the every day.  Oh, no.  Okay.  And when you say that you have a runy nose every time,  you mean that I don't have that every  day, like your nose is runty every  day?  Your eyes Like your nose is runny every day, your eyes are itchy every day. Okay. All right.  Anything else that you've noticed with it?  Any cough?  Any?  Sneezing and my throat is irritated from time to time.  It's not consistent.  Okay, so sneezing is irritating.  Right.  Throat, yeah.  Yeah.  Have you noticed any phlegm?  Like any?  No.  Nothing like that in your throat?  No  Okay.  And is it worse in the morning or at night or is just kind of the same?  Uh, mainly when I go outside.  Okay!  Where's the outside?  Okay, and did anything change five years ago when this started?  Not that I can recall.  Okay alright. this started? Not that I can recall. Okay. All right. And these itchy eyes, is it painful  or is just itchy? It's just itching. And then, does anything make it better? Uh, going inside.  Okay, or going outside after it rains. It's not so bad. Does it change at all whether  it's depending on whether its sunny outside or not?  Or is it just the rain helps?  Uh, the Rain helps.  It makes it worse when like there's cats and dogs around or high pollen.  Okay.  So you kind of figured out those are the triggers.  Cats and Dogs, Pollen, Fall.  Yeah.  Okay, have you tried to take any medicines?  Yeah, actually I've taken Claritin and Benadryl.  Have those helped at all?  Claritan was okay. Benadyl was great. It just makes me drowsy.  Right, which is hard to live your life tired of it.  Yeah.  Yeah I can't understand that. Okay, so Clariten and benadyl, benadyl helped a lot, but it's hard to look that way.  Okay.  All right.  And if you had to kind of rate how bothersome these symptoms are, one to ten,  one is like it is nothing.  Ten is, like, I can't live my life like this.  How would you rate it? Seven.  Seven, okay.  Yeah.  So it gets, it interferes with this, too.  Right, exactly.  So it's getting, it' like interfering with us. Right, exactly. Especially with like, you know, just things like me and my wife like to play golf.  Yeah.  So we just can't even do that because I can' be outside too long. I'm just keeping it with my friends.  Right. Right okay.  I cannot understand how that would be frustrating.  Yeah  I am glad that you came in because, I think we can find a solution for you.  Sounds good. And then hopefully you can get back to playing golf and enjoy time outside.  Yeah, living your life.  Okay, so I'd like to ask you a few more questions about any other symptoms you might be having and also your past medical issues.  Okay.  Okay so, I know that you mentioned you've also been sneezing, you have occasional throat  pain.  Any headaches?  No.  Okay any dizziness? No. Okay.  Any dizziness?  No, feeling lightheaded. Any ear pain?  No  Okay  Any shortness of breath?  No  Feeling any palpitations in your heart?  No  Nothing like that.  Okay, is it worse at all with activity?  No  Not associated with that activity.  Okay, that's a sign.  Okay and any other symptoms that you've noticed?  Just a sneeze and yeah, a case called irritated throat.  Yeah, okay. When you say irritated, is it like tense pain? Is like scratchy?  Kind of scratchiness, honestly.  Okay, do you have any chronic medical conditions, chronic mental problems?  No.  No? Okay any medicines that you take every day, regularly?  Yeah, I take a multivitamin.  Okay and is that something you've taken for a while?  Yeah.  I've been taking that for two years.  Okay, any allergies that you know of?  No.  Okay  Okay any history of hospitalization?  No, no.  Okay that's good.  Any surgeries?  No  Okay  Any family history of any chronic medical conditions?  My mom has allergies. Your mom had allergies? Yes, she's always had them.  And my sisters.  She has asthma like me. I had asthma until I was age 10.  And it went away, but she still has it though.  My dad never really had anything.  Okay? Alright. And it went away, but she still has it though. Okay. But that's about it. My dad didn't really have anything.  Okay, all right.  Got the good genes.  All right, and these are questions we ask everyone just about your social history.  Okay  Any alcohol use?  Yeah, I actually drink wine.  Okay  Maybe two or three times a week.  Okay  For dinner, that is about that.  No hard liquor or anything Okay so wine two or three times a week. Okay, so wine two to three  times and when you drink do you\",\n",
       " \"  drink how many glasses?  About two pretty much.  Okay  One full glass.  Any history of smoking?  Oh no, not really at all.  And any history  of any drug use?  No never.  Okay and are you sexually active?  Yes, I'm active. Okay. And are you sexually active? Yes, apparently.  Okay, and with how many partners?  Just one, my wife.  Just the one?  Yes.  Any issue of STDs or infections?  No.  Okay...  Alright, so I appreciate you going through all of that.  I know that this has been something that's been  bothersome for you.  Yeah. So I'd like to do a physical exam.  And then after that, I'll kind of talk you through next steps.  Okay.  If you could move over to the table, that would be great.  So the first thing I would like you to be able to see is  What I like is an exam of your head and neck.  Okay?  So, the fist thing that I'm going to to is just feel for a little bit.  I was going to do is just feel for lymph nodes. I'll just wash my hands here.  And if you wouldn't mind taking off your glasses just so I can feel your sinuses. Okay. If you could tilt your neck up.  Sorry, my hand might be a little cold.  Any pain while I am doing this?  Okay and if could lower your gown just to I could see right here,  just want to feel see right here.  I just want to feel those lymph nodes.  Feel thoseymph nodes?  Okay.  Got it.  Okay?  Okay!  And then I'm going to grab this light so that I can... There we go. So look straight ahead.  I am just going look in your eyes here.  Dilation.  Okay. Good deal. And if you could tilt your head back.  I will just check inside your nose.  Then if could open your mouth. See if you can have some runny nose?  Then if he could open your mouth, say ah.  Stick your tongue out.  Then ah again.  Okay.  Good deal.  I am also going take a look in your ears.  This shouldn't hurt, so let me know if it is uncomfortable or you have any pain.  Okay?  You are going feel me pull back.  Then take it a little. Okay. You're going to feel me pull back. Then take a look.  Okay, I'm going around and check on the other side.  Okay?  Your ears look nice and clear.  Okay  You have five minutes remaining.  All right.  So like I said, I'm going to feel on your sinuses.  Sometimes when your Sinuses are full, you can feel it.  So I am just going feel right by your cheekbones here.  Okay.  All Right.  Next I will listen to your lungs.  Okay, good.  Deep breath in and out.  Again. Okay.  Next, I'd like to listen to your heart.  So if it's okay with you,  I would like you to lower your down just right here.  Okay, and you can breathe normally.  Okay? And you can breathe normally for yourself.  Alright.  You can go ahead and take a seat back here.  Don't put on your glasses again.  I know that I wear contacts. It's hard to walk around without them.  All Right.  So I'd just like to discuss with you kind of what I'm thinking right now  and kindof what the next steps might be.  Okay.  So what you've described to me so far is this history, you know, five-year  history. But it's gotten worse over the last couple of weeks of runny nose, having sneezing,  you have this irritated throat, your have these itchy eyes. And that's really been bothersome  for you. Seven hundred percent right now. You told me that you notice that it gets worse when you're on cats, dogs, or pollen,  and it's worse on your outside.  Right?  So kind of what I'm thinking right know, we wouldn't expect a virus, you know to come along the same time every year.  You know you told your mom has a history of allergies.  Right  I am thinking that  what might be going on is allergies, and so when that's the case, we can do allergy testing  to kind of check and see. Do you have a sense of what it might mean if you were able to  identify some triggers? But we also might want to do some testing just to see which  specific things are bothering you. We also can give you some medication that will help with allergies, and we can try that.  And I know you said Benadryl worked for you, but it made you drowsy.  There are medicines that are similar to Benidryle,  but they don't make you tired.  That's probably my question.  Yeah, so we want you to be sure that we give your one of those because we don you feeling better but not, you know, zoned out. Gotcha.  Something else that it might be, might be something, I know that you had asthma when you were a child. Sometimes asthma  can come back when your an adult. Right. So we might want to keep an eye out for that in the future. Okay.  Otherwise, since it's gotten worse in  the last couple of weeks, we may have a virus that kind of has come along in addition to a more chronic issue.  So we might also do some virus testing today.  Okay.  If you have something bothering you.  Okay, but on exam, everything, I didn't notice anything worrisome,  nothing that looked abnormal, which is kind  of what we see in conditions like allergies or a little virus.  Okay.  Okay?  Any questions?  Yeah, what can you give me for the itchy eyes?  Yeah.  So itchy guys can be really bothersome.  Yeah?  Yeah it can really bother you.  So we can give you some eye drops and I'll have a nurse come in and teach you how to use those eye  drops.  Okay, in addition the medicine, that's like Benadryl,  that doesn't make you drowsy,  should also ease the itch of your eyes.  Okay.  What is that?  It's called finfoxidine.  That has a very specific name.  Okay, okay. But the generic name, I'm not sure what it is.  Okay?  Yeah.  Okay  Yeah, any other questions?  That's name I'm not sure what it is. Yeah. Any other questions? All right. Well, if you think of anything else, we'll be here. And I'll have the nurse come in and explain next kind of  what needs to happen before you head out today. Okay. All Right. Thank you so much. It was  nice to meet you. Nice to see you too. Tell me your name again. It's Kelsey. Kelsey?  Yes.  Kelsey  Thanks. Your time is up.  Please go to the test station and begin.\"]"
      ]
     },
     "execution_count": 9,
     "metadata": {},
     "output_type": "execute_result"
    }
   ],
   "source": [
    "read_transcript_from_id('02_0036_174595', chunk_num=2)"
   ]
  },
  {
   "cell_type": "code",
   "execution_count": 10,
   "metadata": {},
   "outputs": [],
   "source": [
    "id_set1 = ['01_0542_298135',\n",
    "'02_0036_174595',\n",
    "'03_0028_174553',\n",
    "'04_0043_174686',\n",
    "'05_0033_174804',\n",
    "'06_0079_175106',\n",
    "'07_0068_174641',\n",
    "'08_0029_174576',\n",
    "'09_0029_174582',\n",
    "'10_0991_331330']\n",
    "\n",
    "id_set2 = ['01_1080_366142',\n",
    "           '02_1056_380177',\n",
    "           '03_1500_380168',\n",
    "           '04_1512_380182',\n",
    "           '05_1066_380195',\n",
    "           '06_1048_365209',\n",
    "           '07_1111_380134',\n",
    "           '08_1044_380133',\n",
    "           '09_1039_380193',\n",
    "           '10_1005_331402'\n",
    "]"
   ]
  },
  {
   "cell_type": "code",
   "execution_count": 11,
   "metadata": {},
   "outputs": [],
   "source": [
    "# temp for formatting\n",
    "def remove_extraspace(path, ids):\n",
    "    for id in ids: \n",
    "        this_path = path + id + '.txt'\n",
    "        with open(this_path, 'r') as file:\n",
    "            transcript = file.read()\n",
    "        sections = transcript.split('  ')\n",
    "        transcript = ''\n",
    "        for section in sections:\n",
    "            transcript += ' ' + section\n",
    "        with open(path + id + \".txt\", \"w\") as outfile:\n",
    "            outfile.write(transcript)"
   ]
  },
  {
   "cell_type": "code",
   "execution_count": 75,
   "metadata": {},
   "outputs": [],
   "source": [
    "remove_extraspace('/archive/shared/sim_center/shared/annie/claude-opus/', id_set1)"
   ]
  },
  {
   "cell_type": "code",
   "execution_count": 64,
   "metadata": {},
   "outputs": [
    {
     "name": "stdout",
     "output_type": "stream",
     "text": [
      "03_0028_174553\n",
      "04_0043_174686\n",
      "05_0033_174804\n",
      "06_0079_175106\n",
      "07_0068_174641\n",
      "08_0029_174576\n",
      "09_0029_174582\n",
      "10_0991_331330\n"
     ]
    }
   ],
   "source": [
    "for id in id_set1[2:]:\n",
    "    claude_diarize_twochunk(id)"
   ]
  },
  {
   "cell_type": "code",
   "execution_count": 62,
   "metadata": {},
   "outputs": [
    {
     "name": "stdout",
     "output_type": "stream",
     "text": [
      "02_0036_174595\n",
      "0 143\n",
      "143 286\n"
     ]
    }
   ],
   "source": [
    "claude_diarize_twochunk('02_0036_174595')"
   ]
  },
  {
   "cell_type": "code",
   "execution_count": 12,
   "metadata": {},
   "outputs": [
    {
     "name": "stdout",
     "output_type": "stream",
     "text": [
      "01_1080_366142\n"
     ]
    },
    {
     "name": "stdout",
     "output_type": "stream",
     "text": [
      "02_1056_380177\n",
      "03_1500_380168\n",
      "04_1512_380182\n",
      "05_1066_380195\n",
      "06_1048_365209\n",
      "07_1111_380134\n",
      "08_1044_380133\n",
      "09_1039_380193\n",
      "10_1005_331402\n"
     ]
    }
   ],
   "source": [
    "for id in id_set2:\n",
    "    claude_diarize_twochunk(id)\n",
    "remove_extraspace('/archive/shared/sim_center/shared/annie/claude-opus/', id_set2)"
   ]
  },
  {
   "cell_type": "code",
   "execution_count": 28,
   "metadata": {},
   "outputs": [],
   "source": [
    "#temp\n",
    "ids = ['01_1080_366142']\n",
    "def remove_second_id(ids):\n",
    "    path = '/archive/shared/sim_center/shared/annie/claude-opus/'\n",
    "    for id in ids: \n",
    "        this_path = path + id + '.txt'\n",
    "        with open(this_path, 'r') as file:\n",
    "            transcript = file.readlines()\n",
    "        transcript = transcript[2:]\n",
    "        out = ''\n",
    "        for line in transcript:\n",
    "            if line == '\\n': continue\n",
    "            out += line + '\\n'\n",
    "        with open(path + id + \".txt\", \"w\") as outfile:\n",
    "            outfile.write(out)\n",
    "        "
   ]
  },
  {
   "cell_type": "code",
   "execution_count": 29,
   "metadata": {},
   "outputs": [],
   "source": [
    "remove_second_id(id_set1[1:] + id_set2[2:])"
   ]
  },
  {
   "cell_type": "code",
   "execution_count": 27,
   "metadata": {},
   "outputs": [
    {
     "data": {
      "text/plain": [
       "['02_0036_174595',\n",
       " '03_0028_174553',\n",
       " '04_0043_174686',\n",
       " '05_0033_174804',\n",
       " '06_0079_175106',\n",
       " '07_0068_174641',\n",
       " '08_0029_174576',\n",
       " '09_0029_174582',\n",
       " '10_0991_331330',\n",
       " '03_1500_380168',\n",
       " '04_1512_380182',\n",
       " '05_1066_380195',\n",
       " '06_1048_365209',\n",
       " '07_1111_380134',\n",
       " '08_1044_380133',\n",
       " '09_1039_380193',\n",
       " '10_1005_331402']"
      ]
     },
     "execution_count": 27,
     "metadata": {},
     "output_type": "execute_result"
    }
   ],
   "source": [
    "id_set1[1:] + id_set2[2:]"
   ]
  }
 ],
 "metadata": {
  "kernelspec": {
   "display_name": "pf",
   "language": "python",
   "name": "python3"
  },
  "language_info": {
   "codemirror_mode": {
    "name": "ipython",
    "version": 3
   },
   "file_extension": ".py",
   "mimetype": "text/x-python",
   "name": "python",
   "nbconvert_exporter": "python",
   "pygments_lexer": "ipython3",
   "version": "3.9.18"
  }
 },
 "nbformat": 4,
 "nbformat_minor": 2
}
