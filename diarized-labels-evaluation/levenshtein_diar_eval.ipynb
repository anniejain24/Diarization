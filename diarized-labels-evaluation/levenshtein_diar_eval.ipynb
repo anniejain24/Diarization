{
 "cells": [
  {
   "cell_type": "code",
   "execution_count": 1,
   "metadata": {},
   "outputs": [
    {
     "name": "stdout",
     "output_type": "stream",
     "text": [
      "0.1\n",
      "0.1\n",
      "0.1\n",
      "0.9\n",
      "0.9\n",
      "0.9\n"
     ]
    }
   ],
   "source": [
    "from strsimpy.normalized_levenshtein import NormalizedLevenshtein\n",
    "import matplotlib.pyplot as plt\n",
    "import numpy as np\n",
    "\n",
    "normalized_levenshtein = NormalizedLevenshtein()\n",
    "print(normalized_levenshtein.distance('My string', 'My $string'))\n",
    "print(normalized_levenshtein.distance('My string', 'My $string'))\n",
    "print(normalized_levenshtein.distance('My string', 'My $string'))\n",
    "\n",
    "print(normalized_levenshtein.similarity('My string', 'My $string'))\n",
    "print(normalized_levenshtein.similarity('My string', 'My $string'))\n",
    "print(normalized_levenshtein.similarity('My string', 'My $string'))\n",
    "# get original transcript"
   ]
  },
  {
   "cell_type": "code",
   "execution_count": 2,
   "metadata": {},
   "outputs": [],
   "source": [
    "transcript_id = '10_0991_331330'\n",
    "import pandas as pd\n",
    "import nltk\n",
    "from nltk.tokenize import word_tokenize\n",
    "from nltk.tokenize import WhitespaceTokenizer\n",
    "\n",
    "def read_transcript_from_id(transcript_id):\n",
    "\n",
    "    path_to_data_folder = '/archive/shared/sim_center/shared/ameer/'\n",
    "    # lookinto this dictionary to find the path\n",
    "    # can also manually create the path and it would be faster but not by much\n",
    "    merged_lookup = pd.read_csv(path_to_data_folder + 'grade_lookupv5.csv')\n",
    "    transcript = ''\n",
    "\n",
    "    path = merged_lookup[merged_lookup.id == transcript_id].path.iloc[0]\n",
    "    with open(path, 'r') as file:\n",
    "        lines = file.readlines()\n",
    "    for line in lines:\n",
    "        if line != '\\n':\n",
    "            tok_line = line.split(' ')\n",
    "            for i in range(len(tok_line)):\n",
    "                transcript += ' ' + tok_line[i]\n",
    "\n",
    "\n",
    "    return transcript"
   ]
  },
  {
   "cell_type": "code",
   "execution_count": 3,
   "metadata": {},
   "outputs": [],
   "source": [
    "diarized_transcript = '/archive/shared/sim_center/shared/annie/GPT4 3-chunk/'\n",
    "id = '01_0542_298135'\n",
    "def reconstruct_transcript(path, id): \n",
    "    path = path + id + '.txt'\n",
    "    with open(path, 'r') as file:\n",
    "        lines = file.readlines()\n",
    " \n",
    "    out = []\n",
    "    \n",
    "    for line in lines:\n",
    "        if line.find(':')==-1: continue\n",
    "        temp = {}\n",
    "        temp['speaker'] = line[:line.find(':')]\n",
    "        temp['text'] = line[line.find(':') + 1: ]\n",
    "        out.append(temp)\n",
    "\n",
    "    return out"
   ]
  },
  {
   "cell_type": "code",
   "execution_count": 4,
   "metadata": {},
   "outputs": [],
   "source": [
    "def consolidate_transcript(transcript):\n",
    "    \n",
    "    new = []\n",
    "    new.append({'speaker': transcript[0]['speaker'], 'text': transcript[0]['text']})\n",
    "    \n",
    "    for i in range(1, len(transcript)):\n",
    "        this = {}\n",
    "        if transcript[i]['speaker'] == transcript[i-1]['speaker']:\n",
    "            new[-1]['text'] += transcript[i]['text']\n",
    "        else:\n",
    "            this['speaker'] = transcript[i]['speaker']\n",
    "            this['text'] = transcript[i]['text']\n",
    "            new.append(this)\n",
    "    \n",
    "    return new"
   ]
  },
  {
   "cell_type": "code",
   "execution_count": 5,
   "metadata": {},
   "outputs": [],
   "source": [
    "def extract_text(transcript):\n",
    "    out = ''\n",
    "    for line in transcript:\n",
    "        out += line['speaker'] + line['text']\n",
    "    return out\n"
   ]
  },
  {
   "cell_type": "code",
   "execution_count": 6,
   "metadata": {},
   "outputs": [],
   "source": [
    "\n",
    "def eval_transcript(ids, diar_path='/archive/shared/sim_center/shared/annie/GPT4 3-chunk/', \n",
    "                    gold_path = '/archive/shared/sim_center/shared/annie/gpt4-gold-standard-diarized/'):\n",
    "    scores = {}\n",
    "    for id in ids:\n",
    "        # debugging statement: \n",
    "        print(id) \n",
    "        diar = extract_text(consolidate_transcript(reconstruct_transcript(diar_path, id)))\n",
    "        gold = extract_text(consolidate_transcript(reconstruct_transcript(gold_path, id)))\n",
    "        distance = normalized_levenshtein.distance(diar, gold)\n",
    "        similarity = normalized_levenshtein.similarity(diar, gold)\n",
    "        scores[id] = [distance, similarity]\n",
    "    return scores\n",
    "\n"
   ]
  },
  {
   "cell_type": "code",
   "execution_count": 7,
   "metadata": {},
   "outputs": [],
   "source": [
    "def save_scores(scores, ids, path = '/archive/shared/sim_center/shared/annie/levenshtein-scores/', run_name = 'gpt4'):\n",
    "    with open(path + run_name + \".txt\", \"w\") as outfile:\n",
    "        for id in ids:\n",
    "            outfile.write('ID: ' + id + ', distance: ' + str(scores[id][0]) + ', similarity: ' + str(scores[id][1]) + '\\n')"
   ]
  },
  {
   "cell_type": "code",
   "execution_count": 8,
   "metadata": {},
   "outputs": [],
   "source": [
    "id_set1 = ['01_0542_298135',\n",
    "'02_0036_174595',\n",
    "'03_0028_174553',\n",
    "'04_0043_174686',\n",
    "'05_0033_174804',\n",
    "'06_0079_175106',\n",
    "'07_0068_174641',\n",
    "'08_0029_174576',\n",
    "'09_0029_174582',\n",
    "'10_0991_331330']"
   ]
  },
  {
   "cell_type": "code",
   "execution_count": 10,
   "metadata": {},
   "outputs": [
    {
     "name": "stdout",
     "output_type": "stream",
     "text": [
      "01_0542_298135\n",
      "02_0036_174595\n",
      "03_0028_174553\n",
      "04_0043_174686\n",
      "05_0033_174804\n",
      "06_0079_175106\n",
      "07_0068_174641\n",
      "08_0029_174576\n",
      "09_0029_174582\n",
      "10_0991_331330\n"
     ]
    }
   ],
   "source": [
    "diar_path = '/archive/shared/sim_center/shared/annie/gpt4o/'\n",
    "g4o_score = eval_transcript(id_set1, diar_path=diar_path)\n",
    "save_scores(g4o_score, id_set1, run_name='gpt4o')"
   ]
  },
  {
   "cell_type": "code",
   "execution_count": 9,
   "metadata": {},
   "outputs": [
    {
     "name": "stdout",
     "output_type": "stream",
     "text": [
      "01_0542_298135\n",
      "02_0036_174595\n",
      "03_0028_174553\n",
      "04_0043_174686\n",
      "05_0033_174804\n",
      "06_0079_175106\n",
      "07_0068_174641\n",
      "08_0029_174576\n",
      "09_0029_174582\n",
      "10_0991_331330\n",
      "01_0542_298135\n",
      "02_0036_174595\n",
      "03_0028_174553\n",
      "04_0043_174686\n",
      "05_0033_174804\n",
      "06_0079_175106\n",
      "07_0068_174641\n",
      "08_0029_174576\n",
      "09_0029_174582\n",
      "10_0991_331330\n",
      "01_0542_298135\n",
      "02_0036_174595\n",
      "03_0028_174553\n",
      "04_0043_174686\n",
      "05_0033_174804\n",
      "06_0079_175106\n",
      "07_0068_174641\n"
     ]
    },
    {
     "ename": "KeyboardInterrupt",
     "evalue": "",
     "output_type": "error",
     "traceback": [
      "\u001b[0;31m---------------------------------------------------------------------------\u001b[0m",
      "\u001b[0;31mKeyboardInterrupt\u001b[0m                         Traceback (most recent call last)",
      "Cell \u001b[0;32mIn[9], line 10\u001b[0m\n\u001b[1;32m      7\u001b[0m save_scores(g4o_score, id_set1, run_name\u001b[38;5;241m=\u001b[39m\u001b[38;5;124m'\u001b[39m\u001b[38;5;124mgpt4-3chunk-nosum\u001b[39m\u001b[38;5;124m'\u001b[39m)\n\u001b[1;32m      9\u001b[0m diar_path \u001b[38;5;241m=\u001b[39m \u001b[38;5;124m'\u001b[39m\u001b[38;5;124m/archive/shared/sim_center/shared/annie/gpt4-1chunk-nosum/\u001b[39m\u001b[38;5;124m'\u001b[39m\n\u001b[0;32m---> 10\u001b[0m g4o_score \u001b[38;5;241m=\u001b[39m \u001b[43meval_transcript\u001b[49m\u001b[43m(\u001b[49m\u001b[43mid_set1\u001b[49m\u001b[43m,\u001b[49m\u001b[43m \u001b[49m\u001b[43mdiar_path\u001b[49m\u001b[38;5;241;43m=\u001b[39;49m\u001b[43mdiar_path\u001b[49m\u001b[43m)\u001b[49m\n\u001b[1;32m     11\u001b[0m save_scores(g4o_score, id_set1, run_name\u001b[38;5;241m=\u001b[39m\u001b[38;5;124m'\u001b[39m\u001b[38;5;124mgpt4-1chunk-nosum\u001b[39m\u001b[38;5;124m'\u001b[39m)\n\u001b[1;32m     13\u001b[0m diar_path \u001b[38;5;241m=\u001b[39m \u001b[38;5;124m'\u001b[39m\u001b[38;5;124m/archive/shared/sim_center/shared/annie/claude-opus-nosum/\u001b[39m\u001b[38;5;124m'\u001b[39m\n",
      "Cell \u001b[0;32mIn[6], line 10\u001b[0m, in \u001b[0;36meval_transcript\u001b[0;34m(ids, diar_path, gold_path)\u001b[0m\n\u001b[1;32m      8\u001b[0m     gold \u001b[38;5;241m=\u001b[39m extract_text(consolidate_transcript(reconstruct_transcript(gold_path, \u001b[38;5;28mid\u001b[39m)))\n\u001b[1;32m      9\u001b[0m     distance \u001b[38;5;241m=\u001b[39m normalized_levenshtein\u001b[38;5;241m.\u001b[39mdistance(diar, gold)\n\u001b[0;32m---> 10\u001b[0m     similarity \u001b[38;5;241m=\u001b[39m \u001b[43mnormalized_levenshtein\u001b[49m\u001b[38;5;241;43m.\u001b[39;49m\u001b[43msimilarity\u001b[49m\u001b[43m(\u001b[49m\u001b[43mdiar\u001b[49m\u001b[43m,\u001b[49m\u001b[43m \u001b[49m\u001b[43mgold\u001b[49m\u001b[43m)\u001b[49m\n\u001b[1;32m     11\u001b[0m     scores[\u001b[38;5;28mid\u001b[39m] \u001b[38;5;241m=\u001b[39m [distance, similarity]\n\u001b[1;32m     12\u001b[0m \u001b[38;5;28;01mreturn\u001b[39;00m scores\n",
      "File \u001b[0;32m~/.conda/envs/pf/lib/python3.9/site-packages/strsimpy/normalized_levenshtein.py:44\u001b[0m, in \u001b[0;36mNormalizedLevenshtein.similarity\u001b[0;34m(self, s0, s1)\u001b[0m\n\u001b[1;32m     43\u001b[0m \u001b[38;5;28;01mdef\u001b[39;00m \u001b[38;5;21msimilarity\u001b[39m(\u001b[38;5;28mself\u001b[39m, s0, s1):\n\u001b[0;32m---> 44\u001b[0m     \u001b[38;5;28;01mreturn\u001b[39;00m \u001b[38;5;241m1.0\u001b[39m \u001b[38;5;241m-\u001b[39m \u001b[38;5;28;43mself\u001b[39;49m\u001b[38;5;241;43m.\u001b[39;49m\u001b[43mdistance\u001b[49m\u001b[43m(\u001b[49m\u001b[43ms0\u001b[49m\u001b[43m,\u001b[49m\u001b[43m \u001b[49m\u001b[43ms1\u001b[49m\u001b[43m)\u001b[49m\n",
      "File \u001b[0;32m~/.conda/envs/pf/lib/python3.9/site-packages/strsimpy/normalized_levenshtein.py:41\u001b[0m, in \u001b[0;36mNormalizedLevenshtein.distance\u001b[0;34m(self, s0, s1)\u001b[0m\n\u001b[1;32m     39\u001b[0m \u001b[38;5;28;01mif\u001b[39;00m m_len \u001b[38;5;241m==\u001b[39m \u001b[38;5;241m0\u001b[39m:\n\u001b[1;32m     40\u001b[0m     \u001b[38;5;28;01mreturn\u001b[39;00m \u001b[38;5;241m0.0\u001b[39m\n\u001b[0;32m---> 41\u001b[0m \u001b[38;5;28;01mreturn\u001b[39;00m \u001b[38;5;28;43mself\u001b[39;49m\u001b[38;5;241;43m.\u001b[39;49m\u001b[43mlevenshtein\u001b[49m\u001b[38;5;241;43m.\u001b[39;49m\u001b[43mdistance\u001b[49m\u001b[43m(\u001b[49m\u001b[43ms0\u001b[49m\u001b[43m,\u001b[49m\u001b[43m \u001b[49m\u001b[43ms1\u001b[49m\u001b[43m)\u001b[49m \u001b[38;5;241m/\u001b[39m m_len\n",
      "File \u001b[0;32m~/.conda/envs/pf/lib/python3.9/site-packages/strsimpy/levenshtein.py:48\u001b[0m, in \u001b[0;36mLevenshtein.distance\u001b[0;34m(self, s0, s1)\u001b[0m\n\u001b[1;32m     46\u001b[0m \u001b[38;5;28;01mfor\u001b[39;00m j \u001b[38;5;129;01min\u001b[39;00m \u001b[38;5;28mrange\u001b[39m(\u001b[38;5;28mlen\u001b[39m(s1)):\n\u001b[1;32m     47\u001b[0m     cost \u001b[38;5;241m=\u001b[39m \u001b[38;5;241m1\u001b[39m\n\u001b[0;32m---> 48\u001b[0m     \u001b[38;5;28;01mif\u001b[39;00m \u001b[43ms0\u001b[49m\u001b[43m[\u001b[49m\u001b[43mi\u001b[49m\u001b[43m]\u001b[49m \u001b[38;5;241m==\u001b[39m s1[j]:\n\u001b[1;32m     49\u001b[0m         cost \u001b[38;5;241m=\u001b[39m \u001b[38;5;241m0\u001b[39m\n\u001b[1;32m     50\u001b[0m     v1[j \u001b[38;5;241m+\u001b[39m \u001b[38;5;241m1\u001b[39m] \u001b[38;5;241m=\u001b[39m \u001b[38;5;28mmin\u001b[39m(v1[j] \u001b[38;5;241m+\u001b[39m \u001b[38;5;241m1\u001b[39m, v0[j \u001b[38;5;241m+\u001b[39m \u001b[38;5;241m1\u001b[39m] \u001b[38;5;241m+\u001b[39m \u001b[38;5;241m1\u001b[39m, v0[j] \u001b[38;5;241m+\u001b[39m cost)\n",
      "\u001b[0;31mKeyboardInterrupt\u001b[0m: "
     ]
    }
   ],
   "source": [
    "diar_path = '/archive/shared/sim_center/shared/annie/gpt4o-nosum/'\n",
    "g4o_score = eval_transcript(id_set1, diar_path=diar_path)\n",
    "save_scores(g4o_score, id_set1, run_name='gpt4o-nosum')\n",
    "\n",
    "diar_path = '/archive/shared/sim_center/shared/annie/gpt4-3chunk-nosum/'\n",
    "g4o_score = eval_transcript(id_set1, diar_path=diar_path)\n",
    "save_scores(g4o_score, id_set1, run_name='gpt4-3chunk-nosum')\n",
    "\n",
    "diar_path = '/archive/shared/sim_center/shared/annie/gpt4-1chunk-nosum/'\n",
    "g4o_score = eval_transcript(id_set1, diar_path=diar_path)\n",
    "save_scores(g4o_score, id_set1, run_name='gpt4-1chunk-nosum')\n",
    "\n",
    "diar_path = '/archive/shared/sim_center/shared/annie/claude-opus-nosum/'\n",
    "g4o_score = eval_transcript(id_set1, diar_path=diar_path)\n",
    "save_scores(g4o_score, id_set1, run_name='claude-opus-nosum')"
   ]
  },
  {
   "cell_type": "code",
   "execution_count": 18,
   "metadata": {},
   "outputs": [
    {
     "name": "stdout",
     "output_type": "stream",
     "text": [
      "01_0542_298135\n"
     ]
    },
    {
     "name": "stdout",
     "output_type": "stream",
     "text": [
      "02_0036_174595\n",
      "03_0028_174553\n",
      "04_0043_174686\n",
      "05_0033_174804\n",
      "06_0079_175106\n",
      "07_0068_174641\n",
      "08_0029_174576\n",
      "09_0029_174582\n",
      "10_0991_331330\n",
      "01_0542_298135\n",
      "02_0036_174595\n",
      "03_0028_174553\n",
      "04_0043_174686\n",
      "05_0033_174804\n",
      "06_0079_175106\n",
      "07_0068_174641\n",
      "08_0029_174576\n",
      "09_0029_174582\n",
      "10_0991_331330\n",
      "01_0542_298135\n",
      "02_0036_174595\n",
      "03_0028_174553\n",
      "04_0043_174686\n",
      "05_0033_174804\n",
      "06_0079_175106\n",
      "07_0068_174641\n",
      "08_0029_174576\n",
      "09_0029_174582\n",
      "10_0991_331330\n",
      "01_0542_298135\n",
      "02_0036_174595\n",
      "03_0028_174553\n",
      "04_0043_174686\n",
      "05_0033_174804\n",
      "06_0079_175106\n",
      "07_0068_174641\n",
      "08_0029_174576\n",
      "09_0029_174582\n",
      "10_0991_331330\n",
      "01_0542_298135\n",
      "02_0036_174595\n",
      "03_0028_174553\n",
      "04_0043_174686\n",
      "05_0033_174804\n",
      "06_0079_175106\n",
      "07_0068_174641\n",
      "08_0029_174576\n",
      "09_0029_174582\n",
      "10_0991_331330\n"
     ]
    }
   ],
   "source": [
    "diar_path = '/archive/shared/sim_center/shared/annie/GPT3.5 complete/'\n",
    "gpt35_score = eval_transcript(id_set1, diar_path=diar_path)\n",
    "save_scores(gpt35_score, id_set1, run_name='gpt35')\n",
    "\n",
    "diar_path = '/archive/shared/sim_center/shared/annie/mixtral/'\n",
    "mixtral_score = eval_transcript(id_set1, diar_path=diar_path)\n",
    "save_scores(mixtral_score, id_set1, run_name='mixtral')\n",
    "\n",
    "diar_path = '/archive/shared/sim_center/shared/annie/GPT4 3-chunk/'\n",
    "gpt4_score = eval_transcript(id_set1, diar_path=diar_path)\n",
    "save_scores(gpt4_score, id_set1, run_name='gpt4_3chunk_original')\n",
    "\n",
    "diar_path = '/archive/shared/sim_center/shared/annie/claude-sonnet/'\n",
    "claude_sscore = eval_transcript(id_set1, diar_path=diar_path)\n",
    "save_scores(claude_sscore, id_set1, run_name='claude_sonnet')\n",
    "\n",
    "diar_path = '/archive/shared/sim_center/shared/annie/claude-opus/'\n",
    "claude_oscore = eval_transcript(id_set1, diar_path=diar_path)\n",
    "save_scores(claude_oscore, id_set1, run_name='claude_opus')"
   ]
  },
  {
   "cell_type": "code",
   "execution_count": 19,
   "metadata": {},
   "outputs": [
    {
     "name": "stdout",
     "output_type": "stream",
     "text": [
      "01_0542_298135\n",
      "02_0036_174595\n",
      "03_0028_174553\n",
      "04_0043_174686\n",
      "05_0033_174804\n",
      "06_0079_175106\n",
      "07_0068_174641\n",
      "08_0029_174576\n",
      "09_0029_174582\n",
      "10_0991_331330\n",
      "01_0542_298135\n",
      "02_0036_174595\n",
      "03_0028_174553\n",
      "04_0043_174686\n",
      "05_0033_174804\n",
      "06_0079_175106\n",
      "07_0068_174641\n",
      "08_0029_174576\n",
      "09_0029_174582\n",
      "10_0991_331330\n"
     ]
    }
   ],
   "source": [
    "diar_path = '/archive/shared/sim_center/shared/annie/GPT4 6-chunk/'\n",
    "gpt4_6chunk = eval_transcript(id_set1, diar_path=diar_path)\n",
    "save_scores(gpt4_6chunk, id_set1, run_name='gpt4_original_6chunk')\n",
    "\n",
    "diar_path = '/archive/shared/sim_center/shared/annie/GPT4 9-chunk/'\n",
    "gpt4_9chunk = eval_transcript(id_set1, diar_path=diar_path)\n",
    "save_scores(gpt4_9chunk, id_set1, run_name='gpt4_original_9chunk')"
   ]
  },
  {
   "cell_type": "code",
   "execution_count": 49,
   "metadata": {},
   "outputs": [
    {
     "data": {
      "image/png": "[encoded data removed]",
      "text/plain": [
       "<Figure size 432x288 with 1 Axes>"
      ]
     },
     "metadata": {
      "needs_background": "light"
     },
     "output_type": "display_data"
    }
   ],
   "source": [
    "gpt35 = np.mean([gpt35_score[token][1] for token in gpt35_score])\n",
    "mixtral = np.mean([mixtral_score[token][1] for token in mixtral_score])\n",
    "measures = ['distance', 'similarity']\n",
    "plt.bar([id[:2] for id in id_set1], [gpt35_score[token][1] for token in gpt35_score])\n",
    "plt.axhline(y = gpt35, color = 'r', linestyle = '--')\n",
    "plt.ylim(0, 1)\n",
    "plt.title(\"gpt3.5 performance\")\n",
    "plt.show()"
   ]
  },
  {
   "cell_type": "code",
   "execution_count": 51,
   "metadata": {},
   "outputs": [
    {
     "data": {
      "image/png": "[encoded data removed]",
      "text/plain": [
       "<Figure size 432x288 with 1 Axes>"
      ]
     },
     "metadata": {
      "needs_background": "light"
     },
     "output_type": "display_data"
    }
   ],
   "source": [
    "plt.bar([id[:2] for id in id_set1], [mixtral_score[token][1] for token in mixtral_score])\n",
    "plt.axhline(y = mixtral, color = 'r', linestyle = '--')\n",
    "plt.ylim(0, 1)\n",
    "plt.title(\"Mixtral performance\")\n",
    "plt.show()"
   ]
  },
  {
   "cell_type": "code",
   "execution_count": 19,
   "metadata": {},
   "outputs": [
    {
     "name": "stdout",
     "output_type": "stream",
     "text": [
      "01_0542_298135\n",
      "02_0036_174595\n",
      "03_0028_174553\n",
      "04_0043_174686\n",
      "05_0033_174804\n",
      "06_0079_175106\n",
      "07_0068_174641\n",
      "08_0029_174576\n",
      "09_0029_174582\n",
      "10_0991_331330\n"
     ]
    }
   ],
   "source": [
    "diar_path = '/archive/shared/sim_center/shared/annie/claude-opus/'\n",
    "claude_oscore = eval_transcript(id_set1, diar_path=diar_path)"
   ]
  },
  {
   "cell_type": "code",
   "execution_count": 20,
   "metadata": {},
   "outputs": [
    {
     "data": {
      "image/png": "[encoded data removed]",
      "text/plain": [
       "<Figure size 432x288 with 1 Axes>"
      ]
     },
     "metadata": {
      "needs_background": "light"
     },
     "output_type": "display_data"
    }
   ],
   "source": [
    "claude_o = np.mean([claude_oscore[token][1] for token in claude_oscore])\n",
    "plt.bar([id[:2] for id in id_set1], [claude_oscore[token][1] for token in claude_oscore])\n",
    "plt.axhline(y = claude_o, color = 'r', linestyle = '--')\n",
    "plt.ylim(0, 1)\n",
    "plt.title(\"Claude Opus performance\")\n",
    "plt.show()"
   ]
  },
  {
   "cell_type": "code",
   "execution_count": 17,
   "metadata": {},
   "outputs": [
    {
     "name": "stdout",
     "output_type": "stream",
     "text": [
      "01_0542_298135\n"
     ]
    },
    {
     "name": "stdout",
     "output_type": "stream",
     "text": [
      "02_0036_174595\n",
      "03_0028_174553\n",
      "04_0043_174686\n",
      "05_0033_174804\n",
      "06_0079_175106\n",
      "07_0068_174641\n",
      "08_0029_174576\n",
      "09_0029_174582\n",
      "10_0991_331330\n"
     ]
    }
   ],
   "source": [
    "diar_path = '/archive/shared/sim_center/shared/annie/gpt4o/'\n",
    "g4o_score = eval_transcript(id_set1, diar_path=diar_path)"
   ]
  },
  {
   "cell_type": "code",
   "execution_count": 19,
   "metadata": {},
   "outputs": [
    {
     "data": {
      "image/png": "[encoded data removed]",
      "text/plain": [
       "<Figure size 432x288 with 1 Axes>"
      ]
     },
     "metadata": {
      "needs_background": "light"
     },
     "output_type": "display_data"
    }
   ],
   "source": [
    "g4o = np.mean([g4o_score[token][1] for token in g4o_score])\n",
    "plt.bar([id[:2] for id in id_set1], [g4o_score[token][1] for token in g4o_score])\n",
    "plt.axhline(y = g4o, color = 'r', linestyle = '--')\n",
    "plt.ylim(0, 1)\n",
    "plt.title(\"gpt4o performance\")\n",
    "plt.show()"
   ]
  },
  {
   "cell_type": "code",
   "execution_count": 21,
   "metadata": {},
   "outputs": [
    {
     "name": "stdout",
     "output_type": "stream",
     "text": [
      "01_0542_298135\n"
     ]
    },
    {
     "name": "stdout",
     "output_type": "stream",
     "text": [
      "02_0036_174595\n",
      "03_0028_174553\n",
      "04_0043_174686\n",
      "05_0033_174804\n",
      "06_0079_175106\n",
      "07_0068_174641\n",
      "08_0029_174576\n",
      "09_0029_174582\n",
      "10_0991_331330\n"
     ]
    }
   ],
   "source": [
    "diar_path = '/archive/shared/sim_center/shared/annie/gpt4_3chunk_pass2/'\n",
    "g4_3chunk = eval_transcript(id_set1, diar_path=diar_path)"
   ]
  },
  {
   "cell_type": "code",
   "execution_count": 22,
   "metadata": {},
   "outputs": [
    {
     "data": {
      "image/png": "[encoded data removed]",
      "text/plain": [
       "<Figure size 432x288 with 1 Axes>"
      ]
     },
     "metadata": {
      "needs_background": "light"
     },
     "output_type": "display_data"
    }
   ],
   "source": [
    "g4_3 = np.mean([g4_3chunk[token][1] for token in g4_3chunk])\n",
    "plt.bar([id[:2] for id in id_set1], [g4_3chunk[token][1] for token in g4_3chunk])\n",
    "plt.axhline(y = g4_3, color = 'r', linestyle = '--')\n",
    "plt.ylim(0, 1)\n",
    "plt.title(\"gpt4 3-chunk performance\")\n",
    "plt.show()"
   ]
  },
  {
   "cell_type": "code",
   "execution_count": 31,
   "metadata": {},
   "outputs": [],
   "source": [
    "save_scores(g4_3chunk, id_set1, run_name='gpt4_3chunk')"
   ]
  },
  {
   "cell_type": "code",
   "execution_count": 33,
   "metadata": {},
   "outputs": [
    {
     "name": "stdout",
     "output_type": "stream",
     "text": [
      "01_0542_298135\n",
      "02_0036_174595\n",
      "03_0028_174553\n",
      "04_0043_174686\n",
      "05_0033_174804\n",
      "06_0079_175106\n",
      "07_0068_174641\n",
      "08_0029_174576\n",
      "09_0029_174582\n",
      "10_0991_331330\n"
     ]
    },
    {
     "data": {
      "image/png": "[encoded data removed]",
      "text/plain": [
       "<Figure size 432x288 with 1 Axes>"
      ]
     },
     "metadata": {
      "needs_background": "light"
     },
     "output_type": "display_data"
    }
   ],
   "source": [
    "diar_path = '/archive/shared/sim_center/shared/annie/gpt4-1chunk/'\n",
    "g4_1chunk = eval_transcript(id_set1, diar_path=diar_path)\n",
    "save_scores(g4_1chunk, id_set1, run_name='gpt4_1chunk')\n",
    "g4_1 = np.mean([g4_1chunk[token][1] for token in g4_1chunk])\n",
    "plt.bar([id[:2] for id in id_set1], [g4_1chunk[token][1] for token in g4_1chunk])\n",
    "plt.axhline(y = g4_1, color = 'r', linestyle = '--')\n",
    "plt.ylim(0, 1)\n",
    "plt.title(\"gpt4 1-chunk performance\")\n",
    "plt.show()"
   ]
  }
 ],
 "metadata": {
  "kernelspec": {
   "display_name": "pf",
   "language": "python",
   "name": "python3"
  },
  "language_info": {
   "codemirror_mode": {
    "name": "ipython",
    "version": 3
   },
   "file_extension": ".py",
   "mimetype": "text/x-python",
   "name": "python",
   "nbconvert_exporter": "python",
   "pygments_lexer": "ipython3",
   "version": "3.9.18"
  }
 },
 "nbformat": 4,
 "nbformat_minor": 2
}
