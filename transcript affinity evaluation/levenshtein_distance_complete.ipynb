{
 "cells": [
  {
   "cell_type": "code",
   "execution_count": 1,
   "metadata": {},
   "outputs": [
    {
     "name": "stdout",
     "output_type": "stream",
     "text": [
      "0.1\n",
      "0.1\n",
      "0.1\n",
      "0.9\n",
      "0.9\n",
      "0.9\n"
     ]
    }
   ],
   "source": [
    "from strsimpy.normalized_levenshtein import NormalizedLevenshtein\n",
    "\n",
    "normalized_levenshtein = NormalizedLevenshtein()\n",
    "print(normalized_levenshtein.distance('My string', 'My $string'))\n",
    "print(normalized_levenshtein.distance('My string', 'My $string'))\n",
    "print(normalized_levenshtein.distance('My string', 'My $string'))\n",
    "\n",
    "print(normalized_levenshtein.similarity('My string', 'My $string'))\n",
    "print(normalized_levenshtein.similarity('My string', 'My $string'))\n",
    "print(normalized_levenshtein.similarity('My string', 'My $string'))\n",
    "# get original transcript\n"
   ]
  },
  {
   "cell_type": "code",
   "execution_count": 2,
   "metadata": {},
   "outputs": [],
   "source": [
    "\n",
    "transcript_id = '10_0991_331330'\n",
    "import pandas as pd\n",
    "import nltk\n",
    "from nltk.tokenize import word_tokenize\n",
    "from nltk.tokenize import WhitespaceTokenizer\n",
    "\n",
    "def read_transcript_from_id(transcript_id):\n",
    "\n",
    "    path_to_data_folder = '/archive/shared/sim_center/shared/ameer/'\n",
    "    # lookinto this dictionary to find the path\n",
    "    # can also manually create the path and it would be faster but not by much\n",
    "    merged_lookup = pd.read_csv(path_to_data_folder + 'grade_lookupv5.csv')\n",
    "    transcript = ''\n",
    "\n",
    "    path = merged_lookup[merged_lookup.id == transcript_id].path.iloc[0]\n",
    "    with open(path, 'r') as file:\n",
    "        lines = file.readlines()\n",
    "    for line in lines:\n",
    "        if line != '\\n':\n",
    "            tok_line = line.split(' ')\n",
    "            for i in range(len(tok_line)):\n",
    "                transcript += ' ' + tok_line[i]\n",
    "\n",
    "\n",
    "    return transcript\n",
    " "
   ]
  },
  {
   "cell_type": "code",
   "execution_count": 3,
   "metadata": {},
   "outputs": [
    {
     "name": "stdout",
     "output_type": "stream",
     "text": [
      "  Learners, you may begin your patient station, remove your cover sheet, jot down any... Thank you. Come in. Come on in, man. Hello, Mr. Pimbleton. Hi, my name is Coleman. I'm a medical student at UT Southwestern. I am here to ask you some questions. I just want to know how you are feeling today. I've been feeling sick to my stomach. Now I throw one up, I feel not good. Okay, when did this start? It started getting nauseous. I was feeling nausea. I had a stomachache. I felt nause up. I am not good. Okay, when did this start? I started getting nauseous two days ago. Threw up the first time yesterday after breakfast, about 20 minutes after I ate. Any other episodes of vomiting? Yeah, I threw up three or four times yesterday and then after breakfast today about five minutes after I ate. Okay. And what does your vomit look like? It's just small bits of undigested food, whatever I eat. Any blood in it? No. No? No Bile? No Just the chunks of food? No Okay Now this has been going on for just two days. Has this happened before? No, never. Okay. And does anything make it worse? Uh, eating. Yeah. Yeah, anything makes it better? Not really, other than not eating Okay Is there any associated with the vomiting? Yeah, I got a little mild pain in my abdomen there. Okay, on a scale of 1 to 10, about how bad, how would you describe it? Oh, it's like a 3. Yeah. Just kind of an irritation. Okay. And so if you don't eat, do you get nauseous still? Oh, yeah. So nausea is there all the time. Okay, nauseas. Any fevers? No, no fever. You mean chills? Chills? No. If you don't mind me asking, what are you usually eating at these meals? I don' know, like for breakfast I usually have scrambled eggs and bacon and toast. Okay. No changes in your diet? No change in diet. Okay, okay. Okay No changes in your diet? No change in diet. Okay. Have you taken any medication for this? Over the counter medications? No. Alrighty. Anything else that you have to share that would help us like diagnose what this is any any other changes any others that that's you're having at home no no nothing specific nothing comes to mind i'm sorry another comes up on mine okay and then i imagine loss of appetite I imagine loss of appetite as well. Yeah, it's decreased as you start throwing up. Okay, if I could just ask you a few questions now about your past medical history. Sure. Have you been diagnosed with any chronic illnesses? Oh, let's see. Hypertension. I've got osteoarthritis in both my knees. I've got osteoarthritis in both my knees and then I get my lower back, I have chronic back pain from that. I think that's all. Do you take any medications at home? Yeah, I take verapamil, they prescribe up for hypertension. I take hydrocortone and Tylenol. That helps my back and my knees, actually. Okay. I'll ask you a few questions now about your surgical history. Have you had any prior surgeries? No. And I want to ask you some questions about your family history? Has anyone in your family been diagnosed with a chronic illness or disease? No, my parents both died of old age. My siblings are in good health. Good to hear. That's good to hear, that's phenomenal. And then I'd just like to ask you some questions lastly about social history. Any alcohol use? No. Any tobacco products used? No Any drugs? Drugs never used. Just what I told you. Just these medications? Yeah Do you feel safe at home? I'm sorry? Yeah! Do you get married? Yeah Or wife and I at home. Yeah Good to hear. Good. At this point I would like to perform a brief physical exam. If I could have you sit on the on a Sure. You don't have to lay back just yet. All right. I would like... I'm sorry. I still need these rooms. How's your day been otherwise besides the... Man, if I get rid of this throwing up, it'd be better. Yeah. I can't imagine that's comfortable. No, it's not. What do you do for work? Oh, I'm retired. Yeah, but you don't mind me asking your age. How old are you? What do you do for work? Oh, I'm retired. Oh. Yeah. If you don't mind me asking your age, how old are you? 55. 55... That's nice, that's early. You're retired? What did you before that? I worked for General Motors. Oh yeah, Chimbley Live.? I worked for General Motors. On the assembly line. Oh, I'm a Ford guy. Sorry. That's okay. Just gonna take a look. Deep breath. Okay. No back pain? No. Just lower back from the... Yeah. Okay Okay Okay Okay Okay Okay Okay Okay Okay Okay Okay Okay Okay Okay Okay Okay Okay Okay Okay Okay Okay Okay Okay Okay Yeah. Okay. And then if you don't mind at this point, I'll have you lay back on the table. Alright. We'll do an abdominal exam. Alright First, if don' mind, we're going to lift up your tap. Just look. That's fine. Okay. Alright. Let's take a listen. Do a little palpation, tell me if you feel anything, okay? Alright. Any pain? Nope. Pain? Nope? Any painting? Nope! Pain here? Nope Alright, Mr. Pribbleton, why don't you sit back up. Alright. And if you would like to feel more comfortable you can stay seated there or go back to the chair, whichever one you prefer. Well. You don t have to worry, it might be something serious. Alright well, that s never all the way off the table, but I can certainly say when it's further down on the table. Let's just go over real quickly what I think you might have and what could be causing these symptoms. Okay. The way you describe your vomiting, sounds like it's not getting very far down your digestive tract so that makes me start to think of things that are closer to the stomach in a song place and it is possible some people over time they can get that constriction of their esophagus which makes it less uh dilated I guess for food to pass through and so we can do something it's called a barium swallow study and we would just look at to make sure that your esopagus goes all the way down to your stomach and that there's no problems there another option although it likely you could have an obstruction CT scan of your out just to see if there's anything any masses or changes that could be blocking that from your side and then something else if we still can't figure out what's going on we could also do an endoscopy where GI doctors would put a camera down your throat just see it there any any ulcers or concerning changes but your lack of fevers and other symptoms make me think that this is either something to do with the digestive tract or make quick viral gastric viral bug okay Oh, okay. So I'm not concerned for any serious infections. Do you have any questions about that? No, I guess not. Okay. I just want to get it taken care of so I don't feel better. So most likely it could resolve on its own, but we're going to do those tests to make sure that it's not anything else that could Be alarming good. Does that sound like a plan that you're you bet comfortable with sure Paul through that? Yeah. Oh, yeah Do you have any questions? I? Guess not Okay, get this done today. Thank you. Thank You. It was good to see you! Okay, take care. I'm going to put it in the fridge with a spoon. I'll try it. I can't eat this. I have to do it again. I will try again with my hands. I don't know if I should do this or not. I think I did it right. I ate it all. I was hungry. I want to go to the bathroom. I need to take a shower. I am hungry, too. I feel like I've been eating too much. I eat I'm going to go ahead and do that. so so Thank you. Learners, your time is up. Please exit your patient station. Log into SimIQ using your UT credentials. Okay. Thank you.\n"
     ]
    }
   ],
   "source": [
    "transcript = read_transcript_from_id(transcript_id)\n",
    "print(transcript)\n",
    "\n",
    "diarized_transcript = '/archive/shared/sim_center/shared/annie/GPT4 3-chunk/'\n",
    "id = '10_0991_331330'\n",
    "def reconstruct_transcript(path, id): \n",
    "    transcript = ''\n",
    "    path = path + id + '.txt'\n",
    "    with open(path, 'r') as file:\n",
    "        lines = file.readlines()\n",
    "    for line in lines[1:]:\n",
    "        if line != '\\n':\n",
    "            tok_line = line.split(' ')\n",
    "            for i in range(1,len(tok_line)):\n",
    "                transcript += ' ' + tok_line[i]\n",
    "    \n",
    "    resid_lines = transcript.split('\\n')\n",
    "    transcript = ''\n",
    "    for line in resid_lines:\n",
    "        transcript += line\n",
    "\n",
    "    return transcript\n"
   ]
  },
  {
   "cell_type": "code",
   "execution_count": 4,
   "metadata": {},
   "outputs": [],
   "source": [
    "def eval_transcript(ids, path):\n",
    "    scores = {}\n",
    "    for id in ids:\n",
    "        print(id)\n",
    "        transcript = read_transcript_from_id(id)\n",
    "        reconstructed_transcript = reconstruct_transcript(path, id)\n",
    "        distance = normalized_levenshtein.distance(transcript, reconstructed_transcript)\n",
    "        similarity = normalized_levenshtein.similarity(transcript, reconstructed_transcript)\n",
    "        scores[id] = [distance, similarity]\n",
    "    return scores"
   ]
  },
  {
   "cell_type": "code",
   "execution_count": 15,
   "metadata": {},
   "outputs": [
    {
     "name": "stdout",
     "output_type": "stream",
     "text": [
      "10_0991_331330\n"
     ]
    },
    {
     "name": "stdout",
     "output_type": "stream",
     "text": [
      "10_0991_331330\n"
     ]
    }
   ],
   "source": [
    "this_id = ['10_0991_331330']\n",
    "diar_path = '/archive/shared/sim_center/shared/annie/claude/'\n",
    "claude_score = eval_transcript(this_id, diar_path)\n",
    "diar_path='/archive/shared/sim_center/shared/annie/GPT4 3-chunk/'\n",
    "gpt4_score = eval_transcript(this_id, diar_path)"
   ]
  },
  {
   "cell_type": "code",
   "execution_count": 16,
   "metadata": {},
   "outputs": [
    {
     "data": {
      "text/plain": [
       "{'10_0991_331330': [0.018380394246137452, 0.9816196057538625]}"
      ]
     },
     "execution_count": 16,
     "metadata": {},
     "output_type": "execute_result"
    }
   ],
   "source": [
    "claude_score"
   ]
  },
  {
   "cell_type": "code",
   "execution_count": 17,
   "metadata": {},
   "outputs": [
    {
     "data": {
      "text/plain": [
       "{'10_0991_331330': [0.06513052743740011, 0.9348694725625999]}"
      ]
     },
     "execution_count": 17,
     "metadata": {},
     "output_type": "execute_result"
    }
   ],
   "source": [
    "gpt4_score"
   ]
  },
  {
   "cell_type": "code",
   "execution_count": 6,
   "metadata": {},
   "outputs": [],
   "source": [
    "ids = ['01_0542_298135',\n",
    "'02_0036_174595',\n",
    "'03_0028_174553',\n",
    "'04_0043_174686',\n",
    "'05_0033_174804',\n",
    "'06_0079_175106',\n",
    "'07_0068_174641',\n",
    "'08_0029_174576',\n",
    "'09_0029_174582',\n",
    "'10_0991_331330']\n",
    "\n",
    "gpt35_path = '/archive/shared/sim_center/shared/annie/GPT3.5 complete/'\n",
    "mixtral_path = '/archive/shared/sim_center/shared/annie/mixtral/'\n",
    "gpt4_path = '/archive/shared/sim_center/shared/annie/GPT4 complete (json split)/'\n",
    "gpt4_3chunk = '/archive/shared/sim_center/shared/annie/GPT4 3-chunk/'\n",
    "gpt4_6chunk = '/archive/shared/sim_center/shared/annie/GPT4 6-chunk/'\n",
    "gpt4_9chunk = '/archive/shared/sim_center/shared/annie/GPT4 9-chunk/'"
   ]
  },
  {
   "cell_type": "code",
   "execution_count": null,
   "metadata": {},
   "outputs": [],
   "source": [
    "#CSV OUTPUTS FROM THIS SAVED IN FOLDER\n",
    "\n",
    "reconstructed = reconstruct_transcript(diarized_transcript, id)\n",
    "reconstructed\n",
    "normalized_levenshtein.distance(transcript, reconstructed)\n",
    "normalized_levenshtein.similarity(transcript, reconstructed)\n",
    "normalized_levenshtein.distance(transcript, transcript)\n",
    "\n",
    "#Run for all IDs\n",
    "# IDs for the test/sample transcripts\n",
    "\n",
    "    \n",
    "gpt4_init = eval_transcript(ids, gpt4_path)\n",
    "gpt4_df = pd.DataFrame(gpt4_init)\n",
    "gpt4_df.to_csv(\"gpt4_init.csv\")\n",
    "mixtral_init = eval_transcript(ids, mixtral_path)\n",
    "pd.DataFrame(mixtral_init).to_csv(\"mixtral_init.csv\")\n",
    "gpt35_init = eval_transcript(ids, gpt35_path)\n",
    "pd.DataFrame(gpt35_init).to_csv(\"gpt35_init.csv\")\n",
    "gpt4_dists = []\n",
    "gpt35_dists = []\n",
    "mixtral_dists = []\n",
    "gpt4_sim = []\n",
    "gpt35_sim = []\n",
    "mixtral_sim = []\n",
    "\n",
    "for id in ids:\n",
    "    gpt4_sim.append(gpt4_init[id][1])\n",
    "    gpt4_dists.append(gpt4_init[id][0])\n",
    "    gpt35_sim.append(gpt35_init[id][1])\n",
    "    gpt35_dists.append(gpt35_init[id][0])\n",
    "    mixtral_sim.append(mixtral_init[id][1])\n",
    "    mixtral_dists.append(mixtral_init[id][0])\n",
    "\n",
    "gpt4_sim\n",
    "columns = ['COSCE ID', 'gpt4 sim', 'gpt4 dist', 'gpt35 sim', 'gpt35 dist', 'mixtral sim', 'mixtral dist']\n",
    "all_df = pd.DataFrame(zip(ids, gpt4_sim, gpt4_dists, gpt35_sim, gpt35_dists, mixtral_sim, mixtral_dists), columns=columns)\n",
    "all_df\n",
    "all_df.to_csv(\"levenshtein_gpt4_35_mixtral.csv\")\n",
    "\n",
    "import matplotlib.pyplot as plt\n",
    "import numpy as np\n",
    "avg_dists = [np.mean(gpt4_dists), np.mean(gpt35_dists), np.mean(mixtral_dists)]\n",
    "avg_sim = [np.mean(gpt4_sim), np.mean(gpt35_sim), np.mean(mixtral_sim)]\n",
    "models = ['gpt4', 'gpt35', 'mixtral']\n",
    "plt.bar(models, avg_dists)\n",
    "plt.ylim(0, 1)\n",
    "plt.title(\"normalized levenshtein distance\")\n",
    "plt.show()\n",
    "\n",
    "plt.bar(models, avg_sim)\n",
    "plt.ylim(0, 1)\n",
    "plt.title(\"normalized levenshtein similarity\")\n",
    "plt.show()"
   ]
  },
  {
   "cell_type": "markdown",
   "metadata": {},
   "source": [
    "Running for different chunk sizes"
   ]
  },
  {
   "cell_type": "code",
   "execution_count": 7,
   "metadata": {},
   "outputs": [
    {
     "name": "stdout",
     "output_type": "stream",
     "text": [
      "01_0542_298135\n",
      "02_0036_174595\n",
      "03_0028_174553\n",
      "04_0043_174686\n",
      "05_0033_174804\n",
      "06_0079_175106\n",
      "07_0068_174641\n",
      "08_0029_174576\n",
      "09_0029_174582\n",
      "10_0991_331330\n",
      "01_0542_298135\n",
      "02_0036_174595\n",
      "03_0028_174553\n",
      "04_0043_174686\n",
      "05_0033_174804\n",
      "06_0079_175106\n",
      "07_0068_174641\n",
      "08_0029_174576\n",
      "09_0029_174582\n",
      "10_0991_331330\n",
      "01_0542_298135\n",
      "02_0036_174595\n",
      "03_0028_174553\n",
      "04_0043_174686\n",
      "05_0033_174804\n",
      "06_0079_175106\n",
      "07_0068_174641\n",
      "08_0029_174576\n",
      "09_0029_174582\n",
      "10_0991_331330\n"
     ]
    }
   ],
   "source": [
    "gpt4_3chunk_init = eval_transcript(ids, gpt4_3chunk)\n",
    "pd.DataFrame(gpt4_3chunk_init).to_csv(\"gpt4_3chunk.csv\")\n",
    "\n",
    "gpt4_6chunk_init = eval_transcript(ids, gpt4_6chunk)\n",
    "pd.DataFrame(gpt4_6chunk_init).to_csv(\"gpt4_6chunk.csv\")\n",
    "\n",
    "gpt4_9chunk_init = eval_transcript(ids, gpt4_9chunk)\n",
    "pd.DataFrame(gpt4_9chunk_init).to_csv(\"gpt4_9chunk.csv\")"
   ]
  },
  {
   "cell_type": "code",
   "execution_count": 9,
   "metadata": {},
   "outputs": [],
   "source": [
    "dists_3chunk = []\n",
    "dists_6chunk = []\n",
    "dists_9chunk = []\n",
    "sim_3chunk = []\n",
    "sim_6chunk = []\n",
    "sim_9chunk = []\n",
    "\n",
    "for id in ids:\n",
    "    sim_3chunk.append(gpt4_3chunk_init[id][1])\n",
    "    dists_3chunk.append(gpt4_3chunk_init[id][0])\n",
    "    sim_6chunk.append(gpt4_6chunk_init[id][1])\n",
    "    dists_6chunk.append(gpt4_6chunk_init[id][0])\n",
    "    sim_9chunk.append(gpt4_9chunk_init[id][1])\n",
    "    dists_9chunk.append(gpt4_9chunk_init[id][0])\n",
    "\n",
    "columns = ['COSCE ID', '3chunk sim', '3chunk dist', '6chunk sim', '6chunk dist', '9chunk sim', '9chunk dist']\n",
    "all_chunks = pd.DataFrame(zip(ids, sim_3chunk, dists_3chunk, sim_6chunk, dists_6chunk, sim_9chunk, dists_9chunk), columns=columns)\n",
    "all_chunks.to_csv(\"levenshtein_3_6_9.csv\")"
   ]
  },
  {
   "cell_type": "code",
   "execution_count": 8,
   "metadata": {},
   "outputs": [
    {
     "name": "stdout",
     "output_type": "stream",
     "text": [
      "01_0542_298135\n",
      "02_0036_174595\n",
      "03_0028_174553\n",
      "04_0043_174686\n",
      "05_0033_174804\n",
      "06_0079_175106\n",
      "07_0068_174641\n",
      "08_0029_174576\n",
      "09_0029_174582\n",
      "10_0991_331330\n"
     ]
    }
   ],
   "source": [
    "# redo 3-chunk because there was a path mistake\n",
    "#gpt4_3chunk_init = eval_transcript(ids, gpt4_3chunk)\n",
    "#pd.DataFrame(gpt4_3chunk_init).to_csv(\"gpt4_3chunk.csv\")"
   ]
  },
  {
   "cell_type": "code",
   "execution_count": 10,
   "metadata": {},
   "outputs": [
    {
     "data": {
      "image/png": "[encoded data removed]",
      "text/plain": [
       "<Figure size 432x288 with 1 Axes>"
      ]
     },
     "metadata": {
      "needs_background": "light"
     },
     "output_type": "display_data"
    }
   ],
   "source": [
    "import matplotlib.pyplot as plt\n",
    "import numpy as np\n",
    "avg_dists = [np.mean(dists_3chunk), np.mean(dists_6chunk), np.mean(dists_9chunk)]\n",
    "avg_sim = [np.mean(sim_3chunk), np.mean(sim_6chunk), np.mean(sim_9chunk)]\n",
    "models = ['3 chunk', '6 chunk', '9 chunk']\n",
    "plt.bar(models, avg_dists)\n",
    "plt.ylim(0, 1)\n",
    "plt.title(\"normalized levenshtein distance\")\n",
    "plt.show()"
   ]
  },
  {
   "cell_type": "code",
   "execution_count": 11,
   "metadata": {},
   "outputs": [
    {
     "data": {
      "image/png": "[encoded data removed]",
      "text/plain": [
       "<Figure size 432x288 with 1 Axes>"
      ]
     },
     "metadata": {
      "needs_background": "light"
     },
     "output_type": "display_data"
    }
   ],
   "source": [
    "plt.bar(models, avg_sim)\n",
    "plt.ylim(0, 1)\n",
    "plt.title(\"normalized levenshtein similarity\")\n",
    "plt.show()"
   ]
  }
 ],
 "metadata": {
  "kernelspec": {
   "display_name": "pf",
   "language": "python",
   "name": "python3"
  },
  "language_info": {
   "codemirror_mode": {
    "name": "ipython",
    "version": 3
   },
   "file_extension": ".py",
   "mimetype": "text/x-python",
   "name": "python",
   "nbconvert_exporter": "python",
   "pygments_lexer": "ipython3",
   "version": "3.9.18"
  }
 },
 "nbformat": 4,
 "nbformat_minor": 2
}
